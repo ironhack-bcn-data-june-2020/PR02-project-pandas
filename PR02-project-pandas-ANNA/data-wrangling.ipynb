{
 "cells": [
  {
   "cell_type": "markdown",
   "metadata": {},
   "source": [
    "# *GLOBAL SHARK ATTACKS*\n",
    "\n",
    "*Questions to be answered:*\n",
    "        \n",
    "1. In which year most sharks attacks occurred\n",
    "\n",
    "2. Doing which activity most sharck attacks occurred in that year        "
   ]
  },
  {
   "cell_type": "markdown",
   "metadata": {},
   "source": [
    "# Imports"
   ]
  },
  {
   "cell_type": "markdown",
   "metadata": {},
   "source": [
    "#### General Import "
   ]
  },
  {
   "cell_type": "code",
   "execution_count": 245,
   "metadata": {},
   "outputs": [],
   "source": [
    "import pandas as pd\n",
    "import numpy as np\n",
    "import re\n",
    "from datetime import datetime, date, time"
   ]
  },
  {
   "cell_type": "markdown",
   "metadata": {},
   "source": [
    "#### Import file"
   ]
  },
  {
   "cell_type": "code",
   "execution_count": 104,
   "metadata": {},
   "outputs": [],
   "source": [
    "file=pd.read_csv(\"attacks.csv\", encoding=\"ISO-8859-1\")"
   ]
  },
  {
   "cell_type": "code",
   "execution_count": 105,
   "metadata": {
    "scrolled": true
   },
   "outputs": [
    {
     "data": {
      "text/html": [
       "<div>\n",
       "<style scoped>\n",
       "    .dataframe tbody tr th:only-of-type {\n",
       "        vertical-align: middle;\n",
       "    }\n",
       "\n",
       "    .dataframe tbody tr th {\n",
       "        vertical-align: top;\n",
       "    }\n",
       "\n",
       "    .dataframe thead th {\n",
       "        text-align: right;\n",
       "    }\n",
       "</style>\n",
       "<table border=\"1\" class=\"dataframe\">\n",
       "  <thead>\n",
       "    <tr style=\"text-align: right;\">\n",
       "      <th></th>\n",
       "      <th>Case Number</th>\n",
       "      <th>Date</th>\n",
       "      <th>Year</th>\n",
       "      <th>Type</th>\n",
       "      <th>Country</th>\n",
       "      <th>Area</th>\n",
       "      <th>Location</th>\n",
       "      <th>Activity</th>\n",
       "      <th>Name</th>\n",
       "      <th>Sex</th>\n",
       "      <th>...</th>\n",
       "      <th>Species</th>\n",
       "      <th>Investigator or Source</th>\n",
       "      <th>pdf</th>\n",
       "      <th>href formula</th>\n",
       "      <th>href</th>\n",
       "      <th>Case Number.1</th>\n",
       "      <th>Case Number.2</th>\n",
       "      <th>original order</th>\n",
       "      <th>Unnamed: 22</th>\n",
       "      <th>Unnamed: 23</th>\n",
       "    </tr>\n",
       "  </thead>\n",
       "  <tbody>\n",
       "    <tr>\n",
       "      <th>0</th>\n",
       "      <td>2018.06.25</td>\n",
       "      <td>25-Jun-2018</td>\n",
       "      <td>2018.0</td>\n",
       "      <td>Boating</td>\n",
       "      <td>USA</td>\n",
       "      <td>California</td>\n",
       "      <td>Oceanside, San Diego County</td>\n",
       "      <td>Paddling</td>\n",
       "      <td>Julie Wolfe</td>\n",
       "      <td>F</td>\n",
       "      <td>...</td>\n",
       "      <td>White shark</td>\n",
       "      <td>R. Collier, GSAF</td>\n",
       "      <td>2018.06.25-Wolfe.pdf</td>\n",
       "      <td>http://sharkattackfile.net/spreadsheets/pdf_di...</td>\n",
       "      <td>http://sharkattackfile.net/spreadsheets/pdf_di...</td>\n",
       "      <td>2018.06.25</td>\n",
       "      <td>2018.06.25</td>\n",
       "      <td>6303.0</td>\n",
       "      <td>NaN</td>\n",
       "      <td>NaN</td>\n",
       "    </tr>\n",
       "    <tr>\n",
       "      <th>1</th>\n",
       "      <td>2018.06.18</td>\n",
       "      <td>18-Jun-2018</td>\n",
       "      <td>2018.0</td>\n",
       "      <td>Unprovoked</td>\n",
       "      <td>USA</td>\n",
       "      <td>Georgia</td>\n",
       "      <td>St. Simon Island, Glynn County</td>\n",
       "      <td>Standing</td>\n",
       "      <td>Adyson McNeely</td>\n",
       "      <td>F</td>\n",
       "      <td>...</td>\n",
       "      <td>NaN</td>\n",
       "      <td>K.McMurray, TrackingSharks.com</td>\n",
       "      <td>2018.06.18-McNeely.pdf</td>\n",
       "      <td>http://sharkattackfile.net/spreadsheets/pdf_di...</td>\n",
       "      <td>http://sharkattackfile.net/spreadsheets/pdf_di...</td>\n",
       "      <td>2018.06.18</td>\n",
       "      <td>2018.06.18</td>\n",
       "      <td>6302.0</td>\n",
       "      <td>NaN</td>\n",
       "      <td>NaN</td>\n",
       "    </tr>\n",
       "    <tr>\n",
       "      <th>2</th>\n",
       "      <td>2018.06.09</td>\n",
       "      <td>09-Jun-2018</td>\n",
       "      <td>2018.0</td>\n",
       "      <td>Invalid</td>\n",
       "      <td>USA</td>\n",
       "      <td>Hawaii</td>\n",
       "      <td>Habush, Oahu</td>\n",
       "      <td>Surfing</td>\n",
       "      <td>John Denges</td>\n",
       "      <td>M</td>\n",
       "      <td>...</td>\n",
       "      <td>NaN</td>\n",
       "      <td>K.McMurray, TrackingSharks.com</td>\n",
       "      <td>2018.06.09-Denges.pdf</td>\n",
       "      <td>http://sharkattackfile.net/spreadsheets/pdf_di...</td>\n",
       "      <td>http://sharkattackfile.net/spreadsheets/pdf_di...</td>\n",
       "      <td>2018.06.09</td>\n",
       "      <td>2018.06.09</td>\n",
       "      <td>6301.0</td>\n",
       "      <td>NaN</td>\n",
       "      <td>NaN</td>\n",
       "    </tr>\n",
       "  </tbody>\n",
       "</table>\n",
       "<p>3 rows × 24 columns</p>\n",
       "</div>"
      ],
      "text/plain": [
       "  Case Number         Date    Year        Type Country        Area  \\\n",
       "0  2018.06.25  25-Jun-2018  2018.0     Boating     USA  California   \n",
       "1  2018.06.18  18-Jun-2018  2018.0  Unprovoked     USA     Georgia   \n",
       "2  2018.06.09  09-Jun-2018  2018.0     Invalid     USA      Hawaii   \n",
       "\n",
       "                         Location  Activity             Name Sex   ...  \\\n",
       "0     Oceanside, San Diego County  Paddling      Julie Wolfe    F  ...   \n",
       "1  St. Simon Island, Glynn County  Standing  Adyson McNeely     F  ...   \n",
       "2                    Habush, Oahu   Surfing      John Denges    M  ...   \n",
       "\n",
       "      Species           Investigator or Source                     pdf  \\\n",
       "0  White shark                R. Collier, GSAF    2018.06.25-Wolfe.pdf   \n",
       "1          NaN  K.McMurray, TrackingSharks.com  2018.06.18-McNeely.pdf   \n",
       "2          NaN  K.McMurray, TrackingSharks.com   2018.06.09-Denges.pdf   \n",
       "\n",
       "                                        href formula  \\\n",
       "0  http://sharkattackfile.net/spreadsheets/pdf_di...   \n",
       "1  http://sharkattackfile.net/spreadsheets/pdf_di...   \n",
       "2  http://sharkattackfile.net/spreadsheets/pdf_di...   \n",
       "\n",
       "                                                href Case Number.1  \\\n",
       "0  http://sharkattackfile.net/spreadsheets/pdf_di...    2018.06.25   \n",
       "1  http://sharkattackfile.net/spreadsheets/pdf_di...    2018.06.18   \n",
       "2  http://sharkattackfile.net/spreadsheets/pdf_di...    2018.06.09   \n",
       "\n",
       "  Case Number.2 original order Unnamed: 22 Unnamed: 23  \n",
       "0    2018.06.25         6303.0         NaN         NaN  \n",
       "1    2018.06.18         6302.0         NaN         NaN  \n",
       "2    2018.06.09         6301.0         NaN         NaN  \n",
       "\n",
       "[3 rows x 24 columns]"
      ]
     },
     "execution_count": 105,
     "metadata": {},
     "output_type": "execute_result"
    }
   ],
   "source": [
    "file.head(3)"
   ]
  },
  {
   "cell_type": "markdown",
   "metadata": {},
   "source": [
    "#### Save new csv file (readable) and import file"
   ]
  },
  {
   "cell_type": "code",
   "execution_count": 106,
   "metadata": {},
   "outputs": [],
   "source": [
    "#Guardamos un nuevo csv para asegurar que podemos abrirlo desde el pc como csv.\n",
    "file.to_csv(\"attacks_data.csv\", index=False)"
   ]
  },
  {
   "cell_type": "code",
   "execution_count": 107,
   "metadata": {},
   "outputs": [],
   "source": [
    "#Creamos dataframe nuevo para utilizar durante el proyecto\n",
    "data=pd.read_csv(\"attacks_data.csv\", encoding=\"ISO-8859-1\")"
   ]
  },
  {
   "cell_type": "markdown",
   "metadata": {},
   "source": [
    "# Data Cleaning"
   ]
  },
  {
   "cell_type": "markdown",
   "metadata": {},
   "source": [
    "### Eliminating Duplicates, NaN & usless Columns&Rows "
   ]
  },
  {
   "cell_type": "code",
   "execution_count": 108,
   "metadata": {},
   "outputs": [
    {
     "data": {
      "text/plain": [
       "(25723, 24)"
      ]
     },
     "execution_count": 108,
     "metadata": {},
     "output_type": "execute_result"
    }
   ],
   "source": [
    "#miramos la shape del dataframe\n",
    "data.shape"
   ]
  },
  {
   "cell_type": "markdown",
   "metadata": {},
   "source": [
    "##### Eliminating usless Columns&Rows "
   ]
  },
  {
   "cell_type": "code",
   "execution_count": 109,
   "metadata": {},
   "outputs": [
    {
     "data": {
      "text/plain": [
       "Index(['Case Number', 'Date', 'Year', 'Type', 'Country', 'Area', 'Location',\n",
       "       'Activity', 'Name', 'Sex ', 'Age', 'Injury', 'Fatal (Y/N)', 'Time',\n",
       "       'Species ', 'Investigator or Source', 'pdf', 'href formula', 'href',\n",
       "       'Case Number.1', 'Case Number.2', 'original order', 'Unnamed: 22',\n",
       "       'Unnamed: 23'],\n",
       "      dtype='object')"
      ]
     },
     "execution_count": 109,
     "metadata": {},
     "output_type": "execute_result"
    }
   ],
   "source": [
    "#visualización de todas las columnas \n",
    "data.columns"
   ]
  },
  {
   "cell_type": "code",
   "execution_count": 110,
   "metadata": {},
   "outputs": [],
   "source": [
    "#eliminación de las columnas que carecen de valor en nuestro analisis\n",
    "data.drop(columns=['Case Number','Name','Investigator or Source', 'href formula', 'href','original order', 'Unnamed: 22',\n",
    "       'Unnamed: 23', 'pdf','Area','Age','Sex ','Location','Case Number.1', 'Case Number.2','Species ','Time','Country'], inplace=True)"
   ]
  },
  {
   "cell_type": "code",
   "execution_count": 111,
   "metadata": {},
   "outputs": [
    {
     "data": {
      "text/html": [
       "<div>\n",
       "<style scoped>\n",
       "    .dataframe tbody tr th:only-of-type {\n",
       "        vertical-align: middle;\n",
       "    }\n",
       "\n",
       "    .dataframe tbody tr th {\n",
       "        vertical-align: top;\n",
       "    }\n",
       "\n",
       "    .dataframe thead th {\n",
       "        text-align: right;\n",
       "    }\n",
       "</style>\n",
       "<table border=\"1\" class=\"dataframe\">\n",
       "  <thead>\n",
       "    <tr style=\"text-align: right;\">\n",
       "      <th></th>\n",
       "      <th>Date</th>\n",
       "      <th>Year</th>\n",
       "      <th>Type</th>\n",
       "      <th>Activity</th>\n",
       "      <th>Injury</th>\n",
       "      <th>Fatal (Y/N)</th>\n",
       "    </tr>\n",
       "  </thead>\n",
       "  <tbody>\n",
       "    <tr>\n",
       "      <th>0</th>\n",
       "      <td>25-Jun-2018</td>\n",
       "      <td>2018.0</td>\n",
       "      <td>Boating</td>\n",
       "      <td>Paddling</td>\n",
       "      <td>No injury to occupant, outrigger canoe and pad...</td>\n",
       "      <td>N</td>\n",
       "    </tr>\n",
       "    <tr>\n",
       "      <th>1</th>\n",
       "      <td>18-Jun-2018</td>\n",
       "      <td>2018.0</td>\n",
       "      <td>Unprovoked</td>\n",
       "      <td>Standing</td>\n",
       "      <td>Minor injury to left thigh</td>\n",
       "      <td>N</td>\n",
       "    </tr>\n",
       "    <tr>\n",
       "      <th>2</th>\n",
       "      <td>09-Jun-2018</td>\n",
       "      <td>2018.0</td>\n",
       "      <td>Invalid</td>\n",
       "      <td>Surfing</td>\n",
       "      <td>Injury to left lower leg from surfboard skeg</td>\n",
       "      <td>N</td>\n",
       "    </tr>\n",
       "  </tbody>\n",
       "</table>\n",
       "</div>"
      ],
      "text/plain": [
       "          Date    Year        Type  Activity  \\\n",
       "0  25-Jun-2018  2018.0     Boating  Paddling   \n",
       "1  18-Jun-2018  2018.0  Unprovoked  Standing   \n",
       "2  09-Jun-2018  2018.0     Invalid   Surfing   \n",
       "\n",
       "                                              Injury Fatal (Y/N)  \n",
       "0  No injury to occupant, outrigger canoe and pad...           N  \n",
       "1                         Minor injury to left thigh           N  \n",
       "2       Injury to left lower leg from surfboard skeg           N  "
      ]
     },
     "execution_count": 111,
     "metadata": {},
     "output_type": "execute_result"
    }
   ],
   "source": [
    "#comprobación\n",
    "data.head(3)"
   ]
  },
  {
   "cell_type": "markdown",
   "metadata": {},
   "source": [
    "##### Eliminating Nan Values"
   ]
  },
  {
   "cell_type": "code",
   "execution_count": 112,
   "metadata": {},
   "outputs": [
    {
     "data": {
      "text/plain": [
       "Date           19421\n",
       "Year           19423\n",
       "Type           19425\n",
       "Activity       19965\n",
       "Injury         19449\n",
       "Fatal (Y/N)    19960\n",
       "dtype: int64"
      ]
     },
     "execution_count": 112,
     "metadata": {},
     "output_type": "execute_result"
    }
   ],
   "source": [
    "#Miramos cantidad de valores nulos\n",
    "data.isnull().sum()"
   ]
  },
  {
   "cell_type": "code",
   "execution_count": 113,
   "metadata": {},
   "outputs": [],
   "source": [
    "#eliminación valores NaN de las filas que tienes todos sus valores como NaN\n",
    "#Consideré que si más de 1/3 de la fila compelta era NaN no me servía\n",
    "data.dropna(axis=0, how=\"any\", thresh=3, inplace=True)"
   ]
  },
  {
   "cell_type": "code",
   "execution_count": 114,
   "metadata": {},
   "outputs": [
    {
     "data": {
      "text/plain": [
       "Date             0\n",
       "Year             2\n",
       "Type             4\n",
       "Activity       544\n",
       "Injury          28\n",
       "Fatal (Y/N)    539\n",
       "dtype: int64"
      ]
     },
     "execution_count": 114,
     "metadata": {},
     "output_type": "execute_result"
    }
   ],
   "source": [
    "#Miramos cantidad de valores nulos quedan ahora\n",
    "data.isnull().sum()"
   ]
  },
  {
   "cell_type": "code",
   "execution_count": 115,
   "metadata": {},
   "outputs": [
    {
     "data": {
      "text/plain": [
       "(6302, 6)"
      ]
     },
     "execution_count": 115,
     "metadata": {},
     "output_type": "execute_result"
    }
   ],
   "source": [
    "#verificación que el shape ya es menor eliminando los valores nulos\n",
    "data.shape"
   ]
  },
  {
   "cell_type": "code",
   "execution_count": 116,
   "metadata": {},
   "outputs": [
    {
     "data": {
      "text/html": [
       "<div>\n",
       "<style scoped>\n",
       "    .dataframe tbody tr th:only-of-type {\n",
       "        vertical-align: middle;\n",
       "    }\n",
       "\n",
       "    .dataframe tbody tr th {\n",
       "        vertical-align: top;\n",
       "    }\n",
       "\n",
       "    .dataframe thead th {\n",
       "        text-align: right;\n",
       "    }\n",
       "</style>\n",
       "<table border=\"1\" class=\"dataframe\">\n",
       "  <thead>\n",
       "    <tr style=\"text-align: right;\">\n",
       "      <th></th>\n",
       "      <th>Date</th>\n",
       "      <th>Year</th>\n",
       "      <th>Type</th>\n",
       "      <th>Activity</th>\n",
       "      <th>Injury</th>\n",
       "      <th>Fatal (Y/N)</th>\n",
       "    </tr>\n",
       "  </thead>\n",
       "  <tbody>\n",
       "    <tr>\n",
       "      <th>0</th>\n",
       "      <td>25-Jun-2018</td>\n",
       "      <td>2018.0</td>\n",
       "      <td>Boating</td>\n",
       "      <td>Paddling</td>\n",
       "      <td>No injury to occupant, outrigger canoe and pad...</td>\n",
       "      <td>N</td>\n",
       "    </tr>\n",
       "    <tr>\n",
       "      <th>1</th>\n",
       "      <td>18-Jun-2018</td>\n",
       "      <td>2018.0</td>\n",
       "      <td>Unprovoked</td>\n",
       "      <td>Standing</td>\n",
       "      <td>Minor injury to left thigh</td>\n",
       "      <td>N</td>\n",
       "    </tr>\n",
       "    <tr>\n",
       "      <th>2</th>\n",
       "      <td>09-Jun-2018</td>\n",
       "      <td>2018.0</td>\n",
       "      <td>Invalid</td>\n",
       "      <td>Surfing</td>\n",
       "      <td>Injury to left lower leg from surfboard skeg</td>\n",
       "      <td>N</td>\n",
       "    </tr>\n",
       "    <tr>\n",
       "      <th>3</th>\n",
       "      <td>08-Jun-2018</td>\n",
       "      <td>2018.0</td>\n",
       "      <td>Unprovoked</td>\n",
       "      <td>Surfing</td>\n",
       "      <td>Minor injury to lower leg</td>\n",
       "      <td>N</td>\n",
       "    </tr>\n",
       "    <tr>\n",
       "      <th>4</th>\n",
       "      <td>04-Jun-2018</td>\n",
       "      <td>2018.0</td>\n",
       "      <td>Provoked</td>\n",
       "      <td>Free diving</td>\n",
       "      <td>Lacerations to leg &amp; hand shark PROVOKED INCIDENT</td>\n",
       "      <td>N</td>\n",
       "    </tr>\n",
       "    <tr>\n",
       "      <th>...</th>\n",
       "      <td>...</td>\n",
       "      <td>...</td>\n",
       "      <td>...</td>\n",
       "      <td>...</td>\n",
       "      <td>...</td>\n",
       "      <td>...</td>\n",
       "    </tr>\n",
       "    <tr>\n",
       "      <th>6297</th>\n",
       "      <td>Before 1903</td>\n",
       "      <td>0.0</td>\n",
       "      <td>Unprovoked</td>\n",
       "      <td>Diving</td>\n",
       "      <td>FATAL</td>\n",
       "      <td>Y</td>\n",
       "    </tr>\n",
       "    <tr>\n",
       "      <th>6298</th>\n",
       "      <td>Before 1903</td>\n",
       "      <td>0.0</td>\n",
       "      <td>Unprovoked</td>\n",
       "      <td>Pearl diving</td>\n",
       "      <td>FATAL</td>\n",
       "      <td>Y</td>\n",
       "    </tr>\n",
       "    <tr>\n",
       "      <th>6299</th>\n",
       "      <td>1900-1905</td>\n",
       "      <td>0.0</td>\n",
       "      <td>Unprovoked</td>\n",
       "      <td>Swimming</td>\n",
       "      <td>FATAL</td>\n",
       "      <td>Y</td>\n",
       "    </tr>\n",
       "    <tr>\n",
       "      <th>6300</th>\n",
       "      <td>1883-1889</td>\n",
       "      <td>0.0</td>\n",
       "      <td>Unprovoked</td>\n",
       "      <td>NaN</td>\n",
       "      <td>FATAL</td>\n",
       "      <td>Y</td>\n",
       "    </tr>\n",
       "    <tr>\n",
       "      <th>6301</th>\n",
       "      <td>1845-1853</td>\n",
       "      <td>0.0</td>\n",
       "      <td>Unprovoked</td>\n",
       "      <td>Swimming</td>\n",
       "      <td>FATAL. \"Shark bit him in half, carrying away t...</td>\n",
       "      <td>Y</td>\n",
       "    </tr>\n",
       "  </tbody>\n",
       "</table>\n",
       "<p>6302 rows × 6 columns</p>\n",
       "</div>"
      ],
      "text/plain": [
       "             Date    Year        Type      Activity  \\\n",
       "0     25-Jun-2018  2018.0     Boating      Paddling   \n",
       "1     18-Jun-2018  2018.0  Unprovoked      Standing   \n",
       "2     09-Jun-2018  2018.0     Invalid       Surfing   \n",
       "3     08-Jun-2018  2018.0  Unprovoked       Surfing   \n",
       "4     04-Jun-2018  2018.0    Provoked   Free diving   \n",
       "...           ...     ...         ...           ...   \n",
       "6297  Before 1903     0.0  Unprovoked        Diving   \n",
       "6298  Before 1903     0.0  Unprovoked  Pearl diving   \n",
       "6299    1900-1905     0.0  Unprovoked      Swimming   \n",
       "6300    1883-1889     0.0  Unprovoked           NaN   \n",
       "6301    1845-1853     0.0  Unprovoked      Swimming   \n",
       "\n",
       "                                                 Injury Fatal (Y/N)  \n",
       "0     No injury to occupant, outrigger canoe and pad...           N  \n",
       "1                            Minor injury to left thigh           N  \n",
       "2          Injury to left lower leg from surfboard skeg           N  \n",
       "3                             Minor injury to lower leg           N  \n",
       "4     Lacerations to leg & hand shark PROVOKED INCIDENT           N  \n",
       "...                                                 ...         ...  \n",
       "6297                                              FATAL           Y  \n",
       "6298                                              FATAL           Y  \n",
       "6299                                              FATAL           Y  \n",
       "6300                                              FATAL           Y  \n",
       "6301  FATAL. \"Shark bit him in half, carrying away t...           Y  \n",
       "\n",
       "[6302 rows x 6 columns]"
      ]
     },
     "execution_count": 116,
     "metadata": {},
     "output_type": "execute_result"
    }
   ],
   "source": [
    "data"
   ]
  },
  {
   "cell_type": "markdown",
   "metadata": {},
   "source": [
    "##### Eliminating Duplicates"
   ]
  },
  {
   "cell_type": "code",
   "execution_count": 117,
   "metadata": {},
   "outputs": [
    {
     "data": {
      "text/plain": [
       "(6302, 6)"
      ]
     },
     "execution_count": 117,
     "metadata": {},
     "output_type": "execute_result"
    }
   ],
   "source": [
    "#miramos la shape del dataframe\n",
    "data.shape"
   ]
  },
  {
   "cell_type": "code",
   "execution_count": 118,
   "metadata": {},
   "outputs": [],
   "source": [
    "#eliminación de duplicados\n",
    "data=data.drop_duplicates()"
   ]
  },
  {
   "cell_type": "code",
   "execution_count": 119,
   "metadata": {},
   "outputs": [
    {
     "data": {
      "text/plain": [
       "(6279, 6)"
      ]
     },
     "execution_count": 119,
     "metadata": {},
     "output_type": "execute_result"
    }
   ],
   "source": [
    "#verificación que el shape ya es menor eliminando los duplicados\n",
    "data.shape"
   ]
  },
  {
   "cell_type": "markdown",
   "metadata": {},
   "source": [
    "### Check if NaN values of the existing columns are interesting for our analysis"
   ]
  },
  {
   "cell_type": "markdown",
   "metadata": {},
   "source": [
    "#### Observación de valores nulos"
   ]
  },
  {
   "cell_type": "code",
   "execution_count": 120,
   "metadata": {
    "scrolled": true
   },
   "outputs": [
    {
     "data": {
      "text/plain": [
       "Date             0\n",
       "Year             2\n",
       "Type             4\n",
       "Activity       540\n",
       "Injury          28\n",
       "Fatal (Y/N)    539\n",
       "dtype: int64"
      ]
     },
     "execution_count": 120,
     "metadata": {},
     "output_type": "execute_result"
    }
   ],
   "source": [
    "data.isnull().sum()"
   ]
  },
  {
   "cell_type": "markdown",
   "metadata": {},
   "source": [
    "##### Valores nulos columna Year"
   ]
  },
  {
   "cell_type": "code",
   "execution_count": 121,
   "metadata": {},
   "outputs": [
    {
     "data": {
      "text/html": [
       "<div>\n",
       "<style scoped>\n",
       "    .dataframe tbody tr th:only-of-type {\n",
       "        vertical-align: middle;\n",
       "    }\n",
       "\n",
       "    .dataframe tbody tr th {\n",
       "        vertical-align: top;\n",
       "    }\n",
       "\n",
       "    .dataframe thead th {\n",
       "        text-align: right;\n",
       "    }\n",
       "</style>\n",
       "<table border=\"1\" class=\"dataframe\">\n",
       "  <thead>\n",
       "    <tr style=\"text-align: right;\">\n",
       "      <th></th>\n",
       "      <th>Date</th>\n",
       "      <th>Year</th>\n",
       "      <th>Type</th>\n",
       "      <th>Activity</th>\n",
       "      <th>Injury</th>\n",
       "      <th>Fatal (Y/N)</th>\n",
       "    </tr>\n",
       "  </thead>\n",
       "  <tbody>\n",
       "    <tr>\n",
       "      <th>187</th>\n",
       "      <td>Reported 08-Jan-2017</td>\n",
       "      <td>NaN</td>\n",
       "      <td>Invalid</td>\n",
       "      <td>Spearfishing</td>\n",
       "      <td>No attack, shark made a threat display</td>\n",
       "      <td>NaN</td>\n",
       "    </tr>\n",
       "    <tr>\n",
       "      <th>6079</th>\n",
       "      <td>Reported 19-Aug-1836</td>\n",
       "      <td>NaN</td>\n",
       "      <td>Unprovoked</td>\n",
       "      <td>Swimming</td>\n",
       "      <td>FATAL</td>\n",
       "      <td>Y</td>\n",
       "    </tr>\n",
       "  </tbody>\n",
       "</table>\n",
       "</div>"
      ],
      "text/plain": [
       "                      Date  Year        Type      Activity  \\\n",
       "187   Reported 08-Jan-2017   NaN     Invalid  Spearfishing   \n",
       "6079  Reported 19-Aug-1836   NaN  Unprovoked      Swimming   \n",
       "\n",
       "                                      Injury Fatal (Y/N)  \n",
       "187   No attack, shark made a threat display         NaN  \n",
       "6079                                   FATAL           Y  "
      ]
     },
     "execution_count": 121,
     "metadata": {},
     "output_type": "execute_result"
    }
   ],
   "source": [
    "#Nos interesa, lo dejamos para trabajar más adelante\n",
    "data[data[\"Year\"].isnull()]"
   ]
  },
  {
   "cell_type": "markdown",
   "metadata": {},
   "source": [
    "##### Valores nulos columna Type"
   ]
  },
  {
   "cell_type": "code",
   "execution_count": 122,
   "metadata": {
    "scrolled": true
   },
   "outputs": [
    {
     "data": {
      "text/html": [
       "<div>\n",
       "<style scoped>\n",
       "    .dataframe tbody tr th:only-of-type {\n",
       "        vertical-align: middle;\n",
       "    }\n",
       "\n",
       "    .dataframe tbody tr th {\n",
       "        vertical-align: top;\n",
       "    }\n",
       "\n",
       "    .dataframe thead th {\n",
       "        text-align: right;\n",
       "    }\n",
       "</style>\n",
       "<table border=\"1\" class=\"dataframe\">\n",
       "  <thead>\n",
       "    <tr style=\"text-align: right;\">\n",
       "      <th></th>\n",
       "      <th>Date</th>\n",
       "      <th>Year</th>\n",
       "      <th>Type</th>\n",
       "      <th>Activity</th>\n",
       "      <th>Injury</th>\n",
       "      <th>Fatal (Y/N)</th>\n",
       "    </tr>\n",
       "  </thead>\n",
       "  <tbody>\n",
       "    <tr>\n",
       "      <th>85</th>\n",
       "      <td>15-Sep-2017</td>\n",
       "      <td>2017.0</td>\n",
       "      <td>NaN</td>\n",
       "      <td>Fishing</td>\n",
       "      <td>Injuries to hands and legs</td>\n",
       "      <td>N</td>\n",
       "    </tr>\n",
       "    <tr>\n",
       "      <th>382</th>\n",
       "      <td>27-Jul-2015</td>\n",
       "      <td>2015.0</td>\n",
       "      <td>NaN</td>\n",
       "      <td>Surfing</td>\n",
       "      <td>Injury to hand</td>\n",
       "      <td>NaN</td>\n",
       "    </tr>\n",
       "    <tr>\n",
       "      <th>4867</th>\n",
       "      <td>Reported 11-Sep-1936</td>\n",
       "      <td>1936.0</td>\n",
       "      <td>NaN</td>\n",
       "      <td>Wreck of a sampam</td>\n",
       "      <td>FATAL</td>\n",
       "      <td>Y</td>\n",
       "    </tr>\n",
       "    <tr>\n",
       "      <th>5705</th>\n",
       "      <td>Reported 03-Mar-1890</td>\n",
       "      <td>1890.0</td>\n",
       "      <td>NaN</td>\n",
       "      <td>Diving</td>\n",
       "      <td>FATAL</td>\n",
       "      <td>Y</td>\n",
       "    </tr>\n",
       "  </tbody>\n",
       "</table>\n",
       "</div>"
      ],
      "text/plain": [
       "                      Date    Year Type           Activity  \\\n",
       "85             15-Sep-2017  2017.0  NaN            Fishing   \n",
       "382            27-Jul-2015  2015.0  NaN            Surfing   \n",
       "4867  Reported 11-Sep-1936  1936.0  NaN  Wreck of a sampam   \n",
       "5705  Reported 03-Mar-1890  1890.0  NaN             Diving   \n",
       "\n",
       "                          Injury Fatal (Y/N)  \n",
       "85    Injuries to hands and legs           N  \n",
       "382               Injury to hand         NaN  \n",
       "4867                       FATAL           Y  \n",
       "5705                       FATAL           Y  "
      ]
     },
     "execution_count": 122,
     "metadata": {},
     "output_type": "execute_result"
    }
   ],
   "source": [
    "#Nos interesa, lo dejamos para trabajar más adelante.\n",
    "#Además ya lo subtituimos porque vemos que el type no sería provocado \n",
    "data[data[\"Type\"].isnull()]"
   ]
  },
  {
   "cell_type": "code",
   "execution_count": 123,
   "metadata": {},
   "outputs": [
    {
     "name": "stderr",
     "output_type": "stream",
     "text": [
      "/usr/local/lib/python3.7/site-packages/pandas/core/generic.py:6245: SettingWithCopyWarning: \n",
      "A value is trying to be set on a copy of a slice from a DataFrame\n",
      "\n",
      "See the caveats in the documentation: https://pandas.pydata.org/pandas-docs/stable/user_guide/indexing.html#returning-a-view-versus-a-copy\n",
      "  self._update_inplace(new_data)\n"
     ]
    }
   ],
   "source": [
    "data[\"Type\"].fillna(\"Unprovoked\", inplace=True)"
   ]
  },
  {
   "cell_type": "markdown",
   "metadata": {},
   "source": [
    "##### Valores nulos columna Activity, Injury, Fatal (Y/N)"
   ]
  },
  {
   "cell_type": "code",
   "execution_count": 124,
   "metadata": {},
   "outputs": [],
   "source": [
    "#Activity, Injury, Fatal (Y/N) los dejamos porque nos interesará jugar con los valores nulos   "
   ]
  },
  {
   "cell_type": "markdown",
   "metadata": {},
   "source": [
    "### Reseting Index"
   ]
  },
  {
   "cell_type": "code",
   "execution_count": 125,
   "metadata": {},
   "outputs": [],
   "source": [
    "#reseteamos índice y eliminamos el anterior\n",
    "data.reset_index(drop=True, inplace=True) "
   ]
  },
  {
   "cell_type": "code",
   "execution_count": 126,
   "metadata": {},
   "outputs": [
    {
     "data": {
      "text/html": [
       "<div>\n",
       "<style scoped>\n",
       "    .dataframe tbody tr th:only-of-type {\n",
       "        vertical-align: middle;\n",
       "    }\n",
       "\n",
       "    .dataframe tbody tr th {\n",
       "        vertical-align: top;\n",
       "    }\n",
       "\n",
       "    .dataframe thead th {\n",
       "        text-align: right;\n",
       "    }\n",
       "</style>\n",
       "<table border=\"1\" class=\"dataframe\">\n",
       "  <thead>\n",
       "    <tr style=\"text-align: right;\">\n",
       "      <th></th>\n",
       "      <th>Date</th>\n",
       "      <th>Year</th>\n",
       "      <th>Type</th>\n",
       "      <th>Activity</th>\n",
       "      <th>Injury</th>\n",
       "      <th>Fatal (Y/N)</th>\n",
       "    </tr>\n",
       "  </thead>\n",
       "  <tbody>\n",
       "    <tr>\n",
       "      <th>0</th>\n",
       "      <td>25-Jun-2018</td>\n",
       "      <td>2018.0</td>\n",
       "      <td>Boating</td>\n",
       "      <td>Paddling</td>\n",
       "      <td>No injury to occupant, outrigger canoe and pad...</td>\n",
       "      <td>N</td>\n",
       "    </tr>\n",
       "    <tr>\n",
       "      <th>1</th>\n",
       "      <td>18-Jun-2018</td>\n",
       "      <td>2018.0</td>\n",
       "      <td>Unprovoked</td>\n",
       "      <td>Standing</td>\n",
       "      <td>Minor injury to left thigh</td>\n",
       "      <td>N</td>\n",
       "    </tr>\n",
       "  </tbody>\n",
       "</table>\n",
       "</div>"
      ],
      "text/plain": [
       "          Date    Year        Type  Activity  \\\n",
       "0  25-Jun-2018  2018.0     Boating  Paddling   \n",
       "1  18-Jun-2018  2018.0  Unprovoked  Standing   \n",
       "\n",
       "                                              Injury Fatal (Y/N)  \n",
       "0  No injury to occupant, outrigger canoe and pad...           N  \n",
       "1                         Minor injury to left thigh           N  "
      ]
     },
     "execution_count": 126,
     "metadata": {},
     "output_type": "execute_result"
    }
   ],
   "source": [
    "#comprobamos\n",
    "data.head(2)"
   ]
  },
  {
   "cell_type": "markdown",
   "metadata": {},
   "source": [
    "### Filling in NaN with data"
   ]
  },
  {
   "cell_type": "markdown",
   "metadata": {},
   "source": [
    "#### Observación de valores nulos"
   ]
  },
  {
   "cell_type": "code",
   "execution_count": 127,
   "metadata": {},
   "outputs": [
    {
     "data": {
      "text/plain": [
       "Date             0\n",
       "Year             2\n",
       "Type             0\n",
       "Activity       540\n",
       "Injury          28\n",
       "Fatal (Y/N)    539\n",
       "dtype: int64"
      ]
     },
     "execution_count": 127,
     "metadata": {},
     "output_type": "execute_result"
    }
   ],
   "source": [
    "#visualización de la suma de todos los valores nulos para elegir cuales limpiar\n",
    "data.isnull().sum()"
   ]
  },
  {
   "cell_type": "markdown",
   "metadata": {},
   "source": [
    "##### Filling in NaN from column \"Fatal (Y/N)\" and cleaning data from column"
   ]
  },
  {
   "cell_type": "code",
   "execution_count": 128,
   "metadata": {},
   "outputs": [
    {
     "data": {
      "text/html": [
       "<div>\n",
       "<style scoped>\n",
       "    .dataframe tbody tr th:only-of-type {\n",
       "        vertical-align: middle;\n",
       "    }\n",
       "\n",
       "    .dataframe tbody tr th {\n",
       "        vertical-align: top;\n",
       "    }\n",
       "\n",
       "    .dataframe thead th {\n",
       "        text-align: right;\n",
       "    }\n",
       "</style>\n",
       "<table border=\"1\" class=\"dataframe\">\n",
       "  <thead>\n",
       "    <tr style=\"text-align: right;\">\n",
       "      <th></th>\n",
       "      <th>Date</th>\n",
       "      <th>Year</th>\n",
       "      <th>Type</th>\n",
       "      <th>Activity</th>\n",
       "      <th>Injury</th>\n",
       "      <th>Fatal (Y/N)</th>\n",
       "    </tr>\n",
       "  </thead>\n",
       "  <tbody>\n",
       "    <tr>\n",
       "      <th>27</th>\n",
       "      <td>15-Apr-2018</td>\n",
       "      <td>2018.0</td>\n",
       "      <td>Unprovoked</td>\n",
       "      <td>Swimming</td>\n",
       "      <td>Multiple severe injuries to arms and leg, leg ...</td>\n",
       "      <td>NaN</td>\n",
       "    </tr>\n",
       "    <tr>\n",
       "      <th>76</th>\n",
       "      <td>01-Oct-2017</td>\n",
       "      <td>2017.0</td>\n",
       "      <td>Invalid</td>\n",
       "      <td>Scuba Diving</td>\n",
       "      <td>FATAL</td>\n",
       "      <td>NaN</td>\n",
       "    </tr>\n",
       "    <tr>\n",
       "      <th>79</th>\n",
       "      <td>24-Sep-2017</td>\n",
       "      <td>2017.0</td>\n",
       "      <td>Invalid</td>\n",
       "      <td>Surfing</td>\n",
       "      <td>Lacerations to right ankle, foot &amp; toe</td>\n",
       "      <td>NaN</td>\n",
       "    </tr>\n",
       "    <tr>\n",
       "      <th>84</th>\n",
       "      <td>15-Sep-2017</td>\n",
       "      <td>2017.0</td>\n",
       "      <td>Invalid</td>\n",
       "      <td>Scuba Diving</td>\n",
       "      <td>FATAL, but death was probably due to drowning</td>\n",
       "      <td>NaN</td>\n",
       "    </tr>\n",
       "    <tr>\n",
       "      <th>98</th>\n",
       "      <td>26-Aug-2017</td>\n",
       "      <td>2017.0</td>\n",
       "      <td>Invalid</td>\n",
       "      <td>Swimming</td>\n",
       "      <td>Lacerations to left foot</td>\n",
       "      <td>NaN</td>\n",
       "    </tr>\n",
       "    <tr>\n",
       "      <th>...</th>\n",
       "      <td>...</td>\n",
       "      <td>...</td>\n",
       "      <td>...</td>\n",
       "      <td>...</td>\n",
       "      <td>...</td>\n",
       "      <td>...</td>\n",
       "    </tr>\n",
       "    <tr>\n",
       "      <th>6125</th>\n",
       "      <td>1767</td>\n",
       "      <td>1767.0</td>\n",
       "      <td>Invalid</td>\n",
       "      <td>Bathing</td>\n",
       "      <td>Lacerations to arm &amp; leg</td>\n",
       "      <td>NaN</td>\n",
       "    </tr>\n",
       "    <tr>\n",
       "      <th>6135</th>\n",
       "      <td>1733</td>\n",
       "      <td>1733.0</td>\n",
       "      <td>Invalid</td>\n",
       "      <td>NaN</td>\n",
       "      <td>Partial hominid remains recovered from shark, ...</td>\n",
       "      <td>NaN</td>\n",
       "    </tr>\n",
       "    <tr>\n",
       "      <th>6136</th>\n",
       "      <td>1723</td>\n",
       "      <td>1723.0</td>\n",
       "      <td>Unprovoked</td>\n",
       "      <td>NaN</td>\n",
       "      <td>Struck on thigh</td>\n",
       "      <td>NaN</td>\n",
       "    </tr>\n",
       "    <tr>\n",
       "      <th>6142</th>\n",
       "      <td>Late 1600s Reported 1728</td>\n",
       "      <td>1642.0</td>\n",
       "      <td>Invalid</td>\n",
       "      <td>Went overboard</td>\n",
       "      <td>FATAL</td>\n",
       "      <td>NaN</td>\n",
       "    </tr>\n",
       "    <tr>\n",
       "      <th>6210</th>\n",
       "      <td>No date, Before 1963</td>\n",
       "      <td>0.0</td>\n",
       "      <td>Invalid</td>\n",
       "      <td>Diving</td>\n",
       "      <td>A 4.3 m [14'] shark made threat display. No in...</td>\n",
       "      <td>NaN</td>\n",
       "    </tr>\n",
       "  </tbody>\n",
       "</table>\n",
       "<p>539 rows × 6 columns</p>\n",
       "</div>"
      ],
      "text/plain": [
       "                          Date    Year        Type        Activity  \\\n",
       "27                 15-Apr-2018  2018.0  Unprovoked        Swimming   \n",
       "76                 01-Oct-2017  2017.0     Invalid    Scuba Diving   \n",
       "79                 24-Sep-2017  2017.0     Invalid         Surfing   \n",
       "84                 15-Sep-2017  2017.0     Invalid    Scuba Diving   \n",
       "98                 26-Aug-2017  2017.0     Invalid        Swimming   \n",
       "...                        ...     ...         ...             ...   \n",
       "6125                      1767  1767.0     Invalid         Bathing   \n",
       "6135                      1733  1733.0     Invalid             NaN   \n",
       "6136                      1723  1723.0  Unprovoked             NaN   \n",
       "6142  Late 1600s Reported 1728  1642.0     Invalid  Went overboard   \n",
       "6210      No date, Before 1963     0.0     Invalid          Diving   \n",
       "\n",
       "                                                 Injury Fatal (Y/N)  \n",
       "27    Multiple severe injuries to arms and leg, leg ...         NaN  \n",
       "76                                                FATAL         NaN  \n",
       "79               Lacerations to right ankle, foot & toe         NaN  \n",
       "84        FATAL, but death was probably due to drowning         NaN  \n",
       "98                             Lacerations to left foot         NaN  \n",
       "...                                                 ...         ...  \n",
       "6125                           Lacerations to arm & leg         NaN  \n",
       "6135  Partial hominid remains recovered from shark, ...         NaN  \n",
       "6136                                    Struck on thigh         NaN  \n",
       "6142                                              FATAL         NaN  \n",
       "6210  A 4.3 m [14'] shark made threat display. No in...         NaN  \n",
       "\n",
       "[539 rows x 6 columns]"
      ]
     },
     "execution_count": 128,
     "metadata": {},
     "output_type": "execute_result"
    }
   ],
   "source": [
    "#visualización de las columnas con valores nulos de la columna \"Fatal (Y/N)\" para su limpieza \n",
    "#Vemos que para muchos vaores nulos no se está seguro de haber sido un tiburón el que causó la muerte y/o heridas\n",
    "data[data[\"Fatal (Y/N)\"].isnull()]"
   ]
  },
  {
   "cell_type": "code",
   "execution_count": 129,
   "metadata": {},
   "outputs": [
    {
     "data": {
      "text/plain": [
       "0       N\n",
       "1       N\n",
       "2       N\n",
       "3       N\n",
       "4       N\n",
       "       ..\n",
       "6274    Y\n",
       "6275    Y\n",
       "6276    Y\n",
       "6277    Y\n",
       "6278    Y\n",
       "Name: Fatal (Y/N), Length: 6279, dtype: object"
      ]
     },
     "execution_count": 129,
     "metadata": {},
     "output_type": "execute_result"
    }
   ],
   "source": [
    "#Substitución de valores nulos de columna Fatal (Y/N) a N\n",
    "data[\"Fatal (Y/N)\"].fillna(\"N\")"
   ]
  },
  {
   "cell_type": "code",
   "execution_count": 130,
   "metadata": {},
   "outputs": [
    {
     "data": {
      "text/plain": [
       "[nan, 'UNKNOWN', '2017', ' N', 'Y', 'M', 'y', 'N ', 'N']"
      ]
     },
     "execution_count": 130,
     "metadata": {},
     "output_type": "execute_result"
    }
   ],
   "source": [
    "#vemos que valores hay únicos en la columna Fatal (Y/N) \n",
    "list(set(data[\"Fatal (Y/N)\"]))"
   ]
  },
  {
   "cell_type": "code",
   "execution_count": 131,
   "metadata": {},
   "outputs": [
    {
     "name": "stderr",
     "output_type": "stream",
     "text": [
      "/usr/local/lib/python3.7/site-packages/pandas/core/indexing.py:966: SettingWithCopyWarning: \n",
      "A value is trying to be set on a copy of a slice from a DataFrame.\n",
      "Try using .loc[row_indexer,col_indexer] = value instead\n",
      "\n",
      "See the caveats in the documentation: https://pandas.pydata.org/pandas-docs/stable/user_guide/indexing.html#returning-a-view-versus-a-copy\n",
      "  self.obj[item] = s\n"
     ]
    }
   ],
   "source": [
    "#igualamos \"y\" y \"Y\"\n",
    "\n",
    "data.loc[data[\"Fatal (Y/N)\"] == \"y\", \"Fatal (Y/N)\"] = \"Y\""
   ]
  },
  {
   "cell_type": "code",
   "execution_count": 132,
   "metadata": {},
   "outputs": [],
   "source": [
    "#igualamos M a N, entendiendo que fue un despiste de letra\n",
    "data.loc[data[\"Fatal (Y/N)\"] == \"M\", \"Fatal (Y/N)\"] = \"N\""
   ]
  },
  {
   "cell_type": "code",
   "execution_count": 133,
   "metadata": {},
   "outputs": [],
   "source": [
    "#igualamos \" N\" a N\n",
    "data.loc[data[\"Fatal (Y/N)\"] == \" N\", \"Fatal (Y/N)\"] = \"N\""
   ]
  },
  {
   "cell_type": "code",
   "execution_count": 134,
   "metadata": {},
   "outputs": [],
   "source": [
    "#igualamos \"N \" a N\n",
    "data.loc[data[\"Fatal (Y/N)\"] == \"N \", \"Fatal (Y/N)\"] = \"N\""
   ]
  },
  {
   "cell_type": "code",
   "execution_count": 135,
   "metadata": {
    "scrolled": true
   },
   "outputs": [
    {
     "data": {
      "text/html": [
       "<div>\n",
       "<style scoped>\n",
       "    .dataframe tbody tr th:only-of-type {\n",
       "        vertical-align: middle;\n",
       "    }\n",
       "\n",
       "    .dataframe tbody tr th {\n",
       "        vertical-align: top;\n",
       "    }\n",
       "\n",
       "    .dataframe thead th {\n",
       "        text-align: right;\n",
       "    }\n",
       "</style>\n",
       "<table border=\"1\" class=\"dataframe\">\n",
       "  <thead>\n",
       "    <tr style=\"text-align: right;\">\n",
       "      <th></th>\n",
       "      <th>Date</th>\n",
       "      <th>Year</th>\n",
       "      <th>Type</th>\n",
       "      <th>Activity</th>\n",
       "      <th>Injury</th>\n",
       "      <th>Fatal (Y/N)</th>\n",
       "    </tr>\n",
       "  </thead>\n",
       "  <tbody>\n",
       "    <tr>\n",
       "      <th>785</th>\n",
       "      <td>10-Jun-2012</td>\n",
       "      <td>2012.0</td>\n",
       "      <td>Provoked</td>\n",
       "      <td>Attempting to rescue an injured &amp; beached shark</td>\n",
       "      <td>Lower left leg injured PROVOKED ACCIDENT</td>\n",
       "      <td>2017</td>\n",
       "    </tr>\n",
       "  </tbody>\n",
       "</table>\n",
       "</div>"
      ],
      "text/plain": [
       "            Date    Year      Type  \\\n",
       "785  10-Jun-2012  2012.0  Provoked   \n",
       "\n",
       "                                            Activity  \\\n",
       "785  Attempting to rescue an injured & beached shark   \n",
       "\n",
       "                                       Injury Fatal (Y/N)  \n",
       "785  Lower left leg injured PROVOKED ACCIDENT        2017  "
      ]
     },
     "execution_count": 135,
     "metadata": {},
     "output_type": "execute_result"
    }
   ],
   "source": [
    "#vemos valor 2017 Y al parecer no fue fatal. substituímos valor a N\n",
    "data[data[\"Fatal (Y/N)\"]==\"2017\"]"
   ]
  },
  {
   "cell_type": "code",
   "execution_count": 136,
   "metadata": {},
   "outputs": [
    {
     "name": "stderr",
     "output_type": "stream",
     "text": [
      "/usr/local/lib/python3.7/site-packages/pandas/core/indexing.py:966: SettingWithCopyWarning: \n",
      "A value is trying to be set on a copy of a slice from a DataFrame.\n",
      "Try using .loc[row_indexer,col_indexer] = value instead\n",
      "\n",
      "See the caveats in the documentation: https://pandas.pydata.org/pandas-docs/stable/user_guide/indexing.html#returning-a-view-versus-a-copy\n",
      "  self.obj[item] = s\n"
     ]
    }
   ],
   "source": [
    "data.loc[data[\"Fatal (Y/N)\"] == \"2017\", \"Fatal (Y/N)\"] = \"N\""
   ]
  },
  {
   "cell_type": "code",
   "execution_count": 137,
   "metadata": {},
   "outputs": [
    {
     "data": {
      "text/html": [
       "<div>\n",
       "<style scoped>\n",
       "    .dataframe tbody tr th:only-of-type {\n",
       "        vertical-align: middle;\n",
       "    }\n",
       "\n",
       "    .dataframe tbody tr th {\n",
       "        vertical-align: top;\n",
       "    }\n",
       "\n",
       "    .dataframe thead th {\n",
       "        text-align: right;\n",
       "    }\n",
       "</style>\n",
       "<table border=\"1\" class=\"dataframe\">\n",
       "  <thead>\n",
       "    <tr style=\"text-align: right;\">\n",
       "      <th></th>\n",
       "      <th>Date</th>\n",
       "      <th>Year</th>\n",
       "      <th>Type</th>\n",
       "      <th>Activity</th>\n",
       "      <th>Injury</th>\n",
       "      <th>Fatal (Y/N)</th>\n",
       "    </tr>\n",
       "  </thead>\n",
       "  <tbody>\n",
       "    <tr>\n",
       "      <th>623</th>\n",
       "      <td>08-Sep-2013</td>\n",
       "      <td>2013.0</td>\n",
       "      <td>Unprovoked</td>\n",
       "      <td>NaN</td>\n",
       "      <td>No details</td>\n",
       "      <td>UNKNOWN</td>\n",
       "    </tr>\n",
       "    <tr>\n",
       "      <th>1268</th>\n",
       "      <td>20-Apr-2008</td>\n",
       "      <td>2008.0</td>\n",
       "      <td>Unprovoked</td>\n",
       "      <td>NaN</td>\n",
       "      <td>NaN</td>\n",
       "      <td>UNKNOWN</td>\n",
       "    </tr>\n",
       "    <tr>\n",
       "      <th>2248</th>\n",
       "      <td>07-Jun-1997</td>\n",
       "      <td>1997.0</td>\n",
       "      <td>Unprovoked</td>\n",
       "      <td>Bathing</td>\n",
       "      <td>NaN</td>\n",
       "      <td>UNKNOWN</td>\n",
       "    </tr>\n",
       "    <tr>\n",
       "      <th>2258</th>\n",
       "      <td>21-Feb-1997</td>\n",
       "      <td>1997.0</td>\n",
       "      <td>Unprovoked</td>\n",
       "      <td>NaN</td>\n",
       "      <td>No details</td>\n",
       "      <td>UNKNOWN</td>\n",
       "    </tr>\n",
       "    <tr>\n",
       "      <th>2265</th>\n",
       "      <td>29-Dec-1996</td>\n",
       "      <td>1996.0</td>\n",
       "      <td>Unprovoked</td>\n",
       "      <td>Surfing</td>\n",
       "      <td>NaN</td>\n",
       "      <td>UNKNOWN</td>\n",
       "    </tr>\n",
       "    <tr>\n",
       "      <th>...</th>\n",
       "      <td>...</td>\n",
       "      <td>...</td>\n",
       "      <td>...</td>\n",
       "      <td>...</td>\n",
       "      <td>...</td>\n",
       "      <td>...</td>\n",
       "    </tr>\n",
       "    <tr>\n",
       "      <th>6145</th>\n",
       "      <td>Reported 1617</td>\n",
       "      <td>1617.0</td>\n",
       "      <td>Unprovoked</td>\n",
       "      <td>NaN</td>\n",
       "      <td>NaN</td>\n",
       "      <td>UNKNOWN</td>\n",
       "    </tr>\n",
       "    <tr>\n",
       "      <th>6147</th>\n",
       "      <td>1595</td>\n",
       "      <td>1595.0</td>\n",
       "      <td>Unprovoked</td>\n",
       "      <td>Ship lay at anchor &amp; man was working on its ru...</td>\n",
       "      <td>Leg severed mid-thigh, hand severed, arm above...</td>\n",
       "      <td>UNKNOWN</td>\n",
       "    </tr>\n",
       "    <tr>\n",
       "      <th>6149</th>\n",
       "      <td>1555</td>\n",
       "      <td>1555.0</td>\n",
       "      <td>Unprovoked</td>\n",
       "      <td>Swimming</td>\n",
       "      <td>NaN</td>\n",
       "      <td>UNKNOWN</td>\n",
       "    </tr>\n",
       "    <tr>\n",
       "      <th>6150</th>\n",
       "      <td>Ca. 1554</td>\n",
       "      <td>1554.0</td>\n",
       "      <td>Unprovoked</td>\n",
       "      <td>NaN</td>\n",
       "      <td>NaN</td>\n",
       "      <td>UNKNOWN</td>\n",
       "    </tr>\n",
       "    <tr>\n",
       "      <th>6255</th>\n",
       "      <td>Before 1927</td>\n",
       "      <td>0.0</td>\n",
       "      <td>Unprovoked</td>\n",
       "      <td>NaN</td>\n",
       "      <td>NaN</td>\n",
       "      <td>UNKNOWN</td>\n",
       "    </tr>\n",
       "  </tbody>\n",
       "</table>\n",
       "<p>70 rows × 6 columns</p>\n",
       "</div>"
      ],
      "text/plain": [
       "               Date    Year        Type  \\\n",
       "623     08-Sep-2013  2013.0  Unprovoked   \n",
       "1268    20-Apr-2008  2008.0  Unprovoked   \n",
       "2248    07-Jun-1997  1997.0  Unprovoked   \n",
       "2258    21-Feb-1997  1997.0  Unprovoked   \n",
       "2265    29-Dec-1996  1996.0  Unprovoked   \n",
       "...             ...     ...         ...   \n",
       "6145  Reported 1617  1617.0  Unprovoked   \n",
       "6147           1595  1595.0  Unprovoked   \n",
       "6149           1555  1555.0  Unprovoked   \n",
       "6150       Ca. 1554  1554.0  Unprovoked   \n",
       "6255    Before 1927     0.0  Unprovoked   \n",
       "\n",
       "                                               Activity  \\\n",
       "623                                                 NaN   \n",
       "1268                                                NaN   \n",
       "2248                                            Bathing   \n",
       "2258                                                NaN   \n",
       "2265                                            Surfing   \n",
       "...                                                 ...   \n",
       "6145                                                NaN   \n",
       "6147  Ship lay at anchor & man was working on its ru...   \n",
       "6149                                           Swimming   \n",
       "6150                                                NaN   \n",
       "6255                                                NaN   \n",
       "\n",
       "                                                 Injury Fatal (Y/N)  \n",
       "623                                          No details     UNKNOWN  \n",
       "1268                                                NaN     UNKNOWN  \n",
       "2248                                                NaN     UNKNOWN  \n",
       "2258                                         No details     UNKNOWN  \n",
       "2265                                                NaN     UNKNOWN  \n",
       "...                                                 ...         ...  \n",
       "6145                                                NaN     UNKNOWN  \n",
       "6147  Leg severed mid-thigh, hand severed, arm above...     UNKNOWN  \n",
       "6149                                                NaN     UNKNOWN  \n",
       "6150                                                NaN     UNKNOWN  \n",
       "6255                                                NaN     UNKNOWN  \n",
       "\n",
       "[70 rows x 6 columns]"
      ]
     },
     "execution_count": 137,
     "metadata": {},
     "output_type": "execute_result"
    }
   ],
   "source": [
    "#vemos que casi no hay data de ninguna columna si filtramos por unknown=columna Fatal (Y/N)\n",
    "#así que decido eliminarlos\n",
    "data[data[\"Fatal (Y/N)\"]==\"UNKNOWN\"]"
   ]
  },
  {
   "cell_type": "code",
   "execution_count": 138,
   "metadata": {},
   "outputs": [
    {
     "name": "stderr",
     "output_type": "stream",
     "text": [
      "/usr/local/lib/python3.7/site-packages/pandas/core/frame.py:3997: SettingWithCopyWarning: \n",
      "A value is trying to be set on a copy of a slice from a DataFrame\n",
      "\n",
      "See the caveats in the documentation: https://pandas.pydata.org/pandas-docs/stable/user_guide/indexing.html#returning-a-view-versus-a-copy\n",
      "  errors=errors,\n"
     ]
    }
   ],
   "source": [
    "data.drop(data[data[\"Fatal (Y/N)\"]==\"UNKNOWN\"].index, inplace=True)"
   ]
  },
  {
   "cell_type": "code",
   "execution_count": 139,
   "metadata": {},
   "outputs": [
    {
     "data": {
      "text/plain": [
       "(6209, 6)"
      ]
     },
     "execution_count": 139,
     "metadata": {},
     "output_type": "execute_result"
    }
   ],
   "source": [
    "#comprombamos cambios\n",
    "data.shape"
   ]
  },
  {
   "cell_type": "code",
   "execution_count": 140,
   "metadata": {},
   "outputs": [
    {
     "data": {
      "text/plain": [
       "[nan, 'N', 'Y']"
      ]
     },
     "execution_count": 140,
     "metadata": {},
     "output_type": "execute_result"
    }
   ],
   "source": [
    "#comprombamos cambios\n",
    "list(set(data[\"Fatal (Y/N)\"]))"
   ]
  },
  {
   "cell_type": "code",
   "execution_count": 141,
   "metadata": {},
   "outputs": [
    {
     "data": {
      "text/html": [
       "<div>\n",
       "<style scoped>\n",
       "    .dataframe tbody tr th:only-of-type {\n",
       "        vertical-align: middle;\n",
       "    }\n",
       "\n",
       "    .dataframe tbody tr th {\n",
       "        vertical-align: top;\n",
       "    }\n",
       "\n",
       "    .dataframe thead th {\n",
       "        text-align: right;\n",
       "    }\n",
       "</style>\n",
       "<table border=\"1\" class=\"dataframe\">\n",
       "  <thead>\n",
       "    <tr style=\"text-align: right;\">\n",
       "      <th></th>\n",
       "      <th>Date</th>\n",
       "      <th>Year</th>\n",
       "      <th>Type</th>\n",
       "      <th>Activity</th>\n",
       "      <th>Injury</th>\n",
       "      <th>Fatal (Y/N)</th>\n",
       "    </tr>\n",
       "  </thead>\n",
       "  <tbody>\n",
       "    <tr>\n",
       "      <th>27</th>\n",
       "      <td>15-Apr-2018</td>\n",
       "      <td>2018.0</td>\n",
       "      <td>Unprovoked</td>\n",
       "      <td>Swimming</td>\n",
       "      <td>Multiple severe injuries to arms and leg, leg ...</td>\n",
       "      <td>NaN</td>\n",
       "    </tr>\n",
       "    <tr>\n",
       "      <th>76</th>\n",
       "      <td>01-Oct-2017</td>\n",
       "      <td>2017.0</td>\n",
       "      <td>Invalid</td>\n",
       "      <td>Scuba Diving</td>\n",
       "      <td>FATAL</td>\n",
       "      <td>NaN</td>\n",
       "    </tr>\n",
       "    <tr>\n",
       "      <th>79</th>\n",
       "      <td>24-Sep-2017</td>\n",
       "      <td>2017.0</td>\n",
       "      <td>Invalid</td>\n",
       "      <td>Surfing</td>\n",
       "      <td>Lacerations to right ankle, foot &amp; toe</td>\n",
       "      <td>NaN</td>\n",
       "    </tr>\n",
       "    <tr>\n",
       "      <th>84</th>\n",
       "      <td>15-Sep-2017</td>\n",
       "      <td>2017.0</td>\n",
       "      <td>Invalid</td>\n",
       "      <td>Scuba Diving</td>\n",
       "      <td>FATAL, but death was probably due to drowning</td>\n",
       "      <td>NaN</td>\n",
       "    </tr>\n",
       "    <tr>\n",
       "      <th>98</th>\n",
       "      <td>26-Aug-2017</td>\n",
       "      <td>2017.0</td>\n",
       "      <td>Invalid</td>\n",
       "      <td>Swimming</td>\n",
       "      <td>Lacerations to left foot</td>\n",
       "      <td>NaN</td>\n",
       "    </tr>\n",
       "    <tr>\n",
       "      <th>107</th>\n",
       "      <td>29-Jul-2017</td>\n",
       "      <td>2017.0</td>\n",
       "      <td>Invalid</td>\n",
       "      <td>Swimming</td>\n",
       "      <td>Abrasions and cuts to sole of foot</td>\n",
       "      <td>NaN</td>\n",
       "    </tr>\n",
       "    <tr>\n",
       "      <th>115</th>\n",
       "      <td>20-Jul-2017</td>\n",
       "      <td>2017.0</td>\n",
       "      <td>Invalid</td>\n",
       "      <td>Swimming</td>\n",
       "      <td>Foot injured</td>\n",
       "      <td>NaN</td>\n",
       "    </tr>\n",
       "    <tr>\n",
       "      <th>124</th>\n",
       "      <td>02-Jul-2017</td>\n",
       "      <td>2017.0</td>\n",
       "      <td>Invalid</td>\n",
       "      <td>Fishing</td>\n",
       "      <td>Skull found in shark, a probable drowning &amp; sc...</td>\n",
       "      <td>NaN</td>\n",
       "    </tr>\n",
       "    <tr>\n",
       "      <th>125</th>\n",
       "      <td>29-Jun-2017</td>\n",
       "      <td>2017.0</td>\n",
       "      <td>Invalid</td>\n",
       "      <td>Fishing</td>\n",
       "      <td>Arm injured by hook, not by a shark</td>\n",
       "      <td>NaN</td>\n",
       "    </tr>\n",
       "    <tr>\n",
       "      <th>145</th>\n",
       "      <td>03-May-2017</td>\n",
       "      <td>2017.0</td>\n",
       "      <td>Invalid</td>\n",
       "      <td>Surfing</td>\n",
       "      <td>Laceration to thigh, likely caused by surfboar...</td>\n",
       "      <td>NaN</td>\n",
       "    </tr>\n",
       "    <tr>\n",
       "      <th>151</th>\n",
       "      <td>26-Apr-2017</td>\n",
       "      <td>2017.0</td>\n",
       "      <td>Invalid</td>\n",
       "      <td>Photo shoot</td>\n",
       "      <td>Alleged laceration to left ankle</td>\n",
       "      <td>NaN</td>\n",
       "    </tr>\n",
       "    <tr>\n",
       "      <th>153</th>\n",
       "      <td>20-Apr-2017</td>\n",
       "      <td>2017.0</td>\n",
       "      <td>Invalid</td>\n",
       "      <td>Swimming</td>\n",
       "      <td>Laceration &amp; puncture wounds to left foot</td>\n",
       "      <td>NaN</td>\n",
       "    </tr>\n",
       "    <tr>\n",
       "      <th>159</th>\n",
       "      <td>12-Apr-2017</td>\n",
       "      <td>2017.0</td>\n",
       "      <td>Invalid</td>\n",
       "      <td>Scuba Diving</td>\n",
       "      <td>Fatal, coroner unable to determine if the dive...</td>\n",
       "      <td>NaN</td>\n",
       "    </tr>\n",
       "    <tr>\n",
       "      <th>187</th>\n",
       "      <td>Reported 08-Jan-2017</td>\n",
       "      <td>NaN</td>\n",
       "      <td>Invalid</td>\n",
       "      <td>Spearfishing</td>\n",
       "      <td>No attack, shark made a threat display</td>\n",
       "      <td>NaN</td>\n",
       "    </tr>\n",
       "    <tr>\n",
       "      <th>189</th>\n",
       "      <td>03-Jan-2017</td>\n",
       "      <td>2017.0</td>\n",
       "      <td>Invalid</td>\n",
       "      <td>Wading</td>\n",
       "      <td>Minor injuries to foot &amp; toes</td>\n",
       "      <td>NaN</td>\n",
       "    </tr>\n",
       "    <tr>\n",
       "      <th>195</th>\n",
       "      <td>11-Dec-2016</td>\n",
       "      <td>2016.0</td>\n",
       "      <td>Invalid</td>\n",
       "      <td>Surfing</td>\n",
       "      <td>Cuts to right ankle &amp; foot</td>\n",
       "      <td>NaN</td>\n",
       "    </tr>\n",
       "    <tr>\n",
       "      <th>206</th>\n",
       "      <td>13-Oct-2016</td>\n",
       "      <td>2016.0</td>\n",
       "      <td>Invalid</td>\n",
       "      <td>Cage Diving</td>\n",
       "      <td>Shark breached cage, no injury to diver</td>\n",
       "      <td>NaN</td>\n",
       "    </tr>\n",
       "    <tr>\n",
       "      <th>226</th>\n",
       "      <td>Sep-2016</td>\n",
       "      <td>2016.0</td>\n",
       "      <td>Invalid</td>\n",
       "      <td>Cage Diving</td>\n",
       "      <td>No injury to divers, white shark breached cage</td>\n",
       "      <td>NaN</td>\n",
       "    </tr>\n",
       "    <tr>\n",
       "      <th>265</th>\n",
       "      <td>07-Jun-2016</td>\n",
       "      <td>2016.0</td>\n",
       "      <td>Invalid</td>\n",
       "      <td>Surfing</td>\n",
       "      <td>No injury, board damaged</td>\n",
       "      <td>NaN</td>\n",
       "    </tr>\n",
       "    <tr>\n",
       "      <th>269</th>\n",
       "      <td>02-Jun-2016</td>\n",
       "      <td>2016.0</td>\n",
       "      <td>Unprovoked</td>\n",
       "      <td>Spearfishing</td>\n",
       "      <td>No injury, but sharks repeatedly hit their fin...</td>\n",
       "      <td>NaN</td>\n",
       "    </tr>\n",
       "    <tr>\n",
       "      <th>289</th>\n",
       "      <td>08-Apr-2016</td>\n",
       "      <td>2016.0</td>\n",
       "      <td>Invalid</td>\n",
       "      <td>NaN</td>\n",
       "      <td>\"Serious\"</td>\n",
       "      <td>NaN</td>\n",
       "    </tr>\n",
       "    <tr>\n",
       "      <th>291</th>\n",
       "      <td>07-Apr-2016</td>\n",
       "      <td>2016.0</td>\n",
       "      <td>Invalid</td>\n",
       "      <td>SUP</td>\n",
       "      <td>Fell off board when spinner shark leapt from t...</td>\n",
       "      <td>NaN</td>\n",
       "    </tr>\n",
       "    <tr>\n",
       "      <th>294</th>\n",
       "      <td>28-Mar-2016</td>\n",
       "      <td>2016.0</td>\n",
       "      <td>Unprovoked</td>\n",
       "      <td>NaN</td>\n",
       "      <td>Minor injury to arm. Possibly caused by smalll...</td>\n",
       "      <td>NaN</td>\n",
       "    </tr>\n",
       "    <tr>\n",
       "      <th>297</th>\n",
       "      <td>13-Mar-2016</td>\n",
       "      <td>2016.0</td>\n",
       "      <td>Invalid</td>\n",
       "      <td>Surfing</td>\n",
       "      <td>Board reportedly bumped by shark. No injury</td>\n",
       "      <td>NaN</td>\n",
       "    </tr>\n",
       "    <tr>\n",
       "      <th>306</th>\n",
       "      <td>Reported 10-Feb-2016</td>\n",
       "      <td>2016.0</td>\n",
       "      <td>Invalid</td>\n",
       "      <td>Feeding stingrays?</td>\n",
       "      <td>Minor injury to wrist from Southern stingray</td>\n",
       "      <td>NaN</td>\n",
       "    </tr>\n",
       "    <tr>\n",
       "      <th>307</th>\n",
       "      <td>10-Feb-2016</td>\n",
       "      <td>2016.0</td>\n",
       "      <td>Invalid</td>\n",
       "      <td>Surfing</td>\n",
       "      <td>No injury, knocked off board</td>\n",
       "      <td>NaN</td>\n",
       "    </tr>\n",
       "    <tr>\n",
       "      <th>334</th>\n",
       "      <td>07-Nov-2015</td>\n",
       "      <td>2015.0</td>\n",
       "      <td>Invalid</td>\n",
       "      <td>Surfing</td>\n",
       "      <td>Lower left leg injured</td>\n",
       "      <td>NaN</td>\n",
       "    </tr>\n",
       "    <tr>\n",
       "      <th>344</th>\n",
       "      <td>17-Oct-2015</td>\n",
       "      <td>2015.0</td>\n",
       "      <td>Invalid</td>\n",
       "      <td>Surfing</td>\n",
       "      <td>Left foot bitten by eel</td>\n",
       "      <td>NaN</td>\n",
       "    </tr>\n",
       "    <tr>\n",
       "      <th>373</th>\n",
       "      <td>22-Aug-2015</td>\n",
       "      <td>2015.0</td>\n",
       "      <td>Invalid</td>\n",
       "      <td>NaN</td>\n",
       "      <td>Wound to right lower leg</td>\n",
       "      <td>NaN</td>\n",
       "    </tr>\n",
       "    <tr>\n",
       "      <th>378</th>\n",
       "      <td>18-Aug-2015</td>\n",
       "      <td>2015.0</td>\n",
       "      <td>Invalid</td>\n",
       "      <td>Swimming</td>\n",
       "      <td>Minor injury when he attempted to touch a fish.</td>\n",
       "      <td>NaN</td>\n",
       "    </tr>\n",
       "    <tr>\n",
       "      <th>382</th>\n",
       "      <td>27-Jul-2015</td>\n",
       "      <td>2015.0</td>\n",
       "      <td>Unprovoked</td>\n",
       "      <td>Surfing</td>\n",
       "      <td>Injury to hand</td>\n",
       "      <td>NaN</td>\n",
       "    </tr>\n",
       "    <tr>\n",
       "      <th>384</th>\n",
       "      <td>26-Jul-2015</td>\n",
       "      <td>2015.0</td>\n",
       "      <td>Invalid</td>\n",
       "      <td>Floating</td>\n",
       "      <td>2' cut to dorsum of foot, 2 puncture wounds to...</td>\n",
       "      <td>NaN</td>\n",
       "    </tr>\n",
       "    <tr>\n",
       "      <th>391</th>\n",
       "      <td>08-Jul-2015</td>\n",
       "      <td>2015.0</td>\n",
       "      <td>Invalid</td>\n",
       "      <td>Treading water</td>\n",
       "      <td>Laceration to back</td>\n",
       "      <td>NaN</td>\n",
       "    </tr>\n",
       "    <tr>\n",
       "      <th>392</th>\n",
       "      <td>06-Jul-2015</td>\n",
       "      <td>2015.0</td>\n",
       "      <td>Invalid</td>\n",
       "      <td>Swimming</td>\n",
       "      <td>Parallel lacerations to torso inconsistent wit...</td>\n",
       "      <td>NaN</td>\n",
       "    </tr>\n",
       "    <tr>\n",
       "      <th>402</th>\n",
       "      <td>26-Jun-2015</td>\n",
       "      <td>2015.0</td>\n",
       "      <td>Invalid</td>\n",
       "      <td>Swimming</td>\n",
       "      <td>Minor lacerations to leg</td>\n",
       "      <td>NaN</td>\n",
       "    </tr>\n",
       "    <tr>\n",
       "      <th>437</th>\n",
       "      <td>29-Mar-2015</td>\n",
       "      <td>2015.0</td>\n",
       "      <td>Invalid</td>\n",
       "      <td>Diving</td>\n",
       "      <td>FATAL, but shark involvement prior to death un...</td>\n",
       "      <td>NaN</td>\n",
       "    </tr>\n",
       "    <tr>\n",
       "      <th>438</th>\n",
       "      <td>31-Mar-2015</td>\n",
       "      <td>2015.0</td>\n",
       "      <td>Invalid</td>\n",
       "      <td>Surfing</td>\n",
       "      <td>Injury to left thigh from unidentified species...</td>\n",
       "      <td>NaN</td>\n",
       "    </tr>\n",
       "    <tr>\n",
       "      <th>456</th>\n",
       "      <td>19-Jan-2015</td>\n",
       "      <td>2015.0</td>\n",
       "      <td>Invalid</td>\n",
       "      <td>Surfing &amp; filming dolphins</td>\n",
       "      <td>Board snapped in two</td>\n",
       "      <td>NaN</td>\n",
       "    </tr>\n",
       "    <tr>\n",
       "      <th>459</th>\n",
       "      <td>08-Jan-2015</td>\n",
       "      <td>2015.0</td>\n",
       "      <td>Invalid</td>\n",
       "      <td>Swimming after falling overboard</td>\n",
       "      <td>During his 16-hour swim to shore, he was circl...</td>\n",
       "      <td>NaN</td>\n",
       "    </tr>\n",
       "    <tr>\n",
       "      <th>466</th>\n",
       "      <td>28-Dec-2014</td>\n",
       "      <td>2014.0</td>\n",
       "      <td>Invalid</td>\n",
       "      <td>Swimming</td>\n",
       "      <td>Minor cuts on feet</td>\n",
       "      <td>NaN</td>\n",
       "    </tr>\n",
       "    <tr>\n",
       "      <th>498</th>\n",
       "      <td>13-Sep-2014</td>\n",
       "      <td>2014.0</td>\n",
       "      <td>Invalid</td>\n",
       "      <td>Surfing</td>\n",
       "      <td>A hoax, no shark involvement</td>\n",
       "      <td>NaN</td>\n",
       "    </tr>\n",
       "    <tr>\n",
       "      <th>506</th>\n",
       "      <td>29-Aug-2014</td>\n",
       "      <td>2014.0</td>\n",
       "      <td>Invalid</td>\n",
       "      <td>NaN</td>\n",
       "      <td>Shark involvement not confirmed</td>\n",
       "      <td>NaN</td>\n",
       "    </tr>\n",
       "    <tr>\n",
       "      <th>524</th>\n",
       "      <td>Aug-2014</td>\n",
       "      <td>2014.0</td>\n",
       "      <td>Invalid</td>\n",
       "      <td>Sea disaster</td>\n",
       "      <td>Shark involvement prior to death not confirmed</td>\n",
       "      <td>NaN</td>\n",
       "    </tr>\n",
       "    <tr>\n",
       "      <th>531</th>\n",
       "      <td>13-Jul-2014</td>\n",
       "      <td>2014.0</td>\n",
       "      <td>Invalid</td>\n",
       "      <td>Shark diving</td>\n",
       "      <td>Missing after a dive, shark involvement consid...</td>\n",
       "      <td>NaN</td>\n",
       "    </tr>\n",
       "    <tr>\n",
       "      <th>557</th>\n",
       "      <td>Reported 10-May-2014</td>\n",
       "      <td>2014.0</td>\n",
       "      <td>Invalid</td>\n",
       "      <td>Diving</td>\n",
       "      <td>No injury. No attack. 12' white shark appeared...</td>\n",
       "      <td>NaN</td>\n",
       "    </tr>\n",
       "    <tr>\n",
       "      <th>569</th>\n",
       "      <td>29-Mar-2014</td>\n",
       "      <td>2014.0</td>\n",
       "      <td>Invalid</td>\n",
       "      <td>Diving for lobsters</td>\n",
       "      <td>Shark bites may have been post mortem</td>\n",
       "      <td>NaN</td>\n",
       "    </tr>\n",
       "    <tr>\n",
       "      <th>575</th>\n",
       "      <td>18-Mar-2014</td>\n",
       "      <td>2014.0</td>\n",
       "      <td>Invalid</td>\n",
       "      <td>NaN</td>\n",
       "      <td>Injuries to wrist/hand by a mackerel, not a shark</td>\n",
       "      <td>NaN</td>\n",
       "    </tr>\n",
       "    <tr>\n",
       "      <th>577</th>\n",
       "      <td>13-Mar-2014</td>\n",
       "      <td>2014.0</td>\n",
       "      <td>Invalid</td>\n",
       "      <td>Scuba diving / culling lionfish</td>\n",
       "      <td>Caribbean reef shark buzzed him. No injury, no...</td>\n",
       "      <td>NaN</td>\n",
       "    </tr>\n",
       "    <tr>\n",
       "      <th>632</th>\n",
       "      <td>29-Aug-2013</td>\n",
       "      <td>2013.0</td>\n",
       "      <td>Invalid</td>\n",
       "      <td>Marathon swimming</td>\n",
       "      <td>Puncture wound to torso. Reported as a bite by...</td>\n",
       "      <td>NaN</td>\n",
       "    </tr>\n",
       "    <tr>\n",
       "      <th>656</th>\n",
       "      <td>07-Jul-2013</td>\n",
       "      <td>2013.0</td>\n",
       "      <td>Invalid</td>\n",
       "      <td>Swimming</td>\n",
       "      <td>Scrape to right forearm. Frennet says inflicte...</td>\n",
       "      <td>NaN</td>\n",
       "    </tr>\n",
       "  </tbody>\n",
       "</table>\n",
       "</div>"
      ],
      "text/plain": [
       "                     Date    Year        Type  \\\n",
       "27            15-Apr-2018  2018.0  Unprovoked   \n",
       "76            01-Oct-2017  2017.0     Invalid   \n",
       "79            24-Sep-2017  2017.0     Invalid   \n",
       "84            15-Sep-2017  2017.0     Invalid   \n",
       "98            26-Aug-2017  2017.0     Invalid   \n",
       "107           29-Jul-2017  2017.0     Invalid   \n",
       "115           20-Jul-2017  2017.0     Invalid   \n",
       "124           02-Jul-2017  2017.0     Invalid   \n",
       "125           29-Jun-2017  2017.0     Invalid   \n",
       "145           03-May-2017  2017.0     Invalid   \n",
       "151           26-Apr-2017  2017.0     Invalid   \n",
       "153           20-Apr-2017  2017.0     Invalid   \n",
       "159           12-Apr-2017  2017.0     Invalid   \n",
       "187  Reported 08-Jan-2017     NaN     Invalid   \n",
       "189           03-Jan-2017  2017.0     Invalid   \n",
       "195           11-Dec-2016  2016.0     Invalid   \n",
       "206           13-Oct-2016  2016.0     Invalid   \n",
       "226              Sep-2016  2016.0     Invalid   \n",
       "265           07-Jun-2016  2016.0     Invalid   \n",
       "269           02-Jun-2016  2016.0  Unprovoked   \n",
       "289           08-Apr-2016  2016.0     Invalid   \n",
       "291           07-Apr-2016  2016.0     Invalid   \n",
       "294           28-Mar-2016  2016.0  Unprovoked   \n",
       "297           13-Mar-2016  2016.0     Invalid   \n",
       "306  Reported 10-Feb-2016  2016.0     Invalid   \n",
       "307           10-Feb-2016  2016.0     Invalid   \n",
       "334           07-Nov-2015  2015.0     Invalid   \n",
       "344           17-Oct-2015  2015.0     Invalid   \n",
       "373           22-Aug-2015  2015.0     Invalid   \n",
       "378           18-Aug-2015  2015.0     Invalid   \n",
       "382           27-Jul-2015  2015.0  Unprovoked   \n",
       "384           26-Jul-2015  2015.0     Invalid   \n",
       "391           08-Jul-2015  2015.0     Invalid   \n",
       "392           06-Jul-2015  2015.0     Invalid   \n",
       "402           26-Jun-2015  2015.0     Invalid   \n",
       "437           29-Mar-2015  2015.0     Invalid   \n",
       "438           31-Mar-2015  2015.0     Invalid   \n",
       "456           19-Jan-2015  2015.0     Invalid   \n",
       "459           08-Jan-2015  2015.0     Invalid   \n",
       "466           28-Dec-2014  2014.0     Invalid   \n",
       "498           13-Sep-2014  2014.0     Invalid   \n",
       "506           29-Aug-2014  2014.0     Invalid   \n",
       "524              Aug-2014  2014.0     Invalid   \n",
       "531           13-Jul-2014  2014.0     Invalid   \n",
       "557  Reported 10-May-2014  2014.0     Invalid   \n",
       "569           29-Mar-2014  2014.0     Invalid   \n",
       "575           18-Mar-2014  2014.0     Invalid   \n",
       "577           13-Mar-2014  2014.0     Invalid   \n",
       "632           29-Aug-2013  2013.0     Invalid   \n",
       "656           07-Jul-2013  2013.0     Invalid   \n",
       "\n",
       "                             Activity  \\\n",
       "27                           Swimming   \n",
       "76                       Scuba Diving   \n",
       "79                            Surfing   \n",
       "84                       Scuba Diving   \n",
       "98                           Swimming   \n",
       "107                          Swimming   \n",
       "115                          Swimming   \n",
       "124                           Fishing   \n",
       "125                           Fishing   \n",
       "145                           Surfing   \n",
       "151                       Photo shoot   \n",
       "153                          Swimming   \n",
       "159                      Scuba Diving   \n",
       "187                      Spearfishing   \n",
       "189                            Wading   \n",
       "195                           Surfing   \n",
       "206                       Cage Diving   \n",
       "226                       Cage Diving   \n",
       "265                           Surfing   \n",
       "269                      Spearfishing   \n",
       "289                               NaN   \n",
       "291                               SUP   \n",
       "294                               NaN   \n",
       "297                           Surfing   \n",
       "306                Feeding stingrays?   \n",
       "307                           Surfing   \n",
       "334                           Surfing   \n",
       "344                           Surfing   \n",
       "373                               NaN   \n",
       "378                          Swimming   \n",
       "382                           Surfing   \n",
       "384                          Floating   \n",
       "391                    Treading water   \n",
       "392                          Swimming   \n",
       "402                          Swimming   \n",
       "437                            Diving   \n",
       "438                           Surfing   \n",
       "456        Surfing & filming dolphins   \n",
       "459  Swimming after falling overboard   \n",
       "466                          Swimming   \n",
       "498                           Surfing   \n",
       "506                               NaN   \n",
       "524                      Sea disaster   \n",
       "531                      Shark diving   \n",
       "557                            Diving   \n",
       "569               Diving for lobsters   \n",
       "575                               NaN   \n",
       "577   Scuba diving / culling lionfish   \n",
       "632                 Marathon swimming   \n",
       "656                          Swimming   \n",
       "\n",
       "                                                Injury Fatal (Y/N)  \n",
       "27   Multiple severe injuries to arms and leg, leg ...         NaN  \n",
       "76                                               FATAL         NaN  \n",
       "79              Lacerations to right ankle, foot & toe         NaN  \n",
       "84       FATAL, but death was probably due to drowning         NaN  \n",
       "98                            Lacerations to left foot         NaN  \n",
       "107                 Abrasions and cuts to sole of foot         NaN  \n",
       "115                                       Foot injured         NaN  \n",
       "124  Skull found in shark, a probable drowning & sc...         NaN  \n",
       "125                Arm injured by hook, not by a shark         NaN  \n",
       "145  Laceration to thigh, likely caused by surfboar...         NaN  \n",
       "151                   Alleged laceration to left ankle         NaN  \n",
       "153          Laceration & puncture wounds to left foot         NaN  \n",
       "159  Fatal, coroner unable to determine if the dive...         NaN  \n",
       "187             No attack, shark made a threat display         NaN  \n",
       "189                      Minor injuries to foot & toes         NaN  \n",
       "195                         Cuts to right ankle & foot         NaN  \n",
       "206            Shark breached cage, no injury to diver         NaN  \n",
       "226     No injury to divers, white shark breached cage         NaN  \n",
       "265                           No injury, board damaged         NaN  \n",
       "269  No injury, but sharks repeatedly hit their fin...         NaN  \n",
       "289                                          \"Serious\"         NaN  \n",
       "291  Fell off board when spinner shark leapt from t...         NaN  \n",
       "294  Minor injury to arm. Possibly caused by smalll...         NaN  \n",
       "297        Board reportedly bumped by shark. No injury         NaN  \n",
       "306       Minor injury to wrist from Southern stingray         NaN  \n",
       "307                       No injury, knocked off board         NaN  \n",
       "334                             Lower left leg injured         NaN  \n",
       "344                            Left foot bitten by eel         NaN  \n",
       "373                           Wound to right lower leg         NaN  \n",
       "378   Minor injury when he attempted to touch a fish.          NaN  \n",
       "382                                     Injury to hand         NaN  \n",
       "384  2' cut to dorsum of foot, 2 puncture wounds to...         NaN  \n",
       "391                                 Laceration to back         NaN  \n",
       "392  Parallel lacerations to torso inconsistent wit...         NaN  \n",
       "402                           Minor lacerations to leg         NaN  \n",
       "437  FATAL, but shark involvement prior to death un...         NaN  \n",
       "438  Injury to left thigh from unidentified species...         NaN  \n",
       "456                               Board snapped in two         NaN  \n",
       "459  During his 16-hour swim to shore, he was circl...         NaN  \n",
       "466                                 Minor cuts on feet         NaN  \n",
       "498                       A hoax, no shark involvement         NaN  \n",
       "506                    Shark involvement not confirmed         NaN  \n",
       "524     Shark involvement prior to death not confirmed         NaN  \n",
       "531  Missing after a dive, shark involvement consid...         NaN  \n",
       "557  No injury. No attack. 12' white shark appeared...         NaN  \n",
       "569              Shark bites may have been post mortem         NaN  \n",
       "575  Injuries to wrist/hand by a mackerel, not a shark         NaN  \n",
       "577  Caribbean reef shark buzzed him. No injury, no...         NaN  \n",
       "632  Puncture wound to torso. Reported as a bite by...         NaN  \n",
       "656  Scrape to right forearm. Frennet says inflicte...         NaN  "
      ]
     },
     "execution_count": 141,
     "metadata": {},
     "output_type": "execute_result"
    }
   ],
   "source": [
    "data[data[\"Fatal (Y/N)\"].isnull()].head(50)"
   ]
  },
  {
   "cell_type": "code",
   "execution_count": 142,
   "metadata": {
    "scrolled": true
   },
   "outputs": [
    {
     "name": "stderr",
     "output_type": "stream",
     "text": [
      "/usr/local/lib/python3.7/site-packages/ipykernel_launcher.py:2: SettingWithCopyWarning: \n",
      "A value is trying to be set on a copy of a slice from a DataFrame\n",
      "\n",
      "See the caveats in the documentation: https://pandas.pydata.org/pandas-docs/stable/user_guide/indexing.html#returning-a-view-versus-a-copy\n",
      "  \n"
     ]
    }
   ],
   "source": [
    "#eliminamos valores nulos porque vemos que mayoritariamente no hay información o bien no es valido ya que no parece ser resultado de un tiburón\n",
    "data.dropna(subset=[\"Fatal (Y/N)\"], inplace=True)"
   ]
  },
  {
   "cell_type": "code",
   "execution_count": 143,
   "metadata": {
    "scrolled": true
   },
   "outputs": [
    {
     "data": {
      "text/html": [
       "<div>\n",
       "<style scoped>\n",
       "    .dataframe tbody tr th:only-of-type {\n",
       "        vertical-align: middle;\n",
       "    }\n",
       "\n",
       "    .dataframe tbody tr th {\n",
       "        vertical-align: top;\n",
       "    }\n",
       "\n",
       "    .dataframe thead th {\n",
       "        text-align: right;\n",
       "    }\n",
       "</style>\n",
       "<table border=\"1\" class=\"dataframe\">\n",
       "  <thead>\n",
       "    <tr style=\"text-align: right;\">\n",
       "      <th></th>\n",
       "      <th>Date</th>\n",
       "      <th>Year</th>\n",
       "      <th>Type</th>\n",
       "      <th>Activity</th>\n",
       "      <th>Injury</th>\n",
       "      <th>Fatal (Y/N)</th>\n",
       "    </tr>\n",
       "  </thead>\n",
       "  <tbody>\n",
       "  </tbody>\n",
       "</table>\n",
       "</div>"
      ],
      "text/plain": [
       "Empty DataFrame\n",
       "Columns: [Date, Year, Type, Activity, Injury, Fatal (Y/N)]\n",
       "Index: []"
      ]
     },
     "execution_count": 143,
     "metadata": {},
     "output_type": "execute_result"
    }
   ],
   "source": [
    "#comprobación\n",
    "data[data[\"Fatal (Y/N)\"].isnull()]"
   ]
  },
  {
   "cell_type": "code",
   "execution_count": 144,
   "metadata": {},
   "outputs": [
    {
     "data": {
      "text/html": [
       "<div>\n",
       "<style scoped>\n",
       "    .dataframe tbody tr th:only-of-type {\n",
       "        vertical-align: middle;\n",
       "    }\n",
       "\n",
       "    .dataframe tbody tr th {\n",
       "        vertical-align: top;\n",
       "    }\n",
       "\n",
       "    .dataframe thead th {\n",
       "        text-align: right;\n",
       "    }\n",
       "</style>\n",
       "<table border=\"1\" class=\"dataframe\">\n",
       "  <thead>\n",
       "    <tr style=\"text-align: right;\">\n",
       "      <th></th>\n",
       "      <th>Date</th>\n",
       "      <th>Year</th>\n",
       "      <th>Type</th>\n",
       "      <th>Activity</th>\n",
       "      <th>Injury</th>\n",
       "      <th>Fatal (Y/N)</th>\n",
       "    </tr>\n",
       "  </thead>\n",
       "  <tbody>\n",
       "    <tr>\n",
       "      <th>0</th>\n",
       "      <td>25-Jun-2018</td>\n",
       "      <td>2018.0</td>\n",
       "      <td>Boating</td>\n",
       "      <td>Paddling</td>\n",
       "      <td>No injury to occupant, outrigger canoe and pad...</td>\n",
       "      <td>N</td>\n",
       "    </tr>\n",
       "    <tr>\n",
       "      <th>1</th>\n",
       "      <td>18-Jun-2018</td>\n",
       "      <td>2018.0</td>\n",
       "      <td>Unprovoked</td>\n",
       "      <td>Standing</td>\n",
       "      <td>Minor injury to left thigh</td>\n",
       "      <td>N</td>\n",
       "    </tr>\n",
       "    <tr>\n",
       "      <th>2</th>\n",
       "      <td>09-Jun-2018</td>\n",
       "      <td>2018.0</td>\n",
       "      <td>Invalid</td>\n",
       "      <td>Surfing</td>\n",
       "      <td>Injury to left lower leg from surfboard skeg</td>\n",
       "      <td>N</td>\n",
       "    </tr>\n",
       "    <tr>\n",
       "      <th>3</th>\n",
       "      <td>08-Jun-2018</td>\n",
       "      <td>2018.0</td>\n",
       "      <td>Unprovoked</td>\n",
       "      <td>Surfing</td>\n",
       "      <td>Minor injury to lower leg</td>\n",
       "      <td>N</td>\n",
       "    </tr>\n",
       "    <tr>\n",
       "      <th>4</th>\n",
       "      <td>04-Jun-2018</td>\n",
       "      <td>2018.0</td>\n",
       "      <td>Provoked</td>\n",
       "      <td>Free diving</td>\n",
       "      <td>Lacerations to leg &amp; hand shark PROVOKED INCIDENT</td>\n",
       "      <td>N</td>\n",
       "    </tr>\n",
       "    <tr>\n",
       "      <th>...</th>\n",
       "      <td>...</td>\n",
       "      <td>...</td>\n",
       "      <td>...</td>\n",
       "      <td>...</td>\n",
       "      <td>...</td>\n",
       "      <td>...</td>\n",
       "    </tr>\n",
       "    <tr>\n",
       "      <th>6274</th>\n",
       "      <td>Before 1903</td>\n",
       "      <td>0.0</td>\n",
       "      <td>Unprovoked</td>\n",
       "      <td>Diving</td>\n",
       "      <td>FATAL</td>\n",
       "      <td>Y</td>\n",
       "    </tr>\n",
       "    <tr>\n",
       "      <th>6275</th>\n",
       "      <td>Before 1903</td>\n",
       "      <td>0.0</td>\n",
       "      <td>Unprovoked</td>\n",
       "      <td>Pearl diving</td>\n",
       "      <td>FATAL</td>\n",
       "      <td>Y</td>\n",
       "    </tr>\n",
       "    <tr>\n",
       "      <th>6276</th>\n",
       "      <td>1900-1905</td>\n",
       "      <td>0.0</td>\n",
       "      <td>Unprovoked</td>\n",
       "      <td>Swimming</td>\n",
       "      <td>FATAL</td>\n",
       "      <td>Y</td>\n",
       "    </tr>\n",
       "    <tr>\n",
       "      <th>6277</th>\n",
       "      <td>1883-1889</td>\n",
       "      <td>0.0</td>\n",
       "      <td>Unprovoked</td>\n",
       "      <td>NaN</td>\n",
       "      <td>FATAL</td>\n",
       "      <td>Y</td>\n",
       "    </tr>\n",
       "    <tr>\n",
       "      <th>6278</th>\n",
       "      <td>1845-1853</td>\n",
       "      <td>0.0</td>\n",
       "      <td>Unprovoked</td>\n",
       "      <td>Swimming</td>\n",
       "      <td>FATAL. \"Shark bit him in half, carrying away t...</td>\n",
       "      <td>Y</td>\n",
       "    </tr>\n",
       "  </tbody>\n",
       "</table>\n",
       "<p>5670 rows × 6 columns</p>\n",
       "</div>"
      ],
      "text/plain": [
       "             Date    Year        Type      Activity  \\\n",
       "0     25-Jun-2018  2018.0     Boating      Paddling   \n",
       "1     18-Jun-2018  2018.0  Unprovoked      Standing   \n",
       "2     09-Jun-2018  2018.0     Invalid       Surfing   \n",
       "3     08-Jun-2018  2018.0  Unprovoked       Surfing   \n",
       "4     04-Jun-2018  2018.0    Provoked   Free diving   \n",
       "...           ...     ...         ...           ...   \n",
       "6274  Before 1903     0.0  Unprovoked        Diving   \n",
       "6275  Before 1903     0.0  Unprovoked  Pearl diving   \n",
       "6276    1900-1905     0.0  Unprovoked      Swimming   \n",
       "6277    1883-1889     0.0  Unprovoked           NaN   \n",
       "6278    1845-1853     0.0  Unprovoked      Swimming   \n",
       "\n",
       "                                                 Injury Fatal (Y/N)  \n",
       "0     No injury to occupant, outrigger canoe and pad...           N  \n",
       "1                            Minor injury to left thigh           N  \n",
       "2          Injury to left lower leg from surfboard skeg           N  \n",
       "3                             Minor injury to lower leg           N  \n",
       "4     Lacerations to leg & hand shark PROVOKED INCIDENT           N  \n",
       "...                                                 ...         ...  \n",
       "6274                                              FATAL           Y  \n",
       "6275                                              FATAL           Y  \n",
       "6276                                              FATAL           Y  \n",
       "6277                                              FATAL           Y  \n",
       "6278  FATAL. \"Shark bit him in half, carrying away t...           Y  \n",
       "\n",
       "[5670 rows x 6 columns]"
      ]
     },
     "execution_count": 144,
     "metadata": {},
     "output_type": "execute_result"
    }
   ],
   "source": [
    "#comprobación\n",
    "data"
   ]
  },
  {
   "cell_type": "code",
   "execution_count": 145,
   "metadata": {},
   "outputs": [
    {
     "name": "stderr",
     "output_type": "stream",
     "text": [
      "/usr/local/lib/python3.7/site-packages/pandas/core/generic.py:6666: SettingWithCopyWarning: \n",
      "A value is trying to be set on a copy of a slice from a DataFrame.\n",
      "Try using .loc[row_indexer,col_indexer] = value instead\n",
      "\n",
      "See the caveats in the documentation: https://pandas.pydata.org/pandas-docs/stable/user_guide/indexing.html#returning-a-view-versus-a-copy\n",
      "  regex=regex,\n"
     ]
    }
   ],
   "source": [
    "#Subtituimos N/Y por 0/1 para luego hacer calculos con ellos valores\n",
    "data.replace({\"Fatal (Y/N)\": {\"Y\":1, \"N\":0}}, inplace=True)"
   ]
  },
  {
   "cell_type": "code",
   "execution_count": 146,
   "metadata": {},
   "outputs": [
    {
     "name": "stderr",
     "output_type": "stream",
     "text": [
      "/usr/local/lib/python3.7/site-packages/pandas/core/frame.py:4133: SettingWithCopyWarning: \n",
      "A value is trying to be set on a copy of a slice from a DataFrame\n",
      "\n",
      "See the caveats in the documentation: https://pandas.pydata.org/pandas-docs/stable/user_guide/indexing.html#returning-a-view-versus-a-copy\n",
      "  errors=errors,\n"
     ]
    }
   ],
   "source": [
    "#cambiamos nombre columna\n",
    "data.rename(columns = {\"Fatal (Y/N)\":\"Fatal\"}, inplace=True)"
   ]
  },
  {
   "cell_type": "markdown",
   "metadata": {},
   "source": [
    "##### Cleaning column \"Year\""
   ]
  },
  {
   "cell_type": "code",
   "execution_count": 147,
   "metadata": {},
   "outputs": [
    {
     "data": {
      "text/plain": [
       "1"
      ]
     },
     "execution_count": 147,
     "metadata": {},
     "output_type": "execute_result"
    }
   ],
   "source": [
    "data[\"Year\"].isnull().sum()"
   ]
  },
  {
   "cell_type": "code",
   "execution_count": 148,
   "metadata": {},
   "outputs": [
    {
     "name": "stderr",
     "output_type": "stream",
     "text": [
      "/usr/local/lib/python3.7/site-packages/ipykernel_launcher.py:2: SettingWithCopyWarning: \n",
      "A value is trying to be set on a copy of a slice from a DataFrame\n",
      "\n",
      "See the caveats in the documentation: https://pandas.pydata.org/pandas-docs/stable/user_guide/indexing.html#returning-a-view-versus-a-copy\n",
      "  \n"
     ]
    }
   ],
   "source": [
    "#eliminamos valores nulos porque vemos que no aporta valor (poca en información en todas las filas)\n",
    "data.dropna(subset=[\"Year\"], inplace=True)"
   ]
  },
  {
   "cell_type": "code",
   "execution_count": 149,
   "metadata": {},
   "outputs": [
    {
     "data": {
      "text/html": [
       "<div>\n",
       "<style scoped>\n",
       "    .dataframe tbody tr th:only-of-type {\n",
       "        vertical-align: middle;\n",
       "    }\n",
       "\n",
       "    .dataframe tbody tr th {\n",
       "        vertical-align: top;\n",
       "    }\n",
       "\n",
       "    .dataframe thead th {\n",
       "        text-align: right;\n",
       "    }\n",
       "</style>\n",
       "<table border=\"1\" class=\"dataframe\">\n",
       "  <thead>\n",
       "    <tr style=\"text-align: right;\">\n",
       "      <th></th>\n",
       "      <th>Date</th>\n",
       "      <th>Year</th>\n",
       "      <th>Type</th>\n",
       "      <th>Activity</th>\n",
       "      <th>Injury</th>\n",
       "      <th>Fatal</th>\n",
       "    </tr>\n",
       "  </thead>\n",
       "  <tbody>\n",
       "  </tbody>\n",
       "</table>\n",
       "</div>"
      ],
      "text/plain": [
       "Empty DataFrame\n",
       "Columns: [Date, Year, Type, Activity, Injury, Fatal]\n",
       "Index: []"
      ]
     },
     "execution_count": 149,
     "metadata": {},
     "output_type": "execute_result"
    }
   ],
   "source": [
    "#comprobamos que está eliminado\n",
    "data[data[\"Year\"].isnull()]"
   ]
  },
  {
   "cell_type": "markdown",
   "metadata": {},
   "source": [
    "##### Cleaning column \"Year\""
   ]
  },
  {
   "cell_type": "code",
   "execution_count": 150,
   "metadata": {
    "scrolled": true
   },
   "outputs": [
    {
     "data": {
      "text/plain": [
       "0       25-Jun-2018\n",
       "1       18-Jun-2018\n",
       "2       09-Jun-2018\n",
       "3       08-Jun-2018\n",
       "4       04-Jun-2018\n",
       "           ...     \n",
       "6274    Before 1903\n",
       "6275    Before 1903\n",
       "6276      1900-1905\n",
       "6277      1883-1889\n",
       "6278      1845-1853\n",
       "Name: Date, Length: 5669, dtype: object"
      ]
     },
     "execution_count": 150,
     "metadata": {},
     "output_type": "execute_result"
    }
   ],
   "source": [
    "data[\"Date\"]"
   ]
  },
  {
   "cell_type": "code",
   "execution_count": 151,
   "metadata": {},
   "outputs": [
    {
     "name": "stderr",
     "output_type": "stream",
     "text": [
      "/usr/local/lib/python3.7/site-packages/ipykernel_launcher.py:3: SettingWithCopyWarning: \n",
      "A value is trying to be set on a copy of a slice from a DataFrame.\n",
      "Try using .loc[row_indexer,col_indexer] = value instead\n",
      "\n",
      "See the caveats in the documentation: https://pandas.pydata.org/pandas-docs/stable/user_guide/indexing.html#returning-a-view-versus-a-copy\n",
      "  This is separate from the ipykernel package so we can avoid doing imports until\n"
     ]
    }
   ],
   "source": [
    "#reemplazamos \"-\" por espacios\n",
    "\n",
    "data[\"Date\"]=data[\"Date\"].str.replace(\"-\",\" \")"
   ]
  },
  {
   "cell_type": "code",
   "execution_count": 152,
   "metadata": {},
   "outputs": [
    {
     "name": "stderr",
     "output_type": "stream",
     "text": [
      "/usr/local/lib/python3.7/site-packages/ipykernel_launcher.py:1: SettingWithCopyWarning: \n",
      "A value is trying to be set on a copy of a slice from a DataFrame.\n",
      "Try using .loc[row_indexer,col_indexer] = value instead\n",
      "\n",
      "See the caveats in the documentation: https://pandas.pydata.org/pandas-docs/stable/user_guide/indexing.html#returning-a-view-versus-a-copy\n",
      "  \"\"\"Entry point for launching an IPython kernel.\n"
     ]
    }
   ],
   "source": [
    "data[\"Date\"]=data[\"Date\"].str.replace(\".\",\" \")"
   ]
  },
  {
   "cell_type": "code",
   "execution_count": 153,
   "metadata": {},
   "outputs": [
    {
     "name": "stderr",
     "output_type": "stream",
     "text": [
      "/usr/local/lib/python3.7/site-packages/ipykernel_launcher.py:2: SettingWithCopyWarning: \n",
      "A value is trying to be set on a copy of a slice from a DataFrame.\n",
      "Try using .loc[row_indexer,col_indexer] = value instead\n",
      "\n",
      "See the caveats in the documentation: https://pandas.pydata.org/pandas-docs/stable/user_guide/indexing.html#returning-a-view-versus-a-copy\n",
      "  \n"
     ]
    }
   ],
   "source": [
    "#separamos parablas por los espacios\n",
    "data[\"Date\"]=data[\"Date\"].str.split(\" \")"
   ]
  },
  {
   "cell_type": "code",
   "execution_count": 154,
   "metadata": {},
   "outputs": [
    {
     "name": "stderr",
     "output_type": "stream",
     "text": [
      "/usr/local/lib/python3.7/site-packages/ipykernel_launcher.py:2: SettingWithCopyWarning: \n",
      "A value is trying to be set on a copy of a slice from a DataFrame.\n",
      "Try using .loc[row_indexer,col_indexer] = value instead\n",
      "\n",
      "See the caveats in the documentation: https://pandas.pydata.org/pandas-docs/stable/user_guide/indexing.html#returning-a-view-versus-a-copy\n",
      "  \n"
     ]
    }
   ],
   "source": [
    "#modificamos el type de columna year a inter.\n",
    "data[\"Year\"]=data[\"Year\"].astype(\"int32\")"
   ]
  },
  {
   "cell_type": "code",
   "execution_count": 155,
   "metadata": {},
   "outputs": [
    {
     "name": "stderr",
     "output_type": "stream",
     "text": [
      "/usr/local/lib/python3.7/site-packages/ipykernel_launcher.py:2: SettingWithCopyWarning: \n",
      "A value is trying to be set on a copy of a slice from a DataFrame.\n",
      "Try using .loc[row_indexer,col_indexer] = value instead\n",
      "\n",
      "See the caveats in the documentation: https://pandas.pydata.org/pandas-docs/stable/user_guide/indexing.html#returning-a-view-versus-a-copy\n",
      "  \n"
     ]
    }
   ],
   "source": [
    "#guardamos solo el último año de columna Date\n",
    "data[\"Year\"]=data[\"Date\"].str[-1]"
   ]
  },
  {
   "cell_type": "code",
   "execution_count": 156,
   "metadata": {},
   "outputs": [
    {
     "data": {
      "text/plain": [
       "6269    1911\n",
       "6270    1862\n",
       "6271    1906\n",
       "6272    1906\n",
       "6273    1906\n",
       "6274    1903\n",
       "6275    1903\n",
       "6276    1905\n",
       "6277    1889\n",
       "6278    1853\n",
       "Name: Year, dtype: object"
      ]
     },
     "execution_count": 156,
     "metadata": {},
     "output_type": "execute_result"
    }
   ],
   "source": [
    "#comprobamos\n",
    "data[\"Year\"].tail(10)"
   ]
  },
  {
   "cell_type": "code",
   "execution_count": 157,
   "metadata": {},
   "outputs": [
    {
     "data": {
      "text/plain": [
       "0       [2018]\n",
       "1       [2018]\n",
       "2       [2018]\n",
       "3       [2018]\n",
       "4       [2018]\n",
       "         ...  \n",
       "6274    [1903]\n",
       "6275    [1903]\n",
       "6276    [1905]\n",
       "6277    [1889]\n",
       "6278    [1853]\n",
       "Name: Year, Length: 5669, dtype: object"
      ]
     },
     "execution_count": 157,
     "metadata": {},
     "output_type": "execute_result"
    }
   ],
   "source": [
    "#separamos la s del final que encontramos en algunas fechas y nos quedamos con sólo el año\n",
    "data[\"Year\"].str.split(\"s\")"
   ]
  },
  {
   "cell_type": "code",
   "execution_count": 158,
   "metadata": {},
   "outputs": [
    {
     "name": "stderr",
     "output_type": "stream",
     "text": [
      "/usr/local/lib/python3.7/site-packages/ipykernel_launcher.py:1: SettingWithCopyWarning: \n",
      "A value is trying to be set on a copy of a slice from a DataFrame.\n",
      "Try using .loc[row_indexer,col_indexer] = value instead\n",
      "\n",
      "See the caveats in the documentation: https://pandas.pydata.org/pandas-docs/stable/user_guide/indexing.html#returning-a-view-versus-a-copy\n",
      "  \"\"\"Entry point for launching an IPython kernel.\n"
     ]
    }
   ],
   "source": [
    "data[\"Year\"]=data[\"Year\"].str[0:4]"
   ]
  },
  {
   "cell_type": "code",
   "execution_count": 159,
   "metadata": {},
   "outputs": [
    {
     "data": {
      "text/plain": [
       "0       2018\n",
       "1       2018\n",
       "2       2018\n",
       "3       2018\n",
       "4       2018\n",
       "        ... \n",
       "6274    1903\n",
       "6275    1903\n",
       "6276    1905\n",
       "6277    1889\n",
       "6278    1853\n",
       "Name: Year, Length: 5669, dtype: object"
      ]
     },
     "execution_count": 159,
     "metadata": {},
     "output_type": "execute_result"
    }
   ],
   "source": [
    "#comprobamos\n",
    "data[\"Year\"]"
   ]
  },
  {
   "cell_type": "code",
   "execution_count": 216,
   "metadata": {},
   "outputs": [
    {
     "data": {
      "text/plain": [
       "array(['2018', '2017', '05', '2016', '2015', 'May2', '2014', '2013',\n",
       "       'Nov2', '2012', '2011', '', '2008', '2010', '2009', '2006', '2007',\n",
       "       'b', 'a', '2005', '2004', 'week', '2003', '2002', '2001', '2000',\n",
       "       '1999', '1998', '1997', '1996', '1995', '1984', '1994', 'Kong',\n",
       "       '1993', '1992', '1991', '1990', '1989', '1988', '1987', '1986',\n",
       "       '1985', '1983', '1982', '1981', '1980', '1979', '1978', '1977',\n",
       "       '1976', '1975', '1974', '1973', '1972', '1971', '1970', '1969',\n",
       "       '1968', '1967', '1966', '1965', '1964', '1954', '1963', '1962',\n",
       "       '1961', '1960', '1959', 'Repo', '1958', '1957', '1956', '1955',\n",
       "       '1953', '1952', '1951', '1950', '19', '1949', '1948', '1848',\n",
       "       '1947', '1946', '1945', '1944', '144', '1943', '1942', '1941',\n",
       "       '1940', '1939', 'II', '1938', '1937', 't937', '1936', '1935',\n",
       "       '1934', '1933', '1932', '1931', '1930', '1929', '1928', '1927',\n",
       "       '1926', '1925', '1924', '1923', '1922', '1921', '1920', '1919',\n",
       "       '1918', '1917', '1916', '1915', '1914', '1913', '1912', '1911',\n",
       "       '1910', '1909', '1908', '1907', '1906', '1905', '1904', '1903',\n",
       "       '1902', '1901', '1900', '1899', 'Lady', '1898', '24', 'War)',\n",
       "       '1897', 'Decp', '1896', '1895', '1894', '1893', '1892', '1891',\n",
       "       '1890', '1889', '1888', '1887', '1886', '1885', '1884', '1883',\n",
       "       '1843', '1882', '1881', '1880', '1879', '1878', '1877', '1876',\n",
       "       '1875', '1874', '1870', '1873', '1872', '1871', '1869', '1868',\n",
       "       '(?)', '1867', '1866', '1865', '1864', '1863', '1862', '1861',\n",
       "       '1860', '1859', '1858', '1857', '1856', '1855', '1853', '1854',\n",
       "       '1852', '1851', '1850', '1849', '1847', '1846', '1845', '1844',\n",
       "       'R', '1842', '1841', '1840', '1839', '1837', '1835', '1834',\n",
       "       '1832', '1831', '1830', '1829', '1828', '1827', '1826', '1820',\n",
       "       '1817', '1816', '1815', '1812', '1811', '1810', '1808', '1801',\n",
       "       '1800', '1797', '1792', '1788', '1787', '1786', '1784', '1780',\n",
       "       '1779', '1776', '1771', '1764', '1758', '1753', '1751', '1749',\n",
       "       '1748', '1742', '1738', '1721', '1703', '1700', '1642', '1580',\n",
       "       '1543', 'date', 'war\"'], dtype=object)"
      ]
     },
     "execution_count": 216,
     "metadata": {},
     "output_type": "execute_result"
    }
   ],
   "source": [
    "#Comprobamos que todos sean años, vemos que no\n",
    "data[\"Year\"].unique()"
   ]
  },
  {
   "cell_type": "code",
   "execution_count": 240,
   "metadata": {},
   "outputs": [],
   "source": [
    "##Debería hacer una función (lo haré en el futuo porque me quedé sin tiempo)##\n",
    "\n",
    "\n"
   ]
  },
  {
   "cell_type": "markdown",
   "metadata": {},
   "source": [
    "##### Creating Month column"
   ]
  },
  {
   "cell_type": "code",
   "execution_count": 160,
   "metadata": {},
   "outputs": [
    {
     "data": {
      "text/plain": [
       "0       [25, Jun, 2018]\n",
       "1       [18, Jun, 2018]\n",
       "2       [09, Jun, 2018]\n",
       "3       [08, Jun, 2018]\n",
       "4       [04, Jun, 2018]\n",
       "             ...       \n",
       "6274     [Before, 1903]\n",
       "6275     [Before, 1903]\n",
       "6276       [1900, 1905]\n",
       "6277       [1883, 1889]\n",
       "6278       [1845, 1853]\n",
       "Name: Date, Length: 5669, dtype: object"
      ]
     },
     "execution_count": 160,
     "metadata": {},
     "output_type": "execute_result"
    }
   ],
   "source": [
    "data[\"Date\"]"
   ]
  },
  {
   "cell_type": "code",
   "execution_count": 161,
   "metadata": {},
   "outputs": [
    {
     "name": "stderr",
     "output_type": "stream",
     "text": [
      "/usr/local/lib/python3.7/site-packages/ipykernel_launcher.py:1: SettingWithCopyWarning: \n",
      "A value is trying to be set on a copy of a slice from a DataFrame.\n",
      "Try using .loc[row_indexer,col_indexer] = value instead\n",
      "\n",
      "See the caveats in the documentation: https://pandas.pydata.org/pandas-docs/stable/user_guide/indexing.html#returning-a-view-versus-a-copy\n",
      "  \"\"\"Entry point for launching an IPython kernel.\n"
     ]
    }
   ],
   "source": [
    "data[\"Month\"]=data[\"Date\"].str[-2]"
   ]
  },
  {
   "cell_type": "code",
   "execution_count": 162,
   "metadata": {},
   "outputs": [
    {
     "data": {
      "text/plain": [
       "0          Jun\n",
       "1          Jun\n",
       "2          Jun\n",
       "3          Jun\n",
       "4          Jun\n",
       "         ...  \n",
       "6274    Before\n",
       "6275    Before\n",
       "6276      1900\n",
       "6277      1883\n",
       "6278      1845\n",
       "Name: Month, Length: 5669, dtype: object"
      ]
     },
     "execution_count": 162,
     "metadata": {},
     "output_type": "execute_result"
    }
   ],
   "source": [
    "data[\"Month\"]"
   ]
  },
  {
   "cell_type": "code",
   "execution_count": 163,
   "metadata": {},
   "outputs": [
    {
     "name": "stderr",
     "output_type": "stream",
     "text": [
      "/usr/local/lib/python3.7/site-packages/pandas/core/generic.py:6245: SettingWithCopyWarning: \n",
      "A value is trying to be set on a copy of a slice from a DataFrame\n",
      "\n",
      "See the caveats in the documentation: https://pandas.pydata.org/pandas-docs/stable/user_guide/indexing.html#returning-a-view-versus-a-copy\n",
      "  self._update_inplace(new_data)\n"
     ]
    }
   ],
   "source": [
    "data[\"Month\"].fillna(\"Unknown\", inplace=True)"
   ]
  },
  {
   "cell_type": "code",
   "execution_count": 164,
   "metadata": {},
   "outputs": [
    {
     "name": "stderr",
     "output_type": "stream",
     "text": [
      "/usr/local/lib/python3.7/site-packages/pandas/core/generic.py:6746: SettingWithCopyWarning: \n",
      "A value is trying to be set on a copy of a slice from a DataFrame\n",
      "\n",
      "See the caveats in the documentation: https://pandas.pydata.org/pandas-docs/stable/user_guide/indexing.html#returning-a-view-versus-a-copy\n",
      "  self._update_inplace(new_data)\n"
     ]
    }
   ],
   "source": [
    "data[\"Month\"].replace([\"23\", \" \",\"Before\",\"1941\",\"1900\",\"1883\",\"1845\"], \"Unknown\", inplace=True)"
   ]
  },
  {
   "cell_type": "code",
   "execution_count": 165,
   "metadata": {},
   "outputs": [
    {
     "data": {
      "text/plain": [
       "0           Jun\n",
       "1           Jun\n",
       "2           Jun\n",
       "3           Jun\n",
       "4           Jun\n",
       "         ...   \n",
       "6274    Unknown\n",
       "6275    Unknown\n",
       "6276    Unknown\n",
       "6277    Unknown\n",
       "6278    Unknown\n",
       "Name: Month, Length: 5669, dtype: object"
      ]
     },
     "execution_count": 165,
     "metadata": {},
     "output_type": "execute_result"
    }
   ],
   "source": [
    "data[\"Month\"]"
   ]
  },
  {
   "cell_type": "code",
   "execution_count": 166,
   "metadata": {},
   "outputs": [
    {
     "data": {
      "text/html": [
       "<div>\n",
       "<style scoped>\n",
       "    .dataframe tbody tr th:only-of-type {\n",
       "        vertical-align: middle;\n",
       "    }\n",
       "\n",
       "    .dataframe tbody tr th {\n",
       "        vertical-align: top;\n",
       "    }\n",
       "\n",
       "    .dataframe thead th {\n",
       "        text-align: right;\n",
       "    }\n",
       "</style>\n",
       "<table border=\"1\" class=\"dataframe\">\n",
       "  <thead>\n",
       "    <tr style=\"text-align: right;\">\n",
       "      <th></th>\n",
       "      <th>Date</th>\n",
       "      <th>Year</th>\n",
       "      <th>Type</th>\n",
       "      <th>Activity</th>\n",
       "      <th>Injury</th>\n",
       "      <th>Fatal</th>\n",
       "      <th>Month</th>\n",
       "    </tr>\n",
       "  </thead>\n",
       "  <tbody>\n",
       "    <tr>\n",
       "      <th>6277</th>\n",
       "      <td>[1883, 1889]</td>\n",
       "      <td>1889</td>\n",
       "      <td>Unprovoked</td>\n",
       "      <td>NaN</td>\n",
       "      <td>FATAL</td>\n",
       "      <td>1</td>\n",
       "      <td>Unknown</td>\n",
       "    </tr>\n",
       "    <tr>\n",
       "      <th>6278</th>\n",
       "      <td>[1845, 1853]</td>\n",
       "      <td>1853</td>\n",
       "      <td>Unprovoked</td>\n",
       "      <td>Swimming</td>\n",
       "      <td>FATAL. \"Shark bit him in half, carrying away t...</td>\n",
       "      <td>1</td>\n",
       "      <td>Unknown</td>\n",
       "    </tr>\n",
       "  </tbody>\n",
       "</table>\n",
       "</div>"
      ],
      "text/plain": [
       "              Date  Year        Type  Activity  \\\n",
       "6277  [1883, 1889]  1889  Unprovoked       NaN   \n",
       "6278  [1845, 1853]  1853  Unprovoked  Swimming   \n",
       "\n",
       "                                                 Injury  Fatal    Month  \n",
       "6277                                              FATAL      1  Unknown  \n",
       "6278  FATAL. \"Shark bit him in half, carrying away t...      1  Unknown  "
      ]
     },
     "execution_count": 166,
     "metadata": {},
     "output_type": "execute_result"
    }
   ],
   "source": [
    "#confirmación\n",
    "data.tail(2)"
   ]
  },
  {
   "cell_type": "markdown",
   "metadata": {},
   "source": [
    "##### Cleaning column Activity"
   ]
  },
  {
   "cell_type": "code",
   "execution_count": 167,
   "metadata": {},
   "outputs": [
    {
     "data": {
      "text/plain": [
       "Date          0\n",
       "Year          0\n",
       "Type          0\n",
       "Activity    380\n",
       "Injury        1\n",
       "Fatal         0\n",
       "Month         0\n",
       "dtype: int64"
      ]
     },
     "execution_count": 167,
     "metadata": {},
     "output_type": "execute_result"
    }
   ],
   "source": [
    "data.isnull().sum()"
   ]
  },
  {
   "cell_type": "code",
   "execution_count": 168,
   "metadata": {},
   "outputs": [
    {
     "data": {
      "text/plain": [
       "0                                   Paddling\n",
       "1                                   Standing\n",
       "2                                    Surfing\n",
       "3                                    Surfing\n",
       "4                                Free diving\n",
       "                        ...                 \n",
       "6264                      4 men were bathing\n",
       "6265    Wreck of  large double sailing canoe\n",
       "6266                                Swimming\n",
       "6267                                 Fishing\n",
       "6268                                  Wading\n",
       "Name: Activity, Length: 5659, dtype: object"
      ]
     },
     "execution_count": 168,
     "metadata": {},
     "output_type": "execute_result"
    }
   ],
   "source": [
    "data[\"Activity\"].head(-10)"
   ]
  },
  {
   "cell_type": "code",
   "execution_count": 169,
   "metadata": {},
   "outputs": [
    {
     "data": {
      "text/plain": [
       "0           [Paddling]\n",
       "1           [Standing]\n",
       "2            [Surfing]\n",
       "3            [Surfing]\n",
       "4        [Free diving]\n",
       "             ...      \n",
       "6274          [Diving]\n",
       "6275    [Pearl diving]\n",
       "6276        [Swimming]\n",
       "6277               NaN\n",
       "6278        [Swimming]\n",
       "Name: Activity, Length: 5669, dtype: object"
      ]
     },
     "execution_count": 169,
     "metadata": {},
     "output_type": "execute_result"
    }
   ],
   "source": [
    "data[\"Activity\"].str.findall(\"(.+ing$)\")"
   ]
  },
  {
   "cell_type": "code",
   "execution_count": 170,
   "metadata": {},
   "outputs": [
    {
     "data": {
      "text/html": [
       "<div>\n",
       "<style scoped>\n",
       "    .dataframe tbody tr th:only-of-type {\n",
       "        vertical-align: middle;\n",
       "    }\n",
       "\n",
       "    .dataframe tbody tr th {\n",
       "        vertical-align: top;\n",
       "    }\n",
       "\n",
       "    .dataframe thead th {\n",
       "        text-align: right;\n",
       "    }\n",
       "</style>\n",
       "<table border=\"1\" class=\"dataframe\">\n",
       "  <thead>\n",
       "    <tr style=\"text-align: right;\">\n",
       "      <th></th>\n",
       "      <th>Date</th>\n",
       "      <th>Year</th>\n",
       "      <th>Type</th>\n",
       "      <th>Activity</th>\n",
       "      <th>Injury</th>\n",
       "      <th>Fatal</th>\n",
       "      <th>Month</th>\n",
       "    </tr>\n",
       "  </thead>\n",
       "  <tbody>\n",
       "    <tr>\n",
       "      <th>47</th>\n",
       "      <td>[28, Jan, 2018]</td>\n",
       "      <td>2018</td>\n",
       "      <td>Unprovoked</td>\n",
       "      <td>NaN</td>\n",
       "      <td>Injuries to right leg</td>\n",
       "      <td>0</td>\n",
       "      <td>Jan</td>\n",
       "    </tr>\n",
       "    <tr>\n",
       "      <th>108</th>\n",
       "      <td>[29, Jul, 2017]</td>\n",
       "      <td>2017</td>\n",
       "      <td>Unprovoked</td>\n",
       "      <td>NaN</td>\n",
       "      <td>Bite to left thigh / minor injury</td>\n",
       "      <td>0</td>\n",
       "      <td>Jul</td>\n",
       "    </tr>\n",
       "    <tr>\n",
       "      <th>112</th>\n",
       "      <td>[23, Jul, 2017]</td>\n",
       "      <td>2017</td>\n",
       "      <td>Unprovoked</td>\n",
       "      <td>NaN</td>\n",
       "      <td>Minor injury to hand</td>\n",
       "      <td>0</td>\n",
       "      <td>Jul</td>\n",
       "    </tr>\n",
       "    <tr>\n",
       "      <th>114</th>\n",
       "      <td>[22, Jul, 2017]</td>\n",
       "      <td>2017</td>\n",
       "      <td>Unprovoked</td>\n",
       "      <td>NaN</td>\n",
       "      <td>Foot bitten</td>\n",
       "      <td>0</td>\n",
       "      <td>Jul</td>\n",
       "    </tr>\n",
       "    <tr>\n",
       "      <th>154</th>\n",
       "      <td>[17, Apr, 2017]</td>\n",
       "      <td>2017</td>\n",
       "      <td>Unprovoked</td>\n",
       "      <td>NaN</td>\n",
       "      <td>Minor bite to the foot</td>\n",
       "      <td>0</td>\n",
       "      <td>Apr</td>\n",
       "    </tr>\n",
       "    <tr>\n",
       "      <th>...</th>\n",
       "      <td>...</td>\n",
       "      <td>...</td>\n",
       "      <td>...</td>\n",
       "      <td>...</td>\n",
       "      <td>...</td>\n",
       "      <td>...</td>\n",
       "      <td>...</td>\n",
       "    </tr>\n",
       "    <tr>\n",
       "      <th>6173</th>\n",
       "      <td>[Before, 1900]</td>\n",
       "      <td>1900</td>\n",
       "      <td>Provoked</td>\n",
       "      <td>NaN</td>\n",
       "      <td>Cut to arm while roping shark PROVOKED INCIDENT</td>\n",
       "      <td>0</td>\n",
       "      <td>Unknown</td>\n",
       "    </tr>\n",
       "    <tr>\n",
       "      <th>6177</th>\n",
       "      <td>[Before, 2011]</td>\n",
       "      <td>2011</td>\n",
       "      <td>Provoked</td>\n",
       "      <td>NaN</td>\n",
       "      <td>Bitten by captive sharks PROVOKED INCIDENTS</td>\n",
       "      <td>0</td>\n",
       "      <td>Unknown</td>\n",
       "    </tr>\n",
       "    <tr>\n",
       "      <th>6183</th>\n",
       "      <td>[Before, 08, Jun, 1912]</td>\n",
       "      <td>1912</td>\n",
       "      <td>Unprovoked</td>\n",
       "      <td>NaN</td>\n",
       "      <td>FATAL</td>\n",
       "      <td>1</td>\n",
       "      <td>Jun</td>\n",
       "    </tr>\n",
       "    <tr>\n",
       "      <th>6201</th>\n",
       "      <td>[No, date,, Before, Aug, 1989]</td>\n",
       "      <td>1989</td>\n",
       "      <td>Unprovoked</td>\n",
       "      <td>NaN</td>\n",
       "      <td>FATAL</td>\n",
       "      <td>1</td>\n",
       "      <td>Aug</td>\n",
       "    </tr>\n",
       "    <tr>\n",
       "      <th>6203</th>\n",
       "      <td>[No, date,, Before, 1987]</td>\n",
       "      <td>1987</td>\n",
       "      <td>Unprovoked</td>\n",
       "      <td>NaN</td>\n",
       "      <td>Foot severed</td>\n",
       "      <td>0</td>\n",
       "      <td>Unknown</td>\n",
       "    </tr>\n",
       "  </tbody>\n",
       "</table>\n",
       "<p>370 rows × 7 columns</p>\n",
       "</div>"
      ],
      "text/plain": [
       "                                Date  Year        Type Activity  \\\n",
       "47                   [28, Jan, 2018]  2018  Unprovoked      NaN   \n",
       "108                  [29, Jul, 2017]  2017  Unprovoked      NaN   \n",
       "112                  [23, Jul, 2017]  2017  Unprovoked      NaN   \n",
       "114                  [22, Jul, 2017]  2017  Unprovoked      NaN   \n",
       "154                  [17, Apr, 2017]  2017  Unprovoked      NaN   \n",
       "...                              ...   ...         ...      ...   \n",
       "6173                  [Before, 1900]  1900    Provoked      NaN   \n",
       "6177                  [Before, 2011]  2011    Provoked      NaN   \n",
       "6183         [Before, 08, Jun, 1912]  1912  Unprovoked      NaN   \n",
       "6201  [No, date,, Before, Aug, 1989]  1989  Unprovoked      NaN   \n",
       "6203       [No, date,, Before, 1987]  1987  Unprovoked      NaN   \n",
       "\n",
       "                                               Injury  Fatal    Month  \n",
       "47                              Injuries to right leg      0      Jan  \n",
       "108                 Bite to left thigh / minor injury      0      Jul  \n",
       "112                              Minor injury to hand      0      Jul  \n",
       "114                                       Foot bitten      0      Jul  \n",
       "154                            Minor bite to the foot      0      Apr  \n",
       "...                                               ...    ...      ...  \n",
       "6173  Cut to arm while roping shark PROVOKED INCIDENT      0  Unknown  \n",
       "6177      Bitten by captive sharks PROVOKED INCIDENTS      0  Unknown  \n",
       "6183                                            FATAL      1      Jun  \n",
       "6201                                            FATAL      1      Aug  \n",
       "6203                                     Foot severed      0  Unknown  \n",
       "\n",
       "[370 rows x 7 columns]"
      ]
     },
     "execution_count": 170,
     "metadata": {},
     "output_type": "execute_result"
    }
   ],
   "source": [
    "#decido quitar los valores nulos ya que quiro responderme que actividad es con la que más ataques de tiburón hay. \n",
    "#si no hay actividad no nos interesa por ahora.\n",
    "data[data[\"Activity\"].isnull()].head(-10)"
   ]
  },
  {
   "cell_type": "code",
   "execution_count": 171,
   "metadata": {},
   "outputs": [
    {
     "name": "stderr",
     "output_type": "stream",
     "text": [
      "/usr/local/lib/python3.7/site-packages/ipykernel_launcher.py:1: SettingWithCopyWarning: \n",
      "A value is trying to be set on a copy of a slice from a DataFrame\n",
      "\n",
      "See the caveats in the documentation: https://pandas.pydata.org/pandas-docs/stable/user_guide/indexing.html#returning-a-view-versus-a-copy\n",
      "  \"\"\"Entry point for launching an IPython kernel.\n"
     ]
    }
   ],
   "source": [
    "data.dropna(subset=[\"Activity\"], inplace=True)"
   ]
  },
  {
   "cell_type": "code",
   "execution_count": 172,
   "metadata": {},
   "outputs": [
    {
     "data": {
      "text/plain": [
       "Date        0\n",
       "Year        0\n",
       "Type        0\n",
       "Activity    0\n",
       "Injury      1\n",
       "Fatal       0\n",
       "Month       0\n",
       "dtype: int64"
      ]
     },
     "execution_count": 172,
     "metadata": {},
     "output_type": "execute_result"
    }
   ],
   "source": [
    "data.isnull().sum()"
   ]
  },
  {
   "cell_type": "markdown",
   "metadata": {},
   "source": [
    "#### Cleaning column Injury"
   ]
  },
  {
   "cell_type": "code",
   "execution_count": 173,
   "metadata": {},
   "outputs": [
    {
     "data": {
      "text/html": [
       "<div>\n",
       "<style scoped>\n",
       "    .dataframe tbody tr th:only-of-type {\n",
       "        vertical-align: middle;\n",
       "    }\n",
       "\n",
       "    .dataframe tbody tr th {\n",
       "        vertical-align: top;\n",
       "    }\n",
       "\n",
       "    .dataframe thead th {\n",
       "        text-align: right;\n",
       "    }\n",
       "</style>\n",
       "<table border=\"1\" class=\"dataframe\">\n",
       "  <thead>\n",
       "    <tr style=\"text-align: right;\">\n",
       "      <th></th>\n",
       "      <th>Date</th>\n",
       "      <th>Year</th>\n",
       "      <th>Type</th>\n",
       "      <th>Activity</th>\n",
       "      <th>Injury</th>\n",
       "      <th>Fatal</th>\n",
       "      <th>Month</th>\n",
       "    </tr>\n",
       "  </thead>\n",
       "  <tbody>\n",
       "    <tr>\n",
       "      <th>6118</th>\n",
       "      <td>[12, Dec, 1784]</td>\n",
       "      <td>1784</td>\n",
       "      <td>Unprovoked</td>\n",
       "      <td>Swimming</td>\n",
       "      <td>NaN</td>\n",
       "      <td>1</td>\n",
       "      <td>Dec</td>\n",
       "    </tr>\n",
       "  </tbody>\n",
       "</table>\n",
       "</div>"
      ],
      "text/plain": [
       "                 Date  Year        Type  Activity Injury  Fatal Month\n",
       "6118  [12, Dec, 1784]  1784  Unprovoked  Swimming    NaN      1   Dec"
      ]
     },
     "execution_count": 173,
     "metadata": {},
     "output_type": "execute_result"
    }
   ],
   "source": [
    "#vemos que hay un valor nulo, lo substituímos por death ya que vemos que sí fue Fatal\n",
    "data[data[\"Injury\"].isnull()]\n"
   ]
  },
  {
   "cell_type": "code",
   "execution_count": 174,
   "metadata": {},
   "outputs": [
    {
     "name": "stderr",
     "output_type": "stream",
     "text": [
      "/usr/local/lib/python3.7/site-packages/pandas/core/generic.py:6245: SettingWithCopyWarning: \n",
      "A value is trying to be set on a copy of a slice from a DataFrame\n",
      "\n",
      "See the caveats in the documentation: https://pandas.pydata.org/pandas-docs/stable/user_guide/indexing.html#returning-a-view-versus-a-copy\n",
      "  self._update_inplace(new_data)\n"
     ]
    }
   ],
   "source": [
    "data[\"Injury\"].fillna(\"death\", inplace=True)"
   ]
  },
  {
   "cell_type": "code",
   "execution_count": 175,
   "metadata": {},
   "outputs": [
    {
     "data": {
      "text/plain": [
       "Date        0\n",
       "Year        0\n",
       "Type        0\n",
       "Activity    0\n",
       "Injury      0\n",
       "Fatal       0\n",
       "Month       0\n",
       "dtype: int64"
      ]
     },
     "execution_count": 175,
     "metadata": {},
     "output_type": "execute_result"
    }
   ],
   "source": [
    "data.isnull().sum()"
   ]
  },
  {
   "cell_type": "markdown",
   "metadata": {},
   "source": [
    "#### Cleaning column Type"
   ]
  },
  {
   "cell_type": "code",
   "execution_count": 176,
   "metadata": {},
   "outputs": [
    {
     "data": {
      "text/plain": [
       "8"
      ]
     },
     "execution_count": 176,
     "metadata": {},
     "output_type": "execute_result"
    }
   ],
   "source": [
    "data[\"Type\"].nunique()"
   ]
  },
  {
   "cell_type": "code",
   "execution_count": 177,
   "metadata": {},
   "outputs": [
    {
     "data": {
      "text/plain": [
       "array(['Boating', 'Unprovoked', 'Invalid', 'Provoked', 'Questionable',\n",
       "       'Sea Disaster', 'Boat', 'Boatomg'], dtype=object)"
      ]
     },
     "execution_count": 177,
     "metadata": {},
     "output_type": "execute_result"
    }
   ],
   "source": [
    "data[\"Type\"].unique()"
   ]
  },
  {
   "cell_type": "code",
   "execution_count": 178,
   "metadata": {},
   "outputs": [
    {
     "data": {
      "text/html": [
       "<div>\n",
       "<style scoped>\n",
       "    .dataframe tbody tr th:only-of-type {\n",
       "        vertical-align: middle;\n",
       "    }\n",
       "\n",
       "    .dataframe tbody tr th {\n",
       "        vertical-align: top;\n",
       "    }\n",
       "\n",
       "    .dataframe thead th {\n",
       "        text-align: right;\n",
       "    }\n",
       "</style>\n",
       "<table border=\"1\" class=\"dataframe\">\n",
       "  <thead>\n",
       "    <tr style=\"text-align: right;\">\n",
       "      <th></th>\n",
       "      <th>Date</th>\n",
       "      <th>Year</th>\n",
       "      <th>Type</th>\n",
       "      <th>Activity</th>\n",
       "      <th>Injury</th>\n",
       "      <th>Fatal</th>\n",
       "      <th>Month</th>\n",
       "    </tr>\n",
       "  </thead>\n",
       "  <tbody>\n",
       "    <tr>\n",
       "      <th>0</th>\n",
       "      <td>[25, Jun, 2018]</td>\n",
       "      <td>2018</td>\n",
       "      <td>Boating</td>\n",
       "      <td>Paddling</td>\n",
       "      <td>No injury to occupant, outrigger canoe and pad...</td>\n",
       "      <td>0</td>\n",
       "      <td>Jun</td>\n",
       "    </tr>\n",
       "    <tr>\n",
       "      <th>86</th>\n",
       "      <td>[Sep, 2017]</td>\n",
       "      <td>2017</td>\n",
       "      <td>Boating</td>\n",
       "      <td>Fishing</td>\n",
       "      <td>sharks rammed boats, no injury to occupants</td>\n",
       "      <td>0</td>\n",
       "      <td>Sep</td>\n",
       "    </tr>\n",
       "    <tr>\n",
       "      <th>105</th>\n",
       "      <td>[01, Aug, 2017]</td>\n",
       "      <td>2017</td>\n",
       "      <td>Boating</td>\n",
       "      <td>Kayaking / Fishing</td>\n",
       "      <td>No injury, bow of kayak bitten</td>\n",
       "      <td>0</td>\n",
       "      <td>Aug</td>\n",
       "    </tr>\n",
       "    <tr>\n",
       "      <th>116</th>\n",
       "      <td>[20, Jul, 2017]</td>\n",
       "      <td>2017</td>\n",
       "      <td>Boating</td>\n",
       "      <td>Kayaking</td>\n",
       "      <td>No injury, kayak bitten</td>\n",
       "      <td>0</td>\n",
       "      <td>Jul</td>\n",
       "    </tr>\n",
       "    <tr>\n",
       "      <th>120</th>\n",
       "      <td>[11, Jul, 2017]</td>\n",
       "      <td>2017</td>\n",
       "      <td>Boating</td>\n",
       "      <td>Kayaking</td>\n",
       "      <td>No injury, kayak bitten</td>\n",
       "      <td>0</td>\n",
       "      <td>Jul</td>\n",
       "    </tr>\n",
       "    <tr>\n",
       "      <th>...</th>\n",
       "      <td>...</td>\n",
       "      <td>...</td>\n",
       "      <td>...</td>\n",
       "      <td>...</td>\n",
       "      <td>...</td>\n",
       "      <td>...</td>\n",
       "      <td>...</td>\n",
       "    </tr>\n",
       "    <tr>\n",
       "      <th>5859</th>\n",
       "      <td>[14, Nov, 1874]</td>\n",
       "      <td>1874</td>\n",
       "      <td>Boating</td>\n",
       "      <td>Fishing</td>\n",
       "      <td>Shark damaged boat, but no injury to occupants</td>\n",
       "      <td>0</td>\n",
       "      <td>Nov</td>\n",
       "    </tr>\n",
       "    <tr>\n",
       "      <th>5860</th>\n",
       "      <td>[23, Jul, 1874]</td>\n",
       "      <td>1874</td>\n",
       "      <td>Boating</td>\n",
       "      <td>Fishing</td>\n",
       "      <td>Shark and boat collided. No injury to occupants</td>\n",
       "      <td>0</td>\n",
       "      <td>Jul</td>\n",
       "    </tr>\n",
       "    <tr>\n",
       "      <th>5867</th>\n",
       "      <td>[Reported, 20, Apr, 1874]</td>\n",
       "      <td>1874</td>\n",
       "      <td>Boating</td>\n",
       "      <td>Fishing</td>\n",
       "      <td>Shark bit &amp; tipped the dory</td>\n",
       "      <td>0</td>\n",
       "      <td>Apr</td>\n",
       "    </tr>\n",
       "    <tr>\n",
       "      <th>5916</th>\n",
       "      <td>[Reported, 01, Mar, 1865]</td>\n",
       "      <td>1865</td>\n",
       "      <td>Boating</td>\n",
       "      <td>Fishing</td>\n",
       "      <td>FATAL: Boat capsized, sharks took fishermen</td>\n",
       "      <td>1</td>\n",
       "      <td>Mar</td>\n",
       "    </tr>\n",
       "    <tr>\n",
       "      <th>5917</th>\n",
       "      <td>[1865]</td>\n",
       "      <td>1865</td>\n",
       "      <td>Boating</td>\n",
       "      <td>Boarding a ship</td>\n",
       "      <td>No injury to pilot, oar bitten</td>\n",
       "      <td>0</td>\n",
       "      <td>Unknown</td>\n",
       "    </tr>\n",
       "  </tbody>\n",
       "</table>\n",
       "<p>176 rows × 7 columns</p>\n",
       "</div>"
      ],
      "text/plain": [
       "                           Date  Year     Type            Activity  \\\n",
       "0               [25, Jun, 2018]  2018  Boating            Paddling   \n",
       "86                  [Sep, 2017]  2017  Boating             Fishing   \n",
       "105             [01, Aug, 2017]  2017  Boating  Kayaking / Fishing   \n",
       "116             [20, Jul, 2017]  2017  Boating            Kayaking   \n",
       "120             [11, Jul, 2017]  2017  Boating            Kayaking   \n",
       "...                         ...   ...      ...                 ...   \n",
       "5859            [14, Nov, 1874]  1874  Boating             Fishing   \n",
       "5860            [23, Jul, 1874]  1874  Boating             Fishing   \n",
       "5867  [Reported, 20, Apr, 1874]  1874  Boating             Fishing   \n",
       "5916  [Reported, 01, Mar, 1865]  1865  Boating             Fishing   \n",
       "5917                     [1865]  1865  Boating     Boarding a ship   \n",
       "\n",
       "                                                 Injury  Fatal    Month  \n",
       "0     No injury to occupant, outrigger canoe and pad...      0      Jun  \n",
       "86          sharks rammed boats, no injury to occupants      0      Sep  \n",
       "105                      No injury, bow of kayak bitten      0      Aug  \n",
       "116                             No injury, kayak bitten      0      Jul  \n",
       "120                             No injury, kayak bitten      0      Jul  \n",
       "...                                                 ...    ...      ...  \n",
       "5859     Shark damaged boat, but no injury to occupants      0      Nov  \n",
       "5860    Shark and boat collided. No injury to occupants      0      Jul  \n",
       "5867                        Shark bit & tipped the dory      0      Apr  \n",
       "5916        FATAL: Boat capsized, sharks took fishermen      1      Mar  \n",
       "5917                     No injury to pilot, oar bitten      0  Unknown  \n",
       "\n",
       "[176 rows x 7 columns]"
      ]
     },
     "execution_count": 178,
     "metadata": {},
     "output_type": "execute_result"
    }
   ],
   "source": [
    "#Vemos que de esos 8 valores uno es Boating, y la mayoría de heridas son leves, así que pasamos a valor Unprovoked\n",
    "data[data[\"Type\"]==\"Boating\"]"
   ]
  },
  {
   "cell_type": "code",
   "execution_count": 179,
   "metadata": {},
   "outputs": [
    {
     "name": "stderr",
     "output_type": "stream",
     "text": [
      "/usr/local/lib/python3.7/site-packages/pandas/core/generic.py:6746: SettingWithCopyWarning: \n",
      "A value is trying to be set on a copy of a slice from a DataFrame\n",
      "\n",
      "See the caveats in the documentation: https://pandas.pydata.org/pandas-docs/stable/user_guide/indexing.html#returning-a-view-versus-a-copy\n",
      "  self._update_inplace(new_data)\n"
     ]
    }
   ],
   "source": [
    "data[\"Type\"].replace([\"Boating\"], \"Unprovoked\", inplace=True)"
   ]
  },
  {
   "cell_type": "code",
   "execution_count": 180,
   "metadata": {},
   "outputs": [],
   "source": [
    "data[\"Type\"].replace([\"Boatomg\"], \"Unprovoked\", inplace=True)"
   ]
  },
  {
   "cell_type": "code",
   "execution_count": 181,
   "metadata": {},
   "outputs": [],
   "source": [
    "data[\"Type\"].replace([\"Boat\"], \"Unprovoked\", inplace=True)"
   ]
  },
  {
   "cell_type": "code",
   "execution_count": 182,
   "metadata": {},
   "outputs": [],
   "source": [
    "#Vemos que de esos 7 valores uno es Sea Disaster, y la mayoría de heridas son leves, así que pasamos a valor Unprovoked\n",
    "data[\"Type\"].replace([\"Sea Disaster\"], \"Unprovoked\", inplace=True)"
   ]
  },
  {
   "cell_type": "code",
   "execution_count": 183,
   "metadata": {},
   "outputs": [
    {
     "data": {
      "text/plain": [
       "4"
      ]
     },
     "execution_count": 183,
     "metadata": {},
     "output_type": "execute_result"
    }
   ],
   "source": [
    "data[\"Type\"].nunique()"
   ]
  },
  {
   "cell_type": "code",
   "execution_count": 184,
   "metadata": {},
   "outputs": [
    {
     "data": {
      "text/html": [
       "<div>\n",
       "<style scoped>\n",
       "    .dataframe tbody tr th:only-of-type {\n",
       "        vertical-align: middle;\n",
       "    }\n",
       "\n",
       "    .dataframe tbody tr th {\n",
       "        vertical-align: top;\n",
       "    }\n",
       "\n",
       "    .dataframe thead th {\n",
       "        text-align: right;\n",
       "    }\n",
       "</style>\n",
       "<table border=\"1\" class=\"dataframe\">\n",
       "  <thead>\n",
       "    <tr style=\"text-align: right;\">\n",
       "      <th></th>\n",
       "      <th>Date</th>\n",
       "      <th>Year</th>\n",
       "      <th>Type</th>\n",
       "      <th>Activity</th>\n",
       "      <th>Injury</th>\n",
       "      <th>Fatal</th>\n",
       "      <th>Month</th>\n",
       "    </tr>\n",
       "  </thead>\n",
       "  <tbody>\n",
       "    <tr>\n",
       "      <th>0</th>\n",
       "      <td>[25, Jun, 2018]</td>\n",
       "      <td>2018</td>\n",
       "      <td>Unprovoked</td>\n",
       "      <td>Paddling</td>\n",
       "      <td>No injury to occupant, outrigger canoe and pad...</td>\n",
       "      <td>0</td>\n",
       "      <td>Jun</td>\n",
       "    </tr>\n",
       "    <tr>\n",
       "      <th>1</th>\n",
       "      <td>[18, Jun, 2018]</td>\n",
       "      <td>2018</td>\n",
       "      <td>Unprovoked</td>\n",
       "      <td>Standing</td>\n",
       "      <td>Minor injury to left thigh</td>\n",
       "      <td>0</td>\n",
       "      <td>Jun</td>\n",
       "    </tr>\n",
       "    <tr>\n",
       "      <th>2</th>\n",
       "      <td>[09, Jun, 2018]</td>\n",
       "      <td>2018</td>\n",
       "      <td>Invalid</td>\n",
       "      <td>Surfing</td>\n",
       "      <td>Injury to left lower leg from surfboard skeg</td>\n",
       "      <td>0</td>\n",
       "      <td>Jun</td>\n",
       "    </tr>\n",
       "    <tr>\n",
       "      <th>3</th>\n",
       "      <td>[08, Jun, 2018]</td>\n",
       "      <td>2018</td>\n",
       "      <td>Unprovoked</td>\n",
       "      <td>Surfing</td>\n",
       "      <td>Minor injury to lower leg</td>\n",
       "      <td>0</td>\n",
       "      <td>Jun</td>\n",
       "    </tr>\n",
       "    <tr>\n",
       "      <th>4</th>\n",
       "      <td>[04, Jun, 2018]</td>\n",
       "      <td>2018</td>\n",
       "      <td>Provoked</td>\n",
       "      <td>Free diving</td>\n",
       "      <td>Lacerations to leg &amp; hand shark PROVOKED INCIDENT</td>\n",
       "      <td>0</td>\n",
       "      <td>Jun</td>\n",
       "    </tr>\n",
       "    <tr>\n",
       "      <th>...</th>\n",
       "      <td>...</td>\n",
       "      <td>...</td>\n",
       "      <td>...</td>\n",
       "      <td>...</td>\n",
       "      <td>...</td>\n",
       "      <td>...</td>\n",
       "      <td>...</td>\n",
       "    </tr>\n",
       "    <tr>\n",
       "      <th>6273</th>\n",
       "      <td>[Before, 1906]</td>\n",
       "      <td>1906</td>\n",
       "      <td>Unprovoked</td>\n",
       "      <td>Swimming</td>\n",
       "      <td>FATAL</td>\n",
       "      <td>1</td>\n",
       "      <td>Unknown</td>\n",
       "    </tr>\n",
       "    <tr>\n",
       "      <th>6274</th>\n",
       "      <td>[Before, 1903]</td>\n",
       "      <td>1903</td>\n",
       "      <td>Unprovoked</td>\n",
       "      <td>Diving</td>\n",
       "      <td>FATAL</td>\n",
       "      <td>1</td>\n",
       "      <td>Unknown</td>\n",
       "    </tr>\n",
       "    <tr>\n",
       "      <th>6275</th>\n",
       "      <td>[Before, 1903]</td>\n",
       "      <td>1903</td>\n",
       "      <td>Unprovoked</td>\n",
       "      <td>Pearl diving</td>\n",
       "      <td>FATAL</td>\n",
       "      <td>1</td>\n",
       "      <td>Unknown</td>\n",
       "    </tr>\n",
       "    <tr>\n",
       "      <th>6276</th>\n",
       "      <td>[1900, 1905]</td>\n",
       "      <td>1905</td>\n",
       "      <td>Unprovoked</td>\n",
       "      <td>Swimming</td>\n",
       "      <td>FATAL</td>\n",
       "      <td>1</td>\n",
       "      <td>Unknown</td>\n",
       "    </tr>\n",
       "    <tr>\n",
       "      <th>6278</th>\n",
       "      <td>[1845, 1853]</td>\n",
       "      <td>1853</td>\n",
       "      <td>Unprovoked</td>\n",
       "      <td>Swimming</td>\n",
       "      <td>FATAL. \"Shark bit him in half, carrying away t...</td>\n",
       "      <td>1</td>\n",
       "      <td>Unknown</td>\n",
       "    </tr>\n",
       "  </tbody>\n",
       "</table>\n",
       "<p>5289 rows × 7 columns</p>\n",
       "</div>"
      ],
      "text/plain": [
       "                 Date  Year        Type      Activity  \\\n",
       "0     [25, Jun, 2018]  2018  Unprovoked      Paddling   \n",
       "1     [18, Jun, 2018]  2018  Unprovoked      Standing   \n",
       "2     [09, Jun, 2018]  2018     Invalid       Surfing   \n",
       "3     [08, Jun, 2018]  2018  Unprovoked       Surfing   \n",
       "4     [04, Jun, 2018]  2018    Provoked   Free diving   \n",
       "...               ...   ...         ...           ...   \n",
       "6273   [Before, 1906]  1906  Unprovoked      Swimming   \n",
       "6274   [Before, 1903]  1903  Unprovoked        Diving   \n",
       "6275   [Before, 1903]  1903  Unprovoked  Pearl diving   \n",
       "6276     [1900, 1905]  1905  Unprovoked      Swimming   \n",
       "6278     [1845, 1853]  1853  Unprovoked      Swimming   \n",
       "\n",
       "                                                 Injury  Fatal    Month  \n",
       "0     No injury to occupant, outrigger canoe and pad...      0      Jun  \n",
       "1                            Minor injury to left thigh      0      Jun  \n",
       "2          Injury to left lower leg from surfboard skeg      0      Jun  \n",
       "3                             Minor injury to lower leg      0      Jun  \n",
       "4     Lacerations to leg & hand shark PROVOKED INCIDENT      0      Jun  \n",
       "...                                                 ...    ...      ...  \n",
       "6273                                              FATAL      1  Unknown  \n",
       "6274                                              FATAL      1  Unknown  \n",
       "6275                                              FATAL      1  Unknown  \n",
       "6276                                              FATAL      1  Unknown  \n",
       "6278  FATAL. \"Shark bit him in half, carrying away t...      1  Unknown  \n",
       "\n",
       "[5289 rows x 7 columns]"
      ]
     },
     "execution_count": 184,
     "metadata": {},
     "output_type": "execute_result"
    }
   ],
   "source": [
    "data"
   ]
  },
  {
   "cell_type": "markdown",
   "metadata": {},
   "source": [
    "## Final Table"
   ]
  },
  {
   "cell_type": "code",
   "execution_count": 185,
   "metadata": {},
   "outputs": [],
   "source": [
    "data.reset_index(drop=True, inplace=True) "
   ]
  },
  {
   "cell_type": "code",
   "execution_count": 186,
   "metadata": {
    "scrolled": true
   },
   "outputs": [],
   "source": [
    "data_final=data[[\"Year\",\"Month\",\"Activity\",\"Type\",\"Fatal\"]]"
   ]
  },
  {
   "cell_type": "code",
   "execution_count": 187,
   "metadata": {},
   "outputs": [
    {
     "data": {
      "text/html": [
       "<div>\n",
       "<style scoped>\n",
       "    .dataframe tbody tr th:only-of-type {\n",
       "        vertical-align: middle;\n",
       "    }\n",
       "\n",
       "    .dataframe tbody tr th {\n",
       "        vertical-align: top;\n",
       "    }\n",
       "\n",
       "    .dataframe thead th {\n",
       "        text-align: right;\n",
       "    }\n",
       "</style>\n",
       "<table border=\"1\" class=\"dataframe\">\n",
       "  <thead>\n",
       "    <tr style=\"text-align: right;\">\n",
       "      <th></th>\n",
       "      <th>Year</th>\n",
       "      <th>Month</th>\n",
       "      <th>Activity</th>\n",
       "      <th>Type</th>\n",
       "      <th>Fatal</th>\n",
       "    </tr>\n",
       "  </thead>\n",
       "  <tbody>\n",
       "    <tr>\n",
       "      <th>0</th>\n",
       "      <td>2018</td>\n",
       "      <td>Jun</td>\n",
       "      <td>Paddling</td>\n",
       "      <td>Unprovoked</td>\n",
       "      <td>0</td>\n",
       "    </tr>\n",
       "    <tr>\n",
       "      <th>1</th>\n",
       "      <td>2018</td>\n",
       "      <td>Jun</td>\n",
       "      <td>Standing</td>\n",
       "      <td>Unprovoked</td>\n",
       "      <td>0</td>\n",
       "    </tr>\n",
       "    <tr>\n",
       "      <th>2</th>\n",
       "      <td>2018</td>\n",
       "      <td>Jun</td>\n",
       "      <td>Surfing</td>\n",
       "      <td>Invalid</td>\n",
       "      <td>0</td>\n",
       "    </tr>\n",
       "    <tr>\n",
       "      <th>3</th>\n",
       "      <td>2018</td>\n",
       "      <td>Jun</td>\n",
       "      <td>Surfing</td>\n",
       "      <td>Unprovoked</td>\n",
       "      <td>0</td>\n",
       "    </tr>\n",
       "    <tr>\n",
       "      <th>4</th>\n",
       "      <td>2018</td>\n",
       "      <td>Jun</td>\n",
       "      <td>Free diving</td>\n",
       "      <td>Provoked</td>\n",
       "      <td>0</td>\n",
       "    </tr>\n",
       "    <tr>\n",
       "      <th>...</th>\n",
       "      <td>...</td>\n",
       "      <td>...</td>\n",
       "      <td>...</td>\n",
       "      <td>...</td>\n",
       "      <td>...</td>\n",
       "    </tr>\n",
       "    <tr>\n",
       "      <th>5284</th>\n",
       "      <td>1906</td>\n",
       "      <td>Unknown</td>\n",
       "      <td>Swimming</td>\n",
       "      <td>Unprovoked</td>\n",
       "      <td>1</td>\n",
       "    </tr>\n",
       "    <tr>\n",
       "      <th>5285</th>\n",
       "      <td>1903</td>\n",
       "      <td>Unknown</td>\n",
       "      <td>Diving</td>\n",
       "      <td>Unprovoked</td>\n",
       "      <td>1</td>\n",
       "    </tr>\n",
       "    <tr>\n",
       "      <th>5286</th>\n",
       "      <td>1903</td>\n",
       "      <td>Unknown</td>\n",
       "      <td>Pearl diving</td>\n",
       "      <td>Unprovoked</td>\n",
       "      <td>1</td>\n",
       "    </tr>\n",
       "    <tr>\n",
       "      <th>5287</th>\n",
       "      <td>1905</td>\n",
       "      <td>Unknown</td>\n",
       "      <td>Swimming</td>\n",
       "      <td>Unprovoked</td>\n",
       "      <td>1</td>\n",
       "    </tr>\n",
       "    <tr>\n",
       "      <th>5288</th>\n",
       "      <td>1853</td>\n",
       "      <td>Unknown</td>\n",
       "      <td>Swimming</td>\n",
       "      <td>Unprovoked</td>\n",
       "      <td>1</td>\n",
       "    </tr>\n",
       "  </tbody>\n",
       "</table>\n",
       "<p>5289 rows × 5 columns</p>\n",
       "</div>"
      ],
      "text/plain": [
       "      Year    Month      Activity        Type  Fatal\n",
       "0     2018      Jun      Paddling  Unprovoked      0\n",
       "1     2018      Jun      Standing  Unprovoked      0\n",
       "2     2018      Jun       Surfing     Invalid      0\n",
       "3     2018      Jun       Surfing  Unprovoked      0\n",
       "4     2018      Jun   Free diving    Provoked      0\n",
       "...    ...      ...           ...         ...    ...\n",
       "5284  1906  Unknown      Swimming  Unprovoked      1\n",
       "5285  1903  Unknown        Diving  Unprovoked      1\n",
       "5286  1903  Unknown  Pearl diving  Unprovoked      1\n",
       "5287  1905  Unknown      Swimming  Unprovoked      1\n",
       "5288  1853  Unknown      Swimming  Unprovoked      1\n",
       "\n",
       "[5289 rows x 5 columns]"
      ]
     },
     "execution_count": 187,
     "metadata": {},
     "output_type": "execute_result"
    }
   ],
   "source": [
    "data_final"
   ]
  },
  {
   "cell_type": "code",
   "execution_count": 188,
   "metadata": {},
   "outputs": [],
   "source": [
    "#Nos damos cuenta que no hemo limpiado la data 100% ya que hay filas\n",
    "data_final=data_final.sort_values([\"Year\",\"Month\",\"Activity\"], ascending=[True,True,True])"
   ]
  },
  {
   "cell_type": "code",
   "execution_count": 189,
   "metadata": {},
   "outputs": [],
   "source": [
    "data_final.reset_index(drop=True, inplace=True) "
   ]
  },
  {
   "cell_type": "code",
   "execution_count": 190,
   "metadata": {},
   "outputs": [
    {
     "data": {
      "text/html": [
       "<div>\n",
       "<style scoped>\n",
       "    .dataframe tbody tr th:only-of-type {\n",
       "        vertical-align: middle;\n",
       "    }\n",
       "\n",
       "    .dataframe tbody tr th {\n",
       "        vertical-align: top;\n",
       "    }\n",
       "\n",
       "    .dataframe thead th {\n",
       "        text-align: right;\n",
       "    }\n",
       "</style>\n",
       "<table border=\"1\" class=\"dataframe\">\n",
       "  <thead>\n",
       "    <tr style=\"text-align: right;\">\n",
       "      <th></th>\n",
       "      <th>Year</th>\n",
       "      <th>Month</th>\n",
       "      <th>Activity</th>\n",
       "      <th>Type</th>\n",
       "      <th>Fatal</th>\n",
       "    </tr>\n",
       "  </thead>\n",
       "  <tbody>\n",
       "    <tr>\n",
       "      <th>0</th>\n",
       "      <td></td>\n",
       "      <td></td>\n",
       "      <td>Washing his pig in preparation for a religious...</td>\n",
       "      <td>Unprovoked</td>\n",
       "      <td>1</td>\n",
       "    </tr>\n",
       "    <tr>\n",
       "      <th>1</th>\n",
       "      <td></td>\n",
       "      <td>1890</td>\n",
       "      <td>Wading</td>\n",
       "      <td>Unprovoked</td>\n",
       "      <td>0</td>\n",
       "    </tr>\n",
       "    <tr>\n",
       "      <th>2</th>\n",
       "      <td></td>\n",
       "      <td>1903</td>\n",
       "      <td>Swimming, after falling overboard</td>\n",
       "      <td>Unprovoked</td>\n",
       "      <td>0</td>\n",
       "    </tr>\n",
       "    <tr>\n",
       "      <th>3</th>\n",
       "      <td></td>\n",
       "      <td>1955</td>\n",
       "      <td>Spearfishing</td>\n",
       "      <td>Unprovoked</td>\n",
       "      <td>0</td>\n",
       "    </tr>\n",
       "    <tr>\n",
       "      <th>4</th>\n",
       "      <td></td>\n",
       "      <td>1962</td>\n",
       "      <td>Spearfishing with Scuba gear</td>\n",
       "      <td>Unprovoked</td>\n",
       "      <td>1</td>\n",
       "    </tr>\n",
       "    <tr>\n",
       "      <th>...</th>\n",
       "      <td>...</td>\n",
       "      <td>...</td>\n",
       "      <td>...</td>\n",
       "      <td>...</td>\n",
       "      <td>...</td>\n",
       "    </tr>\n",
       "    <tr>\n",
       "      <th>5284</th>\n",
       "      <td>date</td>\n",
       "      <td>No</td>\n",
       "      <td>Wading</td>\n",
       "      <td>Unprovoked</td>\n",
       "      <td>0</td>\n",
       "    </tr>\n",
       "    <tr>\n",
       "      <th>5285</th>\n",
       "      <td>date</td>\n",
       "      <td>No</td>\n",
       "      <td>yachtsman in a zodiac</td>\n",
       "      <td>Unprovoked</td>\n",
       "      <td>0</td>\n",
       "    </tr>\n",
       "    <tr>\n",
       "      <th>5286</th>\n",
       "      <td>t937</td>\n",
       "      <td>Sep</td>\n",
       "      <td>Fishing</td>\n",
       "      <td>Provoked</td>\n",
       "      <td>0</td>\n",
       "    </tr>\n",
       "    <tr>\n",
       "      <th>5287</th>\n",
       "      <td>war\"</td>\n",
       "      <td>the</td>\n",
       "      <td>Free diving</td>\n",
       "      <td>Unprovoked</td>\n",
       "      <td>0</td>\n",
       "    </tr>\n",
       "    <tr>\n",
       "      <th>5288</th>\n",
       "      <td>week</td>\n",
       "      <td>the</td>\n",
       "      <td>Fishing</td>\n",
       "      <td>Unprovoked</td>\n",
       "      <td>0</td>\n",
       "    </tr>\n",
       "  </tbody>\n",
       "</table>\n",
       "<p>5289 rows × 5 columns</p>\n",
       "</div>"
      ],
      "text/plain": [
       "      Year Month                                           Activity  \\\n",
       "0                 Washing his pig in preparation for a religious...   \n",
       "1           1890                                             Wading   \n",
       "2           1903                  Swimming, after falling overboard   \n",
       "3           1955                                       Spearfishing   \n",
       "4           1962                       Spearfishing with Scuba gear   \n",
       "...    ...   ...                                                ...   \n",
       "5284  date    No                                             Wading   \n",
       "5285  date    No                              yachtsman in a zodiac   \n",
       "5286  t937   Sep                                            Fishing   \n",
       "5287  war\"   the                                        Free diving   \n",
       "5288  week   the                                            Fishing   \n",
       "\n",
       "            Type  Fatal  \n",
       "0     Unprovoked      1  \n",
       "1     Unprovoked      0  \n",
       "2     Unprovoked      0  \n",
       "3     Unprovoked      0  \n",
       "4     Unprovoked      1  \n",
       "...          ...    ...  \n",
       "5284  Unprovoked      0  \n",
       "5285  Unprovoked      0  \n",
       "5286    Provoked      0  \n",
       "5287  Unprovoked      0  \n",
       "5288  Unprovoked      0  \n",
       "\n",
       "[5289 rows x 5 columns]"
      ]
     },
     "execution_count": 190,
     "metadata": {},
     "output_type": "execute_result"
    }
   ],
   "source": [
    "data_final"
   ]
  },
  {
   "cell_type": "code",
   "execution_count": 191,
   "metadata": {},
   "outputs": [],
   "source": [
    "#descartamos finalmente esas files que no tiene año ni mes, para termianr de limpiarlo\n",
    "data_final=data_final[22:5242]"
   ]
  },
  {
   "cell_type": "code",
   "execution_count": 192,
   "metadata": {},
   "outputs": [],
   "source": [
    "data_final.reset_index(drop=True, inplace=True) "
   ]
  },
  {
   "cell_type": "markdown",
   "metadata": {},
   "source": [
    "#### Final Table"
   ]
  },
  {
   "cell_type": "code",
   "execution_count": 193,
   "metadata": {},
   "outputs": [
    {
     "data": {
      "text/html": [
       "<div>\n",
       "<style scoped>\n",
       "    .dataframe tbody tr th:only-of-type {\n",
       "        vertical-align: middle;\n",
       "    }\n",
       "\n",
       "    .dataframe tbody tr th {\n",
       "        vertical-align: top;\n",
       "    }\n",
       "\n",
       "    .dataframe thead th {\n",
       "        text-align: right;\n",
       "    }\n",
       "</style>\n",
       "<table border=\"1\" class=\"dataframe\">\n",
       "  <thead>\n",
       "    <tr style=\"text-align: right;\">\n",
       "      <th></th>\n",
       "      <th>Year</th>\n",
       "      <th>Month</th>\n",
       "      <th>Activity</th>\n",
       "      <th>Type</th>\n",
       "      <th>Fatal</th>\n",
       "    </tr>\n",
       "  </thead>\n",
       "  <tbody>\n",
       "    <tr>\n",
       "      <th>0</th>\n",
       "      <td>1543</td>\n",
       "      <td></td>\n",
       "      <td>Pearl diving</td>\n",
       "      <td>Unprovoked</td>\n",
       "      <td>1</td>\n",
       "    </tr>\n",
       "    <tr>\n",
       "      <th>1</th>\n",
       "      <td>1580</td>\n",
       "      <td>Jan</td>\n",
       "      <td>Man fell overboard from ship. Those on board t...</td>\n",
       "      <td>Unprovoked</td>\n",
       "      <td>1</td>\n",
       "    </tr>\n",
       "    <tr>\n",
       "      <th>2</th>\n",
       "      <td>1642</td>\n",
       "      <td>Unknown</td>\n",
       "      <td>Swimming</td>\n",
       "      <td>Unprovoked</td>\n",
       "      <td>1</td>\n",
       "    </tr>\n",
       "    <tr>\n",
       "      <th>3</th>\n",
       "      <td>1700</td>\n",
       "      <td>Unknown</td>\n",
       "      <td>Bathing</td>\n",
       "      <td>Unprovoked</td>\n",
       "      <td>0</td>\n",
       "    </tr>\n",
       "    <tr>\n",
       "      <th>4</th>\n",
       "      <td>1700</td>\n",
       "      <td>Unknown</td>\n",
       "      <td>Bathing</td>\n",
       "      <td>Unprovoked</td>\n",
       "      <td>1</td>\n",
       "    </tr>\n",
       "    <tr>\n",
       "      <th>...</th>\n",
       "      <td>...</td>\n",
       "      <td>...</td>\n",
       "      <td>...</td>\n",
       "      <td>...</td>\n",
       "      <td>...</td>\n",
       "    </tr>\n",
       "    <tr>\n",
       "      <th>5215</th>\n",
       "      <td>2018</td>\n",
       "      <td>Feb</td>\n",
       "      <td>Walking</td>\n",
       "      <td>Unprovoked</td>\n",
       "      <td>0</td>\n",
       "    </tr>\n",
       "    <tr>\n",
       "      <th>5216</th>\n",
       "      <td>2018</td>\n",
       "      <td>Jan</td>\n",
       "      <td>Diving</td>\n",
       "      <td>Unprovoked</td>\n",
       "      <td>0</td>\n",
       "    </tr>\n",
       "    <tr>\n",
       "      <th>5217</th>\n",
       "      <td>2018</td>\n",
       "      <td>Jan</td>\n",
       "      <td>Free diving</td>\n",
       "      <td>Unprovoked</td>\n",
       "      <td>0</td>\n",
       "    </tr>\n",
       "    <tr>\n",
       "      <th>5218</th>\n",
       "      <td>2018</td>\n",
       "      <td>Jan</td>\n",
       "      <td>Spearfishing</td>\n",
       "      <td>Unprovoked</td>\n",
       "      <td>0</td>\n",
       "    </tr>\n",
       "    <tr>\n",
       "      <th>5219</th>\n",
       "      <td>2018</td>\n",
       "      <td>Jan</td>\n",
       "      <td>Surfing</td>\n",
       "      <td>Unprovoked</td>\n",
       "      <td>0</td>\n",
       "    </tr>\n",
       "  </tbody>\n",
       "</table>\n",
       "<p>5220 rows × 5 columns</p>\n",
       "</div>"
      ],
      "text/plain": [
       "      Year    Month                                           Activity  \\\n",
       "0     1543                                                Pearl diving   \n",
       "1     1580      Jan  Man fell overboard from ship. Those on board t...   \n",
       "2     1642  Unknown                                          Swimming    \n",
       "3     1700  Unknown                                            Bathing   \n",
       "4     1700  Unknown                                            Bathing   \n",
       "...    ...      ...                                                ...   \n",
       "5215  2018      Feb                                            Walking   \n",
       "5216  2018      Jan                                             Diving   \n",
       "5217  2018      Jan                                        Free diving   \n",
       "5218  2018      Jan                                       Spearfishing   \n",
       "5219  2018      Jan                                            Surfing   \n",
       "\n",
       "            Type  Fatal  \n",
       "0     Unprovoked      1  \n",
       "1     Unprovoked      1  \n",
       "2     Unprovoked      1  \n",
       "3     Unprovoked      0  \n",
       "4     Unprovoked      1  \n",
       "...          ...    ...  \n",
       "5215  Unprovoked      0  \n",
       "5216  Unprovoked      0  \n",
       "5217  Unprovoked      0  \n",
       "5218  Unprovoked      0  \n",
       "5219  Unprovoked      0  \n",
       "\n",
       "[5220 rows x 5 columns]"
      ]
     },
     "execution_count": 193,
     "metadata": {},
     "output_type": "execute_result"
    }
   ],
   "source": [
    "data_final"
   ]
  },
  {
   "cell_type": "code",
   "execution_count": 239,
   "metadata": {},
   "outputs": [],
   "source": [
    "#guardamos la data limpia en un nuevo csv\n",
    "#pero tengo que mejorarlo así que volveré a ello\n",
    "data_final.to_csv('attacks_data_clean.csv')\n"
   ]
  },
  {
   "cell_type": "markdown",
   "metadata": {},
   "source": [
    "## La respuesta a nuestras preguntas sería:\n",
    "\n",
    "1- In which year most sharks attacks occurred\n",
    "\n",
    "2- Doing which activity most sharck attacks occurred in that year"
   ]
  },
  {
   "cell_type": "markdown",
   "metadata": {},
   "source": [
    "###### 1- In which year most sharks attacks occurred -> 2015"
   ]
  },
  {
   "cell_type": "markdown",
   "metadata": {},
   "source": [
    "Vemos que cada año que pasa hay más ataques.\n",
    "\n",
    "Pero, tambien tenemos que tener en cuenta que cada año quizás se registran los ataques con más precisión. También podría ser la razón de que cada año augmenten"
   ]
  },
  {
   "cell_type": "code",
   "execution_count": 274,
   "metadata": {},
   "outputs": [
    {
     "data": {
      "text/plain": [
       "2015    124\n",
       "2016    116\n",
       "2017    116\n",
       "2014    114\n",
       "2011    114\n",
       "2009    109\n",
       "2012    109\n",
       "2013    107\n",
       "2008    106\n",
       "2007     98\n",
       "2010     94\n",
       "2006     91\n",
       "2000     87\n",
       "2005     87\n",
       "2003     84\n",
       "2002     82\n",
       "2004     79\n",
       "2001     79\n",
       "1960     75\n",
       "1962     72\n",
       "Name: Year, dtype: int64"
      ]
     },
     "execution_count": 274,
     "metadata": {},
     "output_type": "execute_result"
    }
   ],
   "source": [
    "data_final[\"Year\"].value_counts().head(20)"
   ]
  },
  {
   "cell_type": "markdown",
   "metadata": {},
   "source": [
    "*Note:*\n",
    "\n",
    "Debo arreglar las fechas ya que hay algunos errores y no puedo sacar la grafica:\n",
    "\n",
    "- Así haría el grafico para saber la relación entre número de ataques y si han sido Fatal\n",
    "    data.plot(data_final.Year,data_final.Fatal)\n",
    "       \n",
    "- Así haría el grafico para saber como han ido evolucionando el número de ataques:\n",
    "    data.plot(data_final[\"Year\"].value_counts())"
   ]
  },
  {
   "cell_type": "markdown",
   "metadata": {},
   "source": [
    "######  2- Doing which activity most sharck attacks occurred in that year -> Surfing"
   ]
  },
  {
   "cell_type": "code",
   "execution_count": 287,
   "metadata": {},
   "outputs": [
    {
     "data": {
      "text/html": [
       "<div>\n",
       "<style scoped>\n",
       "    .dataframe tbody tr th:only-of-type {\n",
       "        vertical-align: middle;\n",
       "    }\n",
       "\n",
       "    .dataframe tbody tr th {\n",
       "        vertical-align: top;\n",
       "    }\n",
       "\n",
       "    .dataframe thead th {\n",
       "        text-align: right;\n",
       "    }\n",
       "</style>\n",
       "<table border=\"1\" class=\"dataframe\">\n",
       "  <thead>\n",
       "    <tr style=\"text-align: right;\">\n",
       "      <th></th>\n",
       "      <th>Year</th>\n",
       "      <th>Month</th>\n",
       "      <th>Activity</th>\n",
       "      <th>Type</th>\n",
       "      <th>Fatal</th>\n",
       "    </tr>\n",
       "  </thead>\n",
       "  <tbody>\n",
       "    <tr>\n",
       "      <th>4835</th>\n",
       "      <td>2015</td>\n",
       "      <td>Apr</td>\n",
       "      <td>Paddle boarding</td>\n",
       "      <td>Unprovoked</td>\n",
       "      <td>0</td>\n",
       "    </tr>\n",
       "    <tr>\n",
       "      <th>4836</th>\n",
       "      <td>2015</td>\n",
       "      <td>Apr</td>\n",
       "      <td>Photographing the shark</td>\n",
       "      <td>Unprovoked</td>\n",
       "      <td>0</td>\n",
       "    </tr>\n",
       "    <tr>\n",
       "      <th>4837</th>\n",
       "      <td>2015</td>\n",
       "      <td>Apr</td>\n",
       "      <td>Snorkeling</td>\n",
       "      <td>Unprovoked</td>\n",
       "      <td>1</td>\n",
       "    </tr>\n",
       "    <tr>\n",
       "      <th>4838</th>\n",
       "      <td>2015</td>\n",
       "      <td>Apr</td>\n",
       "      <td>Spearfishing</td>\n",
       "      <td>Unprovoked</td>\n",
       "      <td>0</td>\n",
       "    </tr>\n",
       "    <tr>\n",
       "      <th>4839</th>\n",
       "      <td>2015</td>\n",
       "      <td>Apr</td>\n",
       "      <td>Surfing</td>\n",
       "      <td>Unprovoked</td>\n",
       "      <td>0</td>\n",
       "    </tr>\n",
       "    <tr>\n",
       "      <th>...</th>\n",
       "      <td>...</td>\n",
       "      <td>...</td>\n",
       "      <td>...</td>\n",
       "      <td>...</td>\n",
       "      <td>...</td>\n",
       "    </tr>\n",
       "    <tr>\n",
       "      <th>4954</th>\n",
       "      <td>2015</td>\n",
       "      <td>Sep</td>\n",
       "      <td>Surfing</td>\n",
       "      <td>Unprovoked</td>\n",
       "      <td>0</td>\n",
       "    </tr>\n",
       "    <tr>\n",
       "      <th>4955</th>\n",
       "      <td>2015</td>\n",
       "      <td>Sep</td>\n",
       "      <td>Surfing</td>\n",
       "      <td>Unprovoked</td>\n",
       "      <td>0</td>\n",
       "    </tr>\n",
       "    <tr>\n",
       "      <th>4956</th>\n",
       "      <td>2015</td>\n",
       "      <td>Sep</td>\n",
       "      <td>Swimming</td>\n",
       "      <td>Unprovoked</td>\n",
       "      <td>0</td>\n",
       "    </tr>\n",
       "    <tr>\n",
       "      <th>4957</th>\n",
       "      <td>2015</td>\n",
       "      <td>Sep</td>\n",
       "      <td>Wading</td>\n",
       "      <td>Unprovoked</td>\n",
       "      <td>0</td>\n",
       "    </tr>\n",
       "    <tr>\n",
       "      <th>4958</th>\n",
       "      <td>2015</td>\n",
       "      <td>Sep</td>\n",
       "      <td>Wading</td>\n",
       "      <td>Unprovoked</td>\n",
       "      <td>0</td>\n",
       "    </tr>\n",
       "  </tbody>\n",
       "</table>\n",
       "<p>124 rows × 5 columns</p>\n",
       "</div>"
      ],
      "text/plain": [
       "      Year Month                 Activity        Type  Fatal\n",
       "4835  2015   Apr          Paddle boarding  Unprovoked      0\n",
       "4836  2015   Apr  Photographing the shark  Unprovoked      0\n",
       "4837  2015   Apr               Snorkeling  Unprovoked      1\n",
       "4838  2015   Apr             Spearfishing  Unprovoked      0\n",
       "4839  2015   Apr                  Surfing  Unprovoked      0\n",
       "...    ...   ...                      ...         ...    ...\n",
       "4954  2015   Sep                  Surfing  Unprovoked      0\n",
       "4955  2015   Sep                  Surfing  Unprovoked      0\n",
       "4956  2015   Sep                 Swimming  Unprovoked      0\n",
       "4957  2015   Sep                   Wading  Unprovoked      0\n",
       "4958  2015   Sep                   Wading  Unprovoked      0\n",
       "\n",
       "[124 rows x 5 columns]"
      ]
     },
     "execution_count": 287,
     "metadata": {},
     "output_type": "execute_result"
    }
   ],
   "source": [
    "data_final[data_final[\"Year\"]==\"2015\"]"
   ]
  },
  {
   "cell_type": "code",
   "execution_count": 276,
   "metadata": {
    "scrolled": true
   },
   "outputs": [
    {
     "data": {
      "text/plain": [
       "Surfing            916\n",
       "Swimming           761\n",
       "Fishing            403\n",
       "Spearfishing       302\n",
       "Bathing            147\n",
       "Wading             133\n",
       "Diving             109\n",
       "Standing            94\n",
       "Snorkeling          85\n",
       "Scuba diving        63\n",
       "Body boarding       61\n",
       "Body surfing        46\n",
       "Swimming            40\n",
       "Pearl diving        31\n",
       "Kayaking            31\n",
       "Treading water      30\n",
       "Fell overboard      27\n",
       "Boogie boarding     24\n",
       "Free diving         23\n",
       "Windsurfing         19\n",
       "Name: Activity, dtype: int64"
      ]
     },
     "execution_count": 276,
     "metadata": {},
     "output_type": "execute_result"
    }
   ],
   "source": [
    "data_final[\"Activity\"].value_counts().head(20)"
   ]
  },
  {
   "cell_type": "markdown",
   "metadata": {},
   "source": [
    "*Note:*\n",
    "- Pasa igual que en Year, debo impiar las palabras mejor para reducir las actividades en grupos"
   ]
  },
  {
   "cell_type": "code",
   "execution_count": null,
   "metadata": {},
   "outputs": [],
   "source": []
  }
 ],
 "metadata": {
  "kernelspec": {
   "display_name": "Python 3",
   "language": "python",
   "name": "python3"
  },
  "language_info": {
   "codemirror_mode": {
    "name": "ipython",
    "version": 3
   },
   "file_extension": ".py",
   "mimetype": "text/x-python",
   "name": "python",
   "nbconvert_exporter": "python",
   "pygments_lexer": "ipython3",
   "version": "3.7.7"
  }
 },
 "nbformat": 4,
 "nbformat_minor": 4
}
