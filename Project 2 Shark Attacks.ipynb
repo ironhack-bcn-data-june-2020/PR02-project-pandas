{
 "cells": [
  {
   "cell_type": "markdown",
   "metadata": {},
   "source": [
    "# Shark Attack Incidents"
   ]
  },
  {
   "cell_type": "markdown",
   "metadata": {},
   "source": [
    "### Read the file and first overview"
   ]
  },
  {
   "cell_type": "code",
   "execution_count": 1,
   "metadata": {},
   "outputs": [],
   "source": [
    "import pandas as pd"
   ]
  },
  {
   "cell_type": "code",
   "execution_count": 2,
   "metadata": {},
   "outputs": [],
   "source": [
    "sharks = pd.read_csv(r\"./attacks.csv\", encoding='latin-1')"
   ]
  },
  {
   "cell_type": "code",
   "execution_count": 3,
   "metadata": {},
   "outputs": [
    {
     "data": {
      "text/plain": [
       "(25723, 24)"
      ]
     },
     "execution_count": 3,
     "metadata": {},
     "output_type": "execute_result"
    }
   ],
   "source": [
    "sharks.shape"
   ]
  },
  {
   "cell_type": "code",
   "execution_count": 4,
   "metadata": {},
   "outputs": [
    {
     "data": {
      "text/html": [
       "<div>\n",
       "<style scoped>\n",
       "    .dataframe tbody tr th:only-of-type {\n",
       "        vertical-align: middle;\n",
       "    }\n",
       "\n",
       "    .dataframe tbody tr th {\n",
       "        vertical-align: top;\n",
       "    }\n",
       "\n",
       "    .dataframe thead th {\n",
       "        text-align: right;\n",
       "    }\n",
       "</style>\n",
       "<table border=\"1\" class=\"dataframe\">\n",
       "  <thead>\n",
       "    <tr style=\"text-align: right;\">\n",
       "      <th></th>\n",
       "      <th>Case Number</th>\n",
       "      <th>Date</th>\n",
       "      <th>Year</th>\n",
       "      <th>Type</th>\n",
       "      <th>Country</th>\n",
       "      <th>Area</th>\n",
       "      <th>Location</th>\n",
       "      <th>Activity</th>\n",
       "      <th>Name</th>\n",
       "      <th>Sex</th>\n",
       "      <th>Age</th>\n",
       "      <th>Injury</th>\n",
       "      <th>Fatal (Y/N)</th>\n",
       "      <th>Time</th>\n",
       "      <th>Species</th>\n",
       "      <th>Investigator or Source</th>\n",
       "      <th>pdf</th>\n",
       "      <th>href formula</th>\n",
       "      <th>href</th>\n",
       "      <th>Case Number.1</th>\n",
       "      <th>Case Number.2</th>\n",
       "      <th>original order</th>\n",
       "      <th>Unnamed: 22</th>\n",
       "      <th>Unnamed: 23</th>\n",
       "    </tr>\n",
       "  </thead>\n",
       "  <tbody>\n",
       "    <tr>\n",
       "      <th>0</th>\n",
       "      <td>2018.06.25</td>\n",
       "      <td>25-Jun-2018</td>\n",
       "      <td>2018.0</td>\n",
       "      <td>Boating</td>\n",
       "      <td>USA</td>\n",
       "      <td>California</td>\n",
       "      <td>Oceanside, San Diego County</td>\n",
       "      <td>Paddling</td>\n",
       "      <td>Julie Wolfe</td>\n",
       "      <td>F</td>\n",
       "      <td>57</td>\n",
       "      <td>No injury to occupant, outrigger canoe and pad...</td>\n",
       "      <td>N</td>\n",
       "      <td>18h00</td>\n",
       "      <td>White shark</td>\n",
       "      <td>R. Collier, GSAF</td>\n",
       "      <td>2018.06.25-Wolfe.pdf</td>\n",
       "      <td>http://sharkattackfile.net/spreadsheets/pdf_di...</td>\n",
       "      <td>http://sharkattackfile.net/spreadsheets/pdf_di...</td>\n",
       "      <td>2018.06.25</td>\n",
       "      <td>2018.06.25</td>\n",
       "      <td>6303.0</td>\n",
       "      <td>NaN</td>\n",
       "      <td>NaN</td>\n",
       "    </tr>\n",
       "    <tr>\n",
       "      <th>1</th>\n",
       "      <td>2018.06.18</td>\n",
       "      <td>18-Jun-2018</td>\n",
       "      <td>2018.0</td>\n",
       "      <td>Unprovoked</td>\n",
       "      <td>USA</td>\n",
       "      <td>Georgia</td>\n",
       "      <td>St. Simon Island, Glynn County</td>\n",
       "      <td>Standing</td>\n",
       "      <td>Adyson McNeely</td>\n",
       "      <td>F</td>\n",
       "      <td>11</td>\n",
       "      <td>Minor injury to left thigh</td>\n",
       "      <td>N</td>\n",
       "      <td>14h00  -15h00</td>\n",
       "      <td>NaN</td>\n",
       "      <td>K.McMurray, TrackingSharks.com</td>\n",
       "      <td>2018.06.18-McNeely.pdf</td>\n",
       "      <td>http://sharkattackfile.net/spreadsheets/pdf_di...</td>\n",
       "      <td>http://sharkattackfile.net/spreadsheets/pdf_di...</td>\n",
       "      <td>2018.06.18</td>\n",
       "      <td>2018.06.18</td>\n",
       "      <td>6302.0</td>\n",
       "      <td>NaN</td>\n",
       "      <td>NaN</td>\n",
       "    </tr>\n",
       "    <tr>\n",
       "      <th>2</th>\n",
       "      <td>2018.06.09</td>\n",
       "      <td>09-Jun-2018</td>\n",
       "      <td>2018.0</td>\n",
       "      <td>Invalid</td>\n",
       "      <td>USA</td>\n",
       "      <td>Hawaii</td>\n",
       "      <td>Habush, Oahu</td>\n",
       "      <td>Surfing</td>\n",
       "      <td>John Denges</td>\n",
       "      <td>M</td>\n",
       "      <td>48</td>\n",
       "      <td>Injury to left lower leg from surfboard skeg</td>\n",
       "      <td>N</td>\n",
       "      <td>07h45</td>\n",
       "      <td>NaN</td>\n",
       "      <td>K.McMurray, TrackingSharks.com</td>\n",
       "      <td>2018.06.09-Denges.pdf</td>\n",
       "      <td>http://sharkattackfile.net/spreadsheets/pdf_di...</td>\n",
       "      <td>http://sharkattackfile.net/spreadsheets/pdf_di...</td>\n",
       "      <td>2018.06.09</td>\n",
       "      <td>2018.06.09</td>\n",
       "      <td>6301.0</td>\n",
       "      <td>NaN</td>\n",
       "      <td>NaN</td>\n",
       "    </tr>\n",
       "    <tr>\n",
       "      <th>3</th>\n",
       "      <td>2018.06.08</td>\n",
       "      <td>08-Jun-2018</td>\n",
       "      <td>2018.0</td>\n",
       "      <td>Unprovoked</td>\n",
       "      <td>AUSTRALIA</td>\n",
       "      <td>New South Wales</td>\n",
       "      <td>Arrawarra Headland</td>\n",
       "      <td>Surfing</td>\n",
       "      <td>male</td>\n",
       "      <td>M</td>\n",
       "      <td>NaN</td>\n",
       "      <td>Minor injury to lower leg</td>\n",
       "      <td>N</td>\n",
       "      <td>NaN</td>\n",
       "      <td>2 m shark</td>\n",
       "      <td>B. Myatt, GSAF</td>\n",
       "      <td>2018.06.08-Arrawarra.pdf</td>\n",
       "      <td>http://sharkattackfile.net/spreadsheets/pdf_di...</td>\n",
       "      <td>http://sharkattackfile.net/spreadsheets/pdf_di...</td>\n",
       "      <td>2018.06.08</td>\n",
       "      <td>2018.06.08</td>\n",
       "      <td>6300.0</td>\n",
       "      <td>NaN</td>\n",
       "      <td>NaN</td>\n",
       "    </tr>\n",
       "    <tr>\n",
       "      <th>4</th>\n",
       "      <td>2018.06.04</td>\n",
       "      <td>04-Jun-2018</td>\n",
       "      <td>2018.0</td>\n",
       "      <td>Provoked</td>\n",
       "      <td>MEXICO</td>\n",
       "      <td>Colima</td>\n",
       "      <td>La Ticla</td>\n",
       "      <td>Free diving</td>\n",
       "      <td>Gustavo Ramos</td>\n",
       "      <td>M</td>\n",
       "      <td>NaN</td>\n",
       "      <td>Lacerations to leg &amp; hand shark PROVOKED INCIDENT</td>\n",
       "      <td>N</td>\n",
       "      <td>NaN</td>\n",
       "      <td>Tiger shark, 3m</td>\n",
       "      <td>A .Kipper</td>\n",
       "      <td>2018.06.04-Ramos.pdf</td>\n",
       "      <td>http://sharkattackfile.net/spreadsheets/pdf_di...</td>\n",
       "      <td>http://sharkattackfile.net/spreadsheets/pdf_di...</td>\n",
       "      <td>2018.06.04</td>\n",
       "      <td>2018.06.04</td>\n",
       "      <td>6299.0</td>\n",
       "      <td>NaN</td>\n",
       "      <td>NaN</td>\n",
       "    </tr>\n",
       "    <tr>\n",
       "      <th>...</th>\n",
       "      <td>...</td>\n",
       "      <td>...</td>\n",
       "      <td>...</td>\n",
       "      <td>...</td>\n",
       "      <td>...</td>\n",
       "      <td>...</td>\n",
       "      <td>...</td>\n",
       "      <td>...</td>\n",
       "      <td>...</td>\n",
       "      <td>...</td>\n",
       "      <td>...</td>\n",
       "      <td>...</td>\n",
       "      <td>...</td>\n",
       "      <td>...</td>\n",
       "      <td>...</td>\n",
       "      <td>...</td>\n",
       "      <td>...</td>\n",
       "      <td>...</td>\n",
       "      <td>...</td>\n",
       "      <td>...</td>\n",
       "      <td>...</td>\n",
       "      <td>...</td>\n",
       "      <td>...</td>\n",
       "      <td>...</td>\n",
       "    </tr>\n",
       "    <tr>\n",
       "      <th>25718</th>\n",
       "      <td>NaN</td>\n",
       "      <td>NaN</td>\n",
       "      <td>NaN</td>\n",
       "      <td>NaN</td>\n",
       "      <td>NaN</td>\n",
       "      <td>NaN</td>\n",
       "      <td>NaN</td>\n",
       "      <td>NaN</td>\n",
       "      <td>NaN</td>\n",
       "      <td>NaN</td>\n",
       "      <td>NaN</td>\n",
       "      <td>NaN</td>\n",
       "      <td>NaN</td>\n",
       "      <td>NaN</td>\n",
       "      <td>NaN</td>\n",
       "      <td>NaN</td>\n",
       "      <td>NaN</td>\n",
       "      <td>NaN</td>\n",
       "      <td>NaN</td>\n",
       "      <td>NaN</td>\n",
       "      <td>NaN</td>\n",
       "      <td>NaN</td>\n",
       "      <td>NaN</td>\n",
       "      <td>NaN</td>\n",
       "    </tr>\n",
       "    <tr>\n",
       "      <th>25719</th>\n",
       "      <td>NaN</td>\n",
       "      <td>NaN</td>\n",
       "      <td>NaN</td>\n",
       "      <td>NaN</td>\n",
       "      <td>NaN</td>\n",
       "      <td>NaN</td>\n",
       "      <td>NaN</td>\n",
       "      <td>NaN</td>\n",
       "      <td>NaN</td>\n",
       "      <td>NaN</td>\n",
       "      <td>NaN</td>\n",
       "      <td>NaN</td>\n",
       "      <td>NaN</td>\n",
       "      <td>NaN</td>\n",
       "      <td>NaN</td>\n",
       "      <td>NaN</td>\n",
       "      <td>NaN</td>\n",
       "      <td>NaN</td>\n",
       "      <td>NaN</td>\n",
       "      <td>NaN</td>\n",
       "      <td>NaN</td>\n",
       "      <td>NaN</td>\n",
       "      <td>NaN</td>\n",
       "      <td>NaN</td>\n",
       "    </tr>\n",
       "    <tr>\n",
       "      <th>25720</th>\n",
       "      <td>NaN</td>\n",
       "      <td>NaN</td>\n",
       "      <td>NaN</td>\n",
       "      <td>NaN</td>\n",
       "      <td>NaN</td>\n",
       "      <td>NaN</td>\n",
       "      <td>NaN</td>\n",
       "      <td>NaN</td>\n",
       "      <td>NaN</td>\n",
       "      <td>NaN</td>\n",
       "      <td>NaN</td>\n",
       "      <td>NaN</td>\n",
       "      <td>NaN</td>\n",
       "      <td>NaN</td>\n",
       "      <td>NaN</td>\n",
       "      <td>NaN</td>\n",
       "      <td>NaN</td>\n",
       "      <td>NaN</td>\n",
       "      <td>NaN</td>\n",
       "      <td>NaN</td>\n",
       "      <td>NaN</td>\n",
       "      <td>NaN</td>\n",
       "      <td>NaN</td>\n",
       "      <td>NaN</td>\n",
       "    </tr>\n",
       "    <tr>\n",
       "      <th>25721</th>\n",
       "      <td>NaN</td>\n",
       "      <td>NaN</td>\n",
       "      <td>NaN</td>\n",
       "      <td>NaN</td>\n",
       "      <td>NaN</td>\n",
       "      <td>NaN</td>\n",
       "      <td>NaN</td>\n",
       "      <td>NaN</td>\n",
       "      <td>NaN</td>\n",
       "      <td>NaN</td>\n",
       "      <td>NaN</td>\n",
       "      <td>NaN</td>\n",
       "      <td>NaN</td>\n",
       "      <td>NaN</td>\n",
       "      <td>NaN</td>\n",
       "      <td>NaN</td>\n",
       "      <td>NaN</td>\n",
       "      <td>NaN</td>\n",
       "      <td>NaN</td>\n",
       "      <td>NaN</td>\n",
       "      <td>NaN</td>\n",
       "      <td>NaN</td>\n",
       "      <td>NaN</td>\n",
       "      <td>NaN</td>\n",
       "    </tr>\n",
       "    <tr>\n",
       "      <th>25722</th>\n",
       "      <td>xx</td>\n",
       "      <td>NaN</td>\n",
       "      <td>NaN</td>\n",
       "      <td>NaN</td>\n",
       "      <td>NaN</td>\n",
       "      <td>NaN</td>\n",
       "      <td>NaN</td>\n",
       "      <td>NaN</td>\n",
       "      <td>NaN</td>\n",
       "      <td>NaN</td>\n",
       "      <td>NaN</td>\n",
       "      <td>NaN</td>\n",
       "      <td>NaN</td>\n",
       "      <td>NaN</td>\n",
       "      <td>NaN</td>\n",
       "      <td>NaN</td>\n",
       "      <td>NaN</td>\n",
       "      <td>NaN</td>\n",
       "      <td>NaN</td>\n",
       "      <td>NaN</td>\n",
       "      <td>NaN</td>\n",
       "      <td>NaN</td>\n",
       "      <td>NaN</td>\n",
       "      <td>NaN</td>\n",
       "    </tr>\n",
       "  </tbody>\n",
       "</table>\n",
       "<p>25723 rows × 24 columns</p>\n",
       "</div>"
      ],
      "text/plain": [
       "      Case Number         Date    Year        Type    Country  \\\n",
       "0      2018.06.25  25-Jun-2018  2018.0     Boating        USA   \n",
       "1      2018.06.18  18-Jun-2018  2018.0  Unprovoked        USA   \n",
       "2      2018.06.09  09-Jun-2018  2018.0     Invalid        USA   \n",
       "3      2018.06.08  08-Jun-2018  2018.0  Unprovoked  AUSTRALIA   \n",
       "4      2018.06.04  04-Jun-2018  2018.0    Provoked     MEXICO   \n",
       "...           ...          ...     ...         ...        ...   \n",
       "25718         NaN          NaN     NaN         NaN        NaN   \n",
       "25719         NaN          NaN     NaN         NaN        NaN   \n",
       "25720         NaN          NaN     NaN         NaN        NaN   \n",
       "25721         NaN          NaN     NaN         NaN        NaN   \n",
       "25722          xx          NaN     NaN         NaN        NaN   \n",
       "\n",
       "                  Area                        Location     Activity  \\\n",
       "0           California     Oceanside, San Diego County     Paddling   \n",
       "1              Georgia  St. Simon Island, Glynn County     Standing   \n",
       "2               Hawaii                    Habush, Oahu      Surfing   \n",
       "3      New South Wales              Arrawarra Headland      Surfing   \n",
       "4               Colima                        La Ticla  Free diving   \n",
       "...                ...                             ...          ...   \n",
       "25718              NaN                             NaN          NaN   \n",
       "25719              NaN                             NaN          NaN   \n",
       "25720              NaN                             NaN          NaN   \n",
       "25721              NaN                             NaN          NaN   \n",
       "25722              NaN                             NaN          NaN   \n",
       "\n",
       "                  Name Sex   Age  \\\n",
       "0          Julie Wolfe    F   57   \n",
       "1      Adyson McNeely     F   11   \n",
       "2          John Denges    M   48   \n",
       "3                 male    M  NaN   \n",
       "4       Gustavo Ramos     M  NaN   \n",
       "...                ...  ...  ...   \n",
       "25718              NaN  NaN  NaN   \n",
       "25719              NaN  NaN  NaN   \n",
       "25720              NaN  NaN  NaN   \n",
       "25721              NaN  NaN  NaN   \n",
       "25722              NaN  NaN  NaN   \n",
       "\n",
       "                                                  Injury Fatal (Y/N)  \\\n",
       "0      No injury to occupant, outrigger canoe and pad...           N   \n",
       "1                             Minor injury to left thigh           N   \n",
       "2           Injury to left lower leg from surfboard skeg           N   \n",
       "3                              Minor injury to lower leg           N   \n",
       "4      Lacerations to leg & hand shark PROVOKED INCIDENT           N   \n",
       "...                                                  ...         ...   \n",
       "25718                                                NaN         NaN   \n",
       "25719                                                NaN         NaN   \n",
       "25720                                                NaN         NaN   \n",
       "25721                                                NaN         NaN   \n",
       "25722                                                NaN         NaN   \n",
       "\n",
       "                Time         Species           Investigator or Source  \\\n",
       "0              18h00      White shark                R. Collier, GSAF   \n",
       "1      14h00  -15h00              NaN  K.McMurray, TrackingSharks.com   \n",
       "2              07h45              NaN  K.McMurray, TrackingSharks.com   \n",
       "3                NaN        2 m shark                  B. Myatt, GSAF   \n",
       "4                NaN  Tiger shark, 3m                       A .Kipper   \n",
       "...              ...              ...                             ...   \n",
       "25718            NaN              NaN                             NaN   \n",
       "25719            NaN              NaN                             NaN   \n",
       "25720            NaN              NaN                             NaN   \n",
       "25721            NaN              NaN                             NaN   \n",
       "25722            NaN              NaN                             NaN   \n",
       "\n",
       "                            pdf  \\\n",
       "0          2018.06.25-Wolfe.pdf   \n",
       "1        2018.06.18-McNeely.pdf   \n",
       "2         2018.06.09-Denges.pdf   \n",
       "3      2018.06.08-Arrawarra.pdf   \n",
       "4          2018.06.04-Ramos.pdf   \n",
       "...                         ...   \n",
       "25718                       NaN   \n",
       "25719                       NaN   \n",
       "25720                       NaN   \n",
       "25721                       NaN   \n",
       "25722                       NaN   \n",
       "\n",
       "                                            href formula  \\\n",
       "0      http://sharkattackfile.net/spreadsheets/pdf_di...   \n",
       "1      http://sharkattackfile.net/spreadsheets/pdf_di...   \n",
       "2      http://sharkattackfile.net/spreadsheets/pdf_di...   \n",
       "3      http://sharkattackfile.net/spreadsheets/pdf_di...   \n",
       "4      http://sharkattackfile.net/spreadsheets/pdf_di...   \n",
       "...                                                  ...   \n",
       "25718                                                NaN   \n",
       "25719                                                NaN   \n",
       "25720                                                NaN   \n",
       "25721                                                NaN   \n",
       "25722                                                NaN   \n",
       "\n",
       "                                                    href Case Number.1  \\\n",
       "0      http://sharkattackfile.net/spreadsheets/pdf_di...    2018.06.25   \n",
       "1      http://sharkattackfile.net/spreadsheets/pdf_di...    2018.06.18   \n",
       "2      http://sharkattackfile.net/spreadsheets/pdf_di...    2018.06.09   \n",
       "3      http://sharkattackfile.net/spreadsheets/pdf_di...    2018.06.08   \n",
       "4      http://sharkattackfile.net/spreadsheets/pdf_di...    2018.06.04   \n",
       "...                                                  ...           ...   \n",
       "25718                                                NaN           NaN   \n",
       "25719                                                NaN           NaN   \n",
       "25720                                                NaN           NaN   \n",
       "25721                                                NaN           NaN   \n",
       "25722                                                NaN           NaN   \n",
       "\n",
       "      Case Number.2  original order Unnamed: 22 Unnamed: 23  \n",
       "0        2018.06.25          6303.0         NaN         NaN  \n",
       "1        2018.06.18          6302.0         NaN         NaN  \n",
       "2        2018.06.09          6301.0         NaN         NaN  \n",
       "3        2018.06.08          6300.0         NaN         NaN  \n",
       "4        2018.06.04          6299.0         NaN         NaN  \n",
       "...             ...             ...         ...         ...  \n",
       "25718           NaN             NaN         NaN         NaN  \n",
       "25719           NaN             NaN         NaN         NaN  \n",
       "25720           NaN             NaN         NaN         NaN  \n",
       "25721           NaN             NaN         NaN         NaN  \n",
       "25722           NaN             NaN         NaN         NaN  \n",
       "\n",
       "[25723 rows x 24 columns]"
      ]
     },
     "execution_count": 4,
     "metadata": {},
     "output_type": "execute_result"
    }
   ],
   "source": [
    "pd.set_option(\"display.max_columns\",24) \n",
    "sharks"
   ]
  },
  {
   "cell_type": "code",
   "execution_count": 5,
   "metadata": {},
   "outputs": [
    {
     "name": "stdout",
     "output_type": "stream",
     "text": [
      "<class 'pandas.core.frame.DataFrame'>\n",
      "RangeIndex: 25723 entries, 0 to 25722\n",
      "Data columns (total 24 columns):\n",
      " #   Column                  Non-Null Count  Dtype  \n",
      "---  ------                  --------------  -----  \n",
      " 0   Case Number             8702 non-null   object \n",
      " 1   Date                    6302 non-null   object \n",
      " 2   Year                    6300 non-null   float64\n",
      " 3   Type                    6298 non-null   object \n",
      " 4   Country                 6252 non-null   object \n",
      " 5   Area                    5847 non-null   object \n",
      " 6   Location                5762 non-null   object \n",
      " 7   Activity                5758 non-null   object \n",
      " 8   Name                    6092 non-null   object \n",
      " 9   Sex                     5737 non-null   object \n",
      " 10  Age                     3471 non-null   object \n",
      " 11  Injury                  6274 non-null   object \n",
      " 12  Fatal (Y/N)             5763 non-null   object \n",
      " 13  Time                    2948 non-null   object \n",
      " 14  Species                 3464 non-null   object \n",
      " 15  Investigator or Source  6285 non-null   object \n",
      " 16  pdf                     6302 non-null   object \n",
      " 17  href formula            6301 non-null   object \n",
      " 18  href                    6302 non-null   object \n",
      " 19  Case Number.1           6302 non-null   object \n",
      " 20  Case Number.2           6302 non-null   object \n",
      " 21  original order          6309 non-null   float64\n",
      " 22  Unnamed: 22             1 non-null      object \n",
      " 23  Unnamed: 23             2 non-null      object \n",
      "dtypes: float64(2), object(22)\n",
      "memory usage: 4.7+ MB\n"
     ]
    }
   ],
   "source": [
    "sharks.info() #we have a first overview and check what needs to be cleaned"
   ]
  },
  {
   "cell_type": "markdown",
   "metadata": {},
   "source": [
    "### We delete rows: Only NaN values / Duplicate rows/ No content in at least 3 "
   ]
  },
  {
   "cell_type": "code",
   "execution_count": 6,
   "metadata": {},
   "outputs": [],
   "source": [
    "sharks.dropna(how = \"all\", inplace = True) #we delete the rows with only NaN values "
   ]
  },
  {
   "cell_type": "code",
   "execution_count": 7,
   "metadata": {},
   "outputs": [
    {
     "data": {
      "text/plain": [
       "(8703, 24)"
      ]
     },
     "execution_count": 7,
     "metadata": {},
     "output_type": "execute_result"
    }
   ],
   "source": [
    "sharks.shape #we go from (25723, 24) to (8703, 24)"
   ]
  },
  {
   "cell_type": "code",
   "execution_count": 8,
   "metadata": {},
   "outputs": [],
   "source": [
    "sharks.drop_duplicates(inplace = True) #we delete the duplicate rows "
   ]
  },
  {
   "cell_type": "code",
   "execution_count": 9,
   "metadata": {},
   "outputs": [
    {
     "data": {
      "text/plain": [
       "(6311, 24)"
      ]
     },
     "execution_count": 9,
     "metadata": {},
     "output_type": "execute_result"
    }
   ],
   "source": [
    "sharks.shape"
   ]
  },
  {
   "cell_type": "code",
   "execution_count": 10,
   "metadata": {},
   "outputs": [],
   "source": [
    "##we keep only the rows that have information in at least 3 columns\n",
    "sharks.dropna(thresh =3, inplace = True) "
   ]
  },
  {
   "cell_type": "code",
   "execution_count": 11,
   "metadata": {},
   "outputs": [
    {
     "data": {
      "text/plain": [
       "(6302, 24)"
      ]
     },
     "execution_count": 11,
     "metadata": {},
     "output_type": "execute_result"
    }
   ],
   "source": [
    "sharks.shape"
   ]
  },
  {
   "cell_type": "markdown",
   "metadata": {},
   "source": [
    "### We drop columns 22 & 23 (only 1 or 2 non NaN)"
   ]
  },
  {
   "cell_type": "code",
   "execution_count": 12,
   "metadata": {},
   "outputs": [],
   "source": [
    "sharks.drop(['Unnamed: 22','Unnamed: 23'], axis=1, inplace=True) #axis = 1 because we are deleting columns "
   ]
  },
  {
   "cell_type": "code",
   "execution_count": null,
   "metadata": {},
   "outputs": [],
   "source": [
    "pd.set_option(\"display.max_rows\",None)"
   ]
  },
  {
   "cell_type": "markdown",
   "metadata": {},
   "source": [
    "### Year (we delete the rows with years older than 1700)"
   ]
  },
  {
   "cell_type": "code",
   "execution_count": 13,
   "metadata": {},
   "outputs": [],
   "source": [
    "sharks[\"Year\"].fillna(float(0.0), inplace = True) #3 rows only NaN"
   ]
  },
  {
   "cell_type": "code",
   "execution_count": 14,
   "metadata": {},
   "outputs": [],
   "source": [
    "sharks['Year'] = sharks['Year'].astype(int)"
   ]
  },
  {
   "cell_type": "code",
   "execution_count": 15,
   "metadata": {},
   "outputs": [],
   "source": [
    "sharks.sort_values(\"Year\",ascending=False,inplace = True) # we sort it \"descending\""
   ]
  },
  {
   "cell_type": "code",
   "execution_count": 16,
   "metadata": {},
   "outputs": [],
   "source": [
    "sharks.reset_index(drop=True,inplace = True) #we reset the index "
   ]
  },
  {
   "cell_type": "code",
   "execution_count": 17,
   "metadata": {},
   "outputs": [],
   "source": [
    "sharks.drop(sharks.index[6159:6302],inplace = True) #we delete all the rows with year 1700 or older"
   ]
  },
  {
   "cell_type": "markdown",
   "metadata": {},
   "source": [
    "### Extracting Date : Case Number "
   ]
  },
  {
   "cell_type": "code",
   "execution_count": 18,
   "metadata": {},
   "outputs": [],
   "source": [
    "import re"
   ]
  },
  {
   "cell_type": "markdown",
   "metadata": {},
   "source": [
    "#### There is only one NaN (I replace it with the right date)"
   ]
  },
  {
   "cell_type": "code",
   "execution_count": 19,
   "metadata": {},
   "outputs": [],
   "source": [
    "sharks[\"Case Number\"].fillna(\"1905.09.06\", inplace = True)"
   ]
  },
  {
   "cell_type": "markdown",
   "metadata": {},
   "source": [
    "#### General \"cleaning\""
   ]
  },
  {
   "cell_type": "code",
   "execution_count": null,
   "metadata": {},
   "outputs": [],
   "source": [
    "# str.replace(\"\\W*[a-zA-Z]\", \"\") --> Letters by Empty Set\n",
    "# str.replace(\"\\W00\",\".01\") --> .00 by .01\n",
    "# str.replace(\"[.|,]\",\"-\") --> \".\" and \",\"\" by \"-\"\"\n",
    "# str.replace(\"(-)$\",\"\") --> \"-\" at the end of the string by empty set"
   ]
  },
  {
   "cell_type": "code",
   "execution_count": 20,
   "metadata": {},
   "outputs": [],
   "source": [
    "sharks[\"Case Number\"] = sharks[\"Case Number\"].str.replace(\"\\W*[a-zA-Z]\", \"\").str.replace(\"\\W00\",\".01\").str.replace(\"[.|,]\",\"-\").str.replace(\"(-)$\",\"\")"
   ]
  },
  {
   "cell_type": "markdown",
   "metadata": {},
   "source": [
    "#### Cleaning specific cases"
   ]
  },
  {
   "cell_type": "code",
   "execution_count": null,
   "metadata": {},
   "outputs": [],
   "source": [
    "#str.replace(\"-014\",\"-14\")\n",
    "#str.replace(\"-013\",\"-13\")\n",
    "#str.replace(\"-012\",\"-12\")\n",
    "#str.replace(\"2002-06-132\",\"2002-06-13\")\n",
    "#str.replace(\"2002-06-131\",\"2002-06-13\")\n",
    "#str.replace(\"1884-04-38\",\"1884-04-28\")\n",
    "#str.replace(\"1853-94-29\",\"1853-04-29\")"
   ]
  },
  {
   "cell_type": "code",
   "execution_count": 21,
   "metadata": {},
   "outputs": [],
   "source": [
    "sharks[\"Case Number\"] = sharks[\"Case Number\"].str.replace(\"-014\",\"-14\").str.replace(\"-013\",\"-13\").str.replace(\"-012\",\"-12\").str.replace(\"2002-06-132\",\"2002-06-13\").str.replace(\"2002-06-131\",\"2002-06-13\").str.replace(\"1884-04-38\",\"1884-04-28\").str.replace(\"1853-94-29\",\"1853-04-29\")"
   ]
  },
  {
   "cell_type": "markdown",
   "metadata": {},
   "source": [
    "#### Change format to_datetime"
   ]
  },
  {
   "cell_type": "code",
   "execution_count": 22,
   "metadata": {},
   "outputs": [],
   "source": [
    "sharks[\"Case Number\"] = pd.to_datetime(sharks[\"Case Number\"])"
   ]
  },
  {
   "cell_type": "code",
   "execution_count": 23,
   "metadata": {},
   "outputs": [
    {
     "name": "stdout",
     "output_type": "stream",
     "text": [
      "<class 'pandas.core.frame.DataFrame'>\n",
      "Int64Index: 6159 entries, 0 to 6158\n",
      "Data columns (total 22 columns):\n",
      " #   Column                  Non-Null Count  Dtype         \n",
      "---  ------                  --------------  -----         \n",
      " 0   Case Number             6159 non-null   datetime64[ns]\n",
      " 1   Date                    6159 non-null   object        \n",
      " 2   Year                    6159 non-null   int32         \n",
      " 3   Type                    6155 non-null   object        \n",
      " 4   Country                 6116 non-null   object        \n",
      " 5   Area                    5737 non-null   object        \n",
      " 6   Location                5663 non-null   object        \n",
      " 7   Activity                5639 non-null   object        \n",
      " 8   Name                    5954 non-null   object        \n",
      " 9   Sex                     5604 non-null   object        \n",
      " 10  Age                     3457 non-null   object        \n",
      " 11  Injury                  6137 non-null   object        \n",
      " 12  Fatal (Y/N)             5623 non-null   object        \n",
      " 13  Time                    2941 non-null   object        \n",
      " 14  Species                 3425 non-null   object        \n",
      " 15  Investigator or Source  6142 non-null   object        \n",
      " 16  pdf                     6159 non-null   object        \n",
      " 17  href formula            6158 non-null   object        \n",
      " 18  href                    6159 non-null   object        \n",
      " 19  Case Number.1           6159 non-null   object        \n",
      " 20  Case Number.2           6159 non-null   object        \n",
      " 21  original order          6159 non-null   float64       \n",
      "dtypes: datetime64[ns](1), float64(1), int32(1), object(19)\n",
      "memory usage: 1.1+ MB\n"
     ]
    }
   ],
   "source": [
    "sharks.info()"
   ]
  },
  {
   "cell_type": "markdown",
   "metadata": {},
   "source": [
    "#### 3 New columns: Year1, Month, Day"
   ]
  },
  {
   "cell_type": "code",
   "execution_count": 24,
   "metadata": {},
   "outputs": [],
   "source": [
    "import datetime as dt"
   ]
  },
  {
   "cell_type": "code",
   "execution_count": 25,
   "metadata": {},
   "outputs": [],
   "source": [
    "sharks[\"Year1\"] = sharks[\"Case Number\"].dt.year.astype(int)"
   ]
  },
  {
   "cell_type": "code",
   "execution_count": 26,
   "metadata": {},
   "outputs": [],
   "source": [
    "sharks[\"Month\"] = sharks[\"Case Number\"].dt.month.astype(int)"
   ]
  },
  {
   "cell_type": "code",
   "execution_count": 27,
   "metadata": {},
   "outputs": [],
   "source": [
    "sharks[\"Day\"] = sharks[\"Case Number\"].dt.day.astype(int)"
   ]
  },
  {
   "cell_type": "markdown",
   "metadata": {},
   "source": [
    "### Rearrange and rename columns"
   ]
  },
  {
   "cell_type": "code",
   "execution_count": 29,
   "metadata": {},
   "outputs": [],
   "source": [
    "sharks = sharks.reindex(columns = [\"Case Number\",\"Year1\",\"Month\",\"Day\",\"Type\",\"Country\",\"Area\",\"Location\",\"Activity\",\"Name\",\"Sex \",\"Age\",\"Injury\",\"Fatal (Y/N)\",\"Species \",\"Investigator or Source\"])"
   ]
  },
  {
   "cell_type": "code",
   "execution_count": 31,
   "metadata": {},
   "outputs": [],
   "source": [
    "sharks.rename(columns = {'Case Number':'Date','Year1':'Year','Fatal (Y/N)':'Fatal','Investigator or Source':'Source','Sex ':'Sex','Species ':'Species'},inplace = True) "
   ]
  },
  {
   "cell_type": "code",
   "execution_count": 33,
   "metadata": {},
   "outputs": [
    {
     "data": {
      "text/html": [
       "<div>\n",
       "<style scoped>\n",
       "    .dataframe tbody tr th:only-of-type {\n",
       "        vertical-align: middle;\n",
       "    }\n",
       "\n",
       "    .dataframe tbody tr th {\n",
       "        vertical-align: top;\n",
       "    }\n",
       "\n",
       "    .dataframe thead th {\n",
       "        text-align: right;\n",
       "    }\n",
       "</style>\n",
       "<table border=\"1\" class=\"dataframe\">\n",
       "  <thead>\n",
       "    <tr style=\"text-align: right;\">\n",
       "      <th></th>\n",
       "      <th>Date</th>\n",
       "      <th>Year</th>\n",
       "      <th>Month</th>\n",
       "      <th>Day</th>\n",
       "      <th>Type</th>\n",
       "      <th>Country</th>\n",
       "      <th>Area</th>\n",
       "      <th>Location</th>\n",
       "      <th>Activity</th>\n",
       "      <th>Name</th>\n",
       "      <th>Sex</th>\n",
       "      <th>Age</th>\n",
       "      <th>Injury</th>\n",
       "      <th>Fatal</th>\n",
       "      <th>Species</th>\n",
       "      <th>Source</th>\n",
       "    </tr>\n",
       "  </thead>\n",
       "  <tbody>\n",
       "    <tr>\n",
       "      <th>0</th>\n",
       "      <td>2018-06-25</td>\n",
       "      <td>2018</td>\n",
       "      <td>6</td>\n",
       "      <td>25</td>\n",
       "      <td>Boating</td>\n",
       "      <td>USA</td>\n",
       "      <td>California</td>\n",
       "      <td>Oceanside, San Diego County</td>\n",
       "      <td>Paddling</td>\n",
       "      <td>Julie Wolfe</td>\n",
       "      <td>F</td>\n",
       "      <td>57</td>\n",
       "      <td>No injury to occupant, outrigger canoe and pad...</td>\n",
       "      <td>N</td>\n",
       "      <td>White shark</td>\n",
       "      <td>R. Collier, GSAF</td>\n",
       "    </tr>\n",
       "    <tr>\n",
       "      <th>1</th>\n",
       "      <td>2018-02-23</td>\n",
       "      <td>2018</td>\n",
       "      <td>2</td>\n",
       "      <td>23</td>\n",
       "      <td>Unprovoked</td>\n",
       "      <td>AUSTRALIA</td>\n",
       "      <td>New South Wales</td>\n",
       "      <td>Little Congwong Beach, La Perouse</td>\n",
       "      <td>Swimming</td>\n",
       "      <td>Anna Shurapey</td>\n",
       "      <td>F</td>\n",
       "      <td>55</td>\n",
       "      <td>Laceratons to right leg &amp; foot</td>\n",
       "      <td>N</td>\n",
       "      <td>Juvenile white shark,  2.7 to 3.2 m</td>\n",
       "      <td>B. Myatt, GSAF</td>\n",
       "    </tr>\n",
       "    <tr>\n",
       "      <th>2</th>\n",
       "      <td>2018-04-15</td>\n",
       "      <td>2018</td>\n",
       "      <td>4</td>\n",
       "      <td>15</td>\n",
       "      <td>Unprovoked</td>\n",
       "      <td>AUSTRALIA</td>\n",
       "      <td>Western Australia</td>\n",
       "      <td>Cobblestones, Margaret River Area</td>\n",
       "      <td>Surfing</td>\n",
       "      <td>Alejandro Travaglini</td>\n",
       "      <td>M</td>\n",
       "      <td>37</td>\n",
       "      <td>Lacerations to legs</td>\n",
       "      <td>N</td>\n",
       "      <td>NaN</td>\n",
       "      <td>B.Myatt, GSAF</td>\n",
       "    </tr>\n",
       "    <tr>\n",
       "      <th>3</th>\n",
       "      <td>2018-04-14</td>\n",
       "      <td>2018</td>\n",
       "      <td>4</td>\n",
       "      <td>14</td>\n",
       "      <td>Unprovoked</td>\n",
       "      <td>BAHAMAS</td>\n",
       "      <td>New Providence</td>\n",
       "      <td>Nirvana Beach</td>\n",
       "      <td>Surfing</td>\n",
       "      <td>Bruce Rowan</td>\n",
       "      <td>M</td>\n",
       "      <td>NaN</td>\n",
       "      <td>No Injury. Shark swam away with the surf board</td>\n",
       "      <td>N</td>\n",
       "      <td>Tiger shark</td>\n",
       "      <td>Tribune242,</td>\n",
       "    </tr>\n",
       "    <tr>\n",
       "      <th>4</th>\n",
       "      <td>2018-04-10</td>\n",
       "      <td>2018</td>\n",
       "      <td>4</td>\n",
       "      <td>10</td>\n",
       "      <td>Invalid</td>\n",
       "      <td>BRAZIL</td>\n",
       "      <td>Alagoas</td>\n",
       "      <td>Praia de Sauaçuhy, Maceió</td>\n",
       "      <td>Fishing</td>\n",
       "      <td>Josias Paz</td>\n",
       "      <td>M</td>\n",
       "      <td>56</td>\n",
       "      <td>Injury to ankle from marine animal trapped in ...</td>\n",
       "      <td>N</td>\n",
       "      <td>Shark involvement not confirmed</td>\n",
       "      <td>K. McMurray, TrackingSharks.com</td>\n",
       "    </tr>\n",
       "  </tbody>\n",
       "</table>\n",
       "</div>"
      ],
      "text/plain": [
       "        Date  Year  Month  Day        Type    Country               Area  \\\n",
       "0 2018-06-25  2018      6   25     Boating        USA         California   \n",
       "1 2018-02-23  2018      2   23  Unprovoked  AUSTRALIA    New South Wales   \n",
       "2 2018-04-15  2018      4   15  Unprovoked  AUSTRALIA  Western Australia   \n",
       "3 2018-04-14  2018      4   14  Unprovoked    BAHAMAS     New Providence   \n",
       "4 2018-04-10  2018      4   10     Invalid     BRAZIL            Alagoas   \n",
       "\n",
       "                             Location  Activity                  Name Sex  \\\n",
       "0         Oceanside, San Diego County  Paddling           Julie Wolfe   F   \n",
       "1  Little Congwong Beach, La Perouse   Swimming        Anna Shurapey    F   \n",
       "2   Cobblestones, Margaret River Area   Surfing  Alejandro Travaglini   M   \n",
       "3                       Nirvana Beach   Surfing           Bruce Rowan   M   \n",
       "4           Praia de Sauaçuhy, Maceió   Fishing            Josias Paz   M   \n",
       "\n",
       "   Age                                             Injury Fatal  \\\n",
       "0   57  No injury to occupant, outrigger canoe and pad...     N   \n",
       "1   55                     Laceratons to right leg & foot     N   \n",
       "2   37                                Lacerations to legs     N   \n",
       "3  NaN     No Injury. Shark swam away with the surf board     N   \n",
       "4   56  Injury to ankle from marine animal trapped in ...     N   \n",
       "\n",
       "                               Species                           Source  \n",
       "0                          White shark                 R. Collier, GSAF  \n",
       "1  Juvenile white shark,  2.7 to 3.2 m                   B. Myatt, GSAF  \n",
       "2                                  NaN                    B.Myatt, GSAF  \n",
       "3                          Tiger shark                      Tribune242,  \n",
       "4      Shark involvement not confirmed  K. McMurray, TrackingSharks.com  "
      ]
     },
     "execution_count": 33,
     "metadata": {},
     "output_type": "execute_result"
    }
   ],
   "source": [
    "sharks.head()"
   ]
  },
  {
   "cell_type": "markdown",
   "metadata": {},
   "source": [
    "### Sex"
   ]
  },
  {
   "cell_type": "code",
   "execution_count": 34,
   "metadata": {},
   "outputs": [
    {
     "data": {
      "text/plain": [
       "M      4974\n",
       "F       624\n",
       "N         2\n",
       "M         2\n",
       "lli       1\n",
       ".         1\n",
       "Name: Sex, dtype: int64"
      ]
     },
     "execution_count": 34,
     "metadata": {},
     "output_type": "execute_result"
    }
   ],
   "source": [
    "sharks[\"Sex\"].value_counts()"
   ]
  },
  {
   "cell_type": "code",
   "execution_count": 35,
   "metadata": {},
   "outputs": [],
   "source": [
    "sharks[\"Sex\"].fillna(\"Unknown\",inplace=True) # we fill NaN with \"Unknown\""
   ]
  },
  {
   "cell_type": "code",
   "execution_count": 36,
   "metadata": {},
   "outputs": [],
   "source": [
    "sharks[\"Sex\"] = sharks[\"Sex\"].apply(lambda x: x.strip()) #we delete the empty space at the beginning and at end"
   ]
  },
  {
   "cell_type": "code",
   "execution_count": 37,
   "metadata": {},
   "outputs": [],
   "source": [
    "sharks[\"Sex\"] = sharks[\"Sex\"].str.replace(\"N|lli|\\.\",\"Unknown\").str.replace(\"M\",\"Male\").str.replace(\"F\",\"Female\")"
   ]
  },
  {
   "cell_type": "code",
   "execution_count": 38,
   "metadata": {},
   "outputs": [
    {
     "data": {
      "text/plain": [
       "Male       4976\n",
       "Female      624\n",
       "Unknown     559\n",
       "Name: Sex, dtype: int64"
      ]
     },
     "execution_count": 38,
     "metadata": {},
     "output_type": "execute_result"
    }
   ],
   "source": [
    "sharks[\"Sex\"].value_counts()"
   ]
  },
  {
   "cell_type": "markdown",
   "metadata": {},
   "source": [
    "### Species"
   ]
  },
  {
   "cell_type": "code",
   "execution_count": 39,
   "metadata": {},
   "outputs": [],
   "source": [
    "sharks['Species'].fillna(\"Unknown\",inplace = True) # we fill NaN with \"Unknown\""
   ]
  },
  {
   "cell_type": "code",
   "execution_count": 40,
   "metadata": {},
   "outputs": [],
   "source": [
    "sharks['Species'] = sharks['Species'].apply(lambda x: x.strip()) #we delete the empty space at the beginning and at end"
   ]
  },
  {
   "cell_type": "code",
   "execution_count": 41,
   "metadata": {},
   "outputs": [],
   "source": [
    "sharks['Species'] = sharks['Species'].apply(lambda x: x.title()) #first letter mayus and the res minus"
   ]
  },
  {
   "cell_type": "code",
   "execution_count": 42,
   "metadata": {},
   "outputs": [],
   "source": [
    "sharks['Species'] = sharks['Species'].str.replace('\"','').str.replace(\".*(White).*\",\"White Shark\").str.replace(\".*(Involvement).*\",\"No Shark Involved\")"
   ]
  },
  {
   "cell_type": "code",
   "execution_count": 43,
   "metadata": {},
   "outputs": [],
   "source": [
    "sharks['Species'] = sharks['Species'].str.replace(\".*(Bull).*\",\"Bull Shark\").str.replace(\".*(Tiger).*\",\"Tiger Shark\").str.replace(\".*(Ragged).*\",\"Ragged Tooth Shark\").str.replace(\".*(Hammer).*\",\"Hammer Head Shark\")"
   ]
  },
  {
   "cell_type": "code",
   "execution_count": 44,
   "metadata": {},
   "outputs": [],
   "source": [
    "sharks['Species'] = sharks['Species'].str.replace(\".*(Black).*\",\"Blacktip\").str.replace(\".*(Mako).*\",\"Mako Shark\").str.replace(\".*(Lemon).*\",\"Lemon Shark\").str.replace(\".*(Nurse).*\",\"Nurse Shark\").str.replace(\".*(Small).*\",\"Small Shark\").str.replace(\".*(Questionable).*\",\"Questionable Incident\").str.replace(\".*(Wobbegong).*\",\"Wobbegong Shark\").str.replace(\".*(Bronze).*\",\"Bronze Whaler Shark\").str.replace(\".*(Blue).*\",\"Blue\")"
   ]
  },
  {
   "cell_type": "code",
   "execution_count": 45,
   "metadata": {},
   "outputs": [
    {
     "data": {
      "text/plain": [
       "Unknown                  2735\n",
       "White Shark               662\n",
       "No Shark Involved         330\n",
       "Tiger Shark               251\n",
       "Bull Shark                179\n",
       "Blacktip                  106\n",
       "Invalid                   101\n",
       "Nurse Shark                93\n",
       "Questionable Incident      75\n",
       "Small Shark                66\n",
       "Bronze Whaler Shark        64\n",
       "Mako Shark                 55\n",
       "Blue                       51\n",
       "Wobbegong Shark            50\n",
       "Hammer Head Shark          46\n",
       "Ragged Tooth Shark         43\n",
       "4' Shark                   40\n",
       "6' Shark                   39\n",
       "Lemon Shark                35\n",
       "1.8 M [6'] Shark           35\n",
       "Name: Species, dtype: int64"
      ]
     },
     "execution_count": 45,
     "metadata": {},
     "output_type": "execute_result"
    }
   ],
   "source": [
    "sharks['Species'].value_counts().nlargest(20)"
   ]
  },
  {
   "cell_type": "code",
   "execution_count": 46,
   "metadata": {},
   "outputs": [],
   "source": [
    "species = sharks[\"Species\"].value_counts().nlargest(16).index.to_list() #we create a list with the 16 more common species"
   ]
  },
  {
   "cell_type": "code",
   "execution_count": 47,
   "metadata": {},
   "outputs": [],
   "source": [
    "sharks[\"Species\"] = sharks[\"Species\"].apply(lambda x: \"Others\" if (x not in species) else x) "
   ]
  },
  {
   "cell_type": "code",
   "execution_count": 48,
   "metadata": {},
   "outputs": [],
   "source": [
    "sharks = sharks.drop(sharks[sharks.Species.isin(['No Shark Involved'])].index) #we delete the rows where no shark was involved"
   ]
  },
  {
   "cell_type": "code",
   "execution_count": 49,
   "metadata": {},
   "outputs": [
    {
     "data": {
      "text/plain": [
       "(5829, 16)"
      ]
     },
     "execution_count": 49,
     "metadata": {},
     "output_type": "execute_result"
    }
   ],
   "source": [
    "sharks.shape"
   ]
  },
  {
   "cell_type": "markdown",
   "metadata": {},
   "source": [
    "### Age"
   ]
  },
  {
   "cell_type": "code",
   "execution_count": 50,
   "metadata": {},
   "outputs": [
    {
     "data": {
      "text/plain": [
       "18                147\n",
       "17                146\n",
       "19                139\n",
       "15                136\n",
       "20                135\n",
       "                 ... \n",
       "25 or 28            1\n",
       "21, 34,24 & 35      1\n",
       "30 & 32             1\n",
       "72                  1\n",
       "9 & 12              1\n",
       "Name: Age, Length: 148, dtype: int64"
      ]
     },
     "execution_count": 50,
     "metadata": {},
     "output_type": "execute_result"
    }
   ],
   "source": [
    "sharks[\"Age\"].value_counts()"
   ]
  },
  {
   "cell_type": "code",
   "execution_count": 51,
   "metadata": {},
   "outputs": [],
   "source": [
    "#we guess nobody might have been older than 109\n",
    "\n",
    "Edad = [str(i) for i in list(range(1, 110))] "
   ]
  },
  {
   "cell_type": "code",
   "execution_count": 52,
   "metadata": {},
   "outputs": [],
   "source": [
    "#we replace NaN by 0\n",
    "#(we do it because otherwise the strip function doesn't work)\n",
    "\n",
    "sharks[\"Age\"].fillna(\"0\",inplace=True) "
   ]
  },
  {
   "cell_type": "code",
   "execution_count": 53,
   "metadata": {},
   "outputs": [],
   "source": [
    "#we delete the empty space at the beginning and at end\n",
    "\n",
    "sharks[\"Age\"] = sharks[\"Age\"].apply(lambda x: x.strip())"
   ]
  },
  {
   "cell_type": "code",
   "execution_count": 54,
   "metadata": {},
   "outputs": [],
   "source": [
    "#we substitute the cells that don't have an int between 1 and 109 by an empty sell\n",
    "\n",
    "sharks[\"Age\"] = sharks[\"Age\"].apply(lambda x: np.NaN if x not in Edad else int(x)) "
   ]
  },
  {
   "cell_type": "code",
   "execution_count": 56,
   "metadata": {},
   "outputs": [
    {
     "data": {
      "text/plain": [
       "18.0    147\n",
       "17.0    146\n",
       "19.0    139\n",
       "20.0    136\n",
       "15.0    136\n",
       "       ... \n",
       "87.0      1\n",
       "84.0      1\n",
       "75.0      1\n",
       "86.0      1\n",
       "81.0      1\n",
       "Name: Age, Length: 79, dtype: int64"
      ]
     },
     "execution_count": 56,
     "metadata": {},
     "output_type": "execute_result"
    }
   ],
   "source": [
    "# I don't understand why the type is float\n",
    "\n",
    "sharks[\"Age\"].value_counts()"
   ]
  },
  {
   "cell_type": "code",
   "execution_count": 57,
   "metadata": {},
   "outputs": [],
   "source": [
    "#we fill the NaN values with the average of the rest\n",
    "\n",
    "sharks[\"Age\"].fillna(sharks[\"Age\"].mean(),inplace=True) "
   ]
  },
  {
   "cell_type": "code",
   "execution_count": 58,
   "metadata": {},
   "outputs": [],
   "source": [
    "#we change the type to int (as it didn't work before)\n",
    "\n",
    "sharks[\"Age\"] = sharks[\"Age\"].astype(int) "
   ]
  },
  {
   "cell_type": "markdown",
   "metadata": {},
   "source": [
    "### Fatal"
   ]
  },
  {
   "cell_type": "code",
   "execution_count": 59,
   "metadata": {},
   "outputs": [],
   "source": [
    "sharks['Fatal'].fillna(\"UNKNOWN\",inplace = True)"
   ]
  },
  {
   "cell_type": "code",
   "execution_count": 60,
   "metadata": {},
   "outputs": [],
   "source": [
    "##we delete the empty space at the beginning and at end\n",
    "sharks[\"Fatal\"] = sharks[\"Fatal\"].apply(lambda x: x.strip()) "
   ]
  },
  {
   "cell_type": "code",
   "execution_count": 61,
   "metadata": {},
   "outputs": [
    {
     "data": {
      "text/plain": [
       "N          4222\n",
       "Y          1316\n",
       "UNKNOWN     288\n",
       "M             1\n",
       "y             1\n",
       "2017          1\n",
       "Name: Fatal, dtype: int64"
      ]
     },
     "execution_count": 61,
     "metadata": {},
     "output_type": "execute_result"
    }
   ],
   "source": [
    "sharks[\"Fatal\"].value_counts()"
   ]
  },
  {
   "cell_type": "code",
   "execution_count": 62,
   "metadata": {},
   "outputs": [],
   "source": [
    "sharks['Fatal'] = sharks['Fatal'].str.replace(\"2017\",\"UNKNOWN\").str.replace(\"^[Yy]\",\"Yes\").str.replace(\"^[NnM]\",\"No\")"
   ]
  },
  {
   "cell_type": "code",
   "execution_count": 63,
   "metadata": {},
   "outputs": [],
   "source": [
    "sharks[\"Fatal\"] = sharks[\"Fatal\"].apply(lambda x: x.title() if (x == \"UNKNOWN\") else x) #we apply title function to \"UNKNOWN\""
   ]
  },
  {
   "cell_type": "code",
   "execution_count": 64,
   "metadata": {},
   "outputs": [
    {
     "data": {
      "text/plain": [
       "No         4223\n",
       "Yes        1317\n",
       "Unknown     289\n",
       "Name: Fatal, dtype: int64"
      ]
     },
     "execution_count": 64,
     "metadata": {},
     "output_type": "execute_result"
    }
   ],
   "source": [
    "sharks[\"Fatal\"].value_counts()"
   ]
  },
  {
   "cell_type": "markdown",
   "metadata": {},
   "source": [
    "### Activity"
   ]
  },
  {
   "cell_type": "code",
   "execution_count": 65,
   "metadata": {},
   "outputs": [],
   "source": [
    "sharks['Activity'].fillna(\"Others\",inplace = True)"
   ]
  },
  {
   "cell_type": "code",
   "execution_count": 66,
   "metadata": {},
   "outputs": [],
   "source": [
    "sharks['Activity'] = sharks['Activity'].apply(lambda x: x.title())"
   ]
  },
  {
   "cell_type": "code",
   "execution_count": 67,
   "metadata": {},
   "outputs": [
    {
     "data": {
      "text/plain": [
       "Surfing                                                             945\n",
       "Swimming                                                            792\n",
       "Others                                                              437\n",
       "Fishing                                                             410\n",
       "Spearfishing                                                        323\n",
       "                                                                   ... \n",
       "Fishing, Had Just Speared A Ulua                                      1\n",
       "Free Diving For Abalone (Submerged)                                   1\n",
       "Fishing With Hand Line Tied To Wrist & Was Pulled Into The Water      1\n",
       "Commercial Salvage Diving                                             1\n",
       "Murdered By Thai Pirates                                              1\n",
       "Name: Activity, Length: 1393, dtype: int64"
      ]
     },
     "execution_count": 67,
     "metadata": {},
     "output_type": "execute_result"
    }
   ],
   "source": [
    "sharks[\"Activity\"].value_counts()"
   ]
  },
  {
   "cell_type": "code",
   "execution_count": 68,
   "metadata": {},
   "outputs": [],
   "source": [
    "#We delete the empty space at the beginning and at end\n",
    "sharks['Activity'] = sharks['Activity'].str.replace(\"\\s*\\s$\",\"\") "
   ]
  },
  {
   "cell_type": "code",
   "execution_count": 69,
   "metadata": {},
   "outputs": [
    {
     "data": {
      "text/plain": [
       "Bathing                 0.026420\n",
       "Body Boarding           0.011151\n",
       "Body Surfing            0.008063\n",
       "Boogie Boarding         0.007205\n",
       "Canoeing                0.002230\n",
       "Diving                  0.019386\n",
       "Diving For Abalone      0.001372\n",
       "Diving For Trochus      0.001372\n",
       "Fell Into The Water     0.001372\n",
       "Fell Overboard          0.005147\n",
       "Fishing                 0.072568\n",
       "Fishing For Sharks      0.001887\n",
       "Floating                0.002402\n",
       "Free Diving             0.004804\n",
       "Freediving              0.001716\n",
       "Freedom Swimming        0.001544\n",
       "Kayak Fishing           0.002402\n",
       "Kayaking                0.005833\n",
       "Kite Surfing            0.001887\n",
       "Others                  0.074970\n",
       "Paddle Boarding         0.001544\n",
       "Pearl Diving            0.004632\n",
       "Playing                 0.001372\n",
       "Rowing                  0.002402\n",
       "Scuba Diving            0.013381\n",
       "Sea Disaster            0.002230\n",
       "Shark Fishing           0.002745\n",
       "Sitting On Surfboard    0.001544\n",
       "Snorkeling              0.014925\n",
       "Spearfishing            0.055927\n",
       "Standing                0.016812\n",
       "Surf Fishing            0.001716\n",
       "Surf Skiing             0.003088\n",
       "Surf-Skiing             0.002059\n",
       "Surfing                 0.162978\n",
       "Swimming                0.143249\n",
       "Treading Water          0.005318\n",
       "Wading                  0.023846\n",
       "Walking                 0.002745\n",
       "Windsurfing             0.003260\n",
       "Name: Activity, dtype: float64"
      ]
     },
     "execution_count": 69,
     "metadata": {},
     "output_type": "execute_result"
    }
   ],
   "source": [
    "#we check the 40 most common activities and sort them by name to check if there are any \"duplicates\"\n",
    "sharks[\"Activity\"].value_counts(normalize=True).nlargest(40).sort_index()"
   ]
  },
  {
   "cell_type": "code",
   "execution_count": 70,
   "metadata": {},
   "outputs": [],
   "source": [
    "#Here we could have used open refine\n",
    "sharks['Activity'] = sharks['Activity'].str.replace(\"Surf-Skiing\",\"Surf Skiing\").str.replace(\"Freediving\",\"Free Diving\") "
   ]
  },
  {
   "cell_type": "code",
   "execution_count": 71,
   "metadata": {},
   "outputs": [
    {
     "data": {
      "text/plain": [
       "Bathing                 0.026420\n",
       "Boating                 0.001201\n",
       "Body Boarding           0.011151\n",
       "Body Surfing            0.008063\n",
       "Boogie Boarding         0.007205\n",
       "Canoeing                0.002230\n",
       "Diving                  0.019386\n",
       "Diving For Abalone      0.001372\n",
       "Diving For Trochus      0.001372\n",
       "Fell Into The Water     0.001372\n",
       "Fell Overboard          0.005147\n",
       "Fishing                 0.072568\n",
       "Fishing For Sharks      0.001887\n",
       "Floating                0.002402\n",
       "Free Diving             0.006519\n",
       "Freedom Swimming        0.001544\n",
       "Kayak Fishing           0.002402\n",
       "Kayaking                0.005833\n",
       "Kite Surfing            0.001887\n",
       "Others                  0.074970\n",
       "Paddle Boarding         0.001544\n",
       "Pearl Diving            0.004632\n",
       "Playing                 0.001372\n",
       "Rowing                  0.002402\n",
       "Scuba Diving            0.013381\n",
       "Sea Disaster            0.002230\n",
       "Shark Fishing           0.002745\n",
       "Sitting On Surfboard    0.001544\n",
       "Snorkeling              0.014925\n",
       "Spearfishing            0.055927\n",
       "Standing                0.016812\n",
       "Surf Fishing            0.001716\n",
       "Surf Skiing             0.005147\n",
       "Surfing                 0.162978\n",
       "Swimming                0.143249\n",
       "Treading Water          0.005318\n",
       "Wade Fishing            0.001201\n",
       "Wading                  0.023846\n",
       "Walking                 0.002745\n",
       "Windsurfing             0.003260\n",
       "Name: Activity, dtype: float64"
      ]
     },
     "execution_count": 71,
     "metadata": {},
     "output_type": "execute_result"
    }
   ],
   "source": [
    "sharks[\"Activity\"].value_counts(normalize=True).nlargest(40).sort_index()"
   ]
  },
  {
   "cell_type": "code",
   "execution_count": 72,
   "metadata": {},
   "outputs": [],
   "source": [
    "# we create a list with the 40 most common\n",
    "activities = sharks[\"Activity\"].value_counts().nlargest(40).index.to_list() "
   ]
  },
  {
   "cell_type": "code",
   "execution_count": 73,
   "metadata": {},
   "outputs": [],
   "source": [
    "# if the information of a cell is not in activities we replace it by \"Others\"\n",
    "sharks[\"Activity\"] = sharks[\"Activity\"].apply(lambda x: \"Others\" if x not in activities else x)"
   ]
  },
  {
   "cell_type": "code",
   "execution_count": 74,
   "metadata": {},
   "outputs": [
    {
     "data": {
      "text/plain": [
       "Others                  0.353062\n",
       "Surfing                 0.162978\n",
       "Swimming                0.143249\n",
       "Fishing                 0.072568\n",
       "Spearfishing            0.055927\n",
       "Bathing                 0.026420\n",
       "Wading                  0.023846\n",
       "Diving                  0.019386\n",
       "Standing                0.016812\n",
       "Snorkeling              0.014925\n",
       "Scuba Diving            0.013381\n",
       "Body Boarding           0.011151\n",
       "Body Surfing            0.008063\n",
       "Boogie Boarding         0.007205\n",
       "Free Diving             0.006519\n",
       "Kayaking                0.005833\n",
       "Treading Water          0.005318\n",
       "Fell Overboard          0.005147\n",
       "Surf Skiing             0.005147\n",
       "Pearl Diving            0.004632\n",
       "Windsurfing             0.003260\n",
       "Walking                 0.002745\n",
       "Shark Fishing           0.002745\n",
       "Rowing                  0.002402\n",
       "Kayak Fishing           0.002402\n",
       "Floating                0.002402\n",
       "Sea Disaster            0.002230\n",
       "Canoeing                0.002230\n",
       "Fishing For Sharks      0.001887\n",
       "Kite Surfing            0.001887\n",
       "Surf Fishing            0.001716\n",
       "Freedom Swimming        0.001544\n",
       "Sitting On Surfboard    0.001544\n",
       "Paddle Boarding         0.001544\n",
       "Fell Into The Water     0.001372\n",
       "Diving For Trochus      0.001372\n",
       "Playing                 0.001372\n",
       "Diving For Abalone      0.001372\n",
       "Boating                 0.001201\n",
       "Wade Fishing            0.001201\n",
       "Name: Activity, dtype: float64"
      ]
     },
     "execution_count": 74,
     "metadata": {},
     "output_type": "execute_result"
    }
   ],
   "source": [
    "sharks[\"Activity\"].value_counts(normalize=True)"
   ]
  },
  {
   "cell_type": "markdown",
   "metadata": {},
   "source": [
    "### Country"
   ]
  },
  {
   "cell_type": "code",
   "execution_count": 75,
   "metadata": {},
   "outputs": [],
   "source": [
    "sharks['Country'].fillna(\"Unknown\",inplace = True)"
   ]
  },
  {
   "cell_type": "code",
   "execution_count": 76,
   "metadata": {},
   "outputs": [
    {
     "data": {
      "text/plain": [
       "USA                 2081\n",
       "AUSTRALIA           1246\n",
       "SOUTH AFRICA         535\n",
       "PAPUA NEW GUINEA     129\n",
       "NEW ZEALAND          121\n",
       "                    ... \n",
       "MALDIVE ISLANDS        1\n",
       "ANDAMAN ISLANDS        1\n",
       "ANTIGUA                1\n",
       "CAPE VERDE             1\n",
       "OCEAN                  1\n",
       "Name: Country, Length: 203, dtype: int64"
      ]
     },
     "execution_count": 76,
     "metadata": {},
     "output_type": "execute_result"
    }
   ],
   "source": [
    "sharks[\"Country\"].value_counts()"
   ]
  },
  {
   "cell_type": "code",
   "execution_count": 77,
   "metadata": {},
   "outputs": [],
   "source": [
    "sharks['Country'] = sharks['Country'].apply(lambda x: x.strip())"
   ]
  },
  {
   "cell_type": "code",
   "execution_count": 78,
   "metadata": {},
   "outputs": [],
   "source": [
    "sharks['Country'] = sharks['Country'].apply(lambda x: x.title()) "
   ]
  },
  {
   "cell_type": "code",
   "execution_count": 81,
   "metadata": {},
   "outputs": [],
   "source": [
    "#we replace the \"elements with 2 spaces or more by one space\"\n",
    "sharks['Country'] = sharks['Country'].str.replace(\"\\s{2,}\",\" \") "
   ]
  },
  {
   "cell_type": "code",
   "execution_count": 80,
   "metadata": {},
   "outputs": [
    {
     "data": {
      "text/plain": [
       "Atlantic Ocean            17\n",
       "Australia               1246\n",
       "Bahamas                  104\n",
       "Bermuda                   12\n",
       "Brazil                   104\n",
       "Costa Rica                15\n",
       "Croatia                   30\n",
       "Cuba                      45\n",
       "Egypt                     39\n",
       "England                   22\n",
       "Fiji                      61\n",
       "French Polynesia          23\n",
       "Greece                    17\n",
       "Hong Kong                 24\n",
       "India                     34\n",
       "Indonesia                 21\n",
       "Iran                      25\n",
       "Italy                     64\n",
       "Jamaica                   24\n",
       "Japan                     32\n",
       "Marshall Islands          12\n",
       "Mexico                    85\n",
       "Mozambique                42\n",
       "New Caledonia             52\n",
       "New Zealand              121\n",
       "Pacific Ocean             18\n",
       "Panama                    29\n",
       "Papua New Guinea         129\n",
       "Philippines               59\n",
       "Reunion                   58\n",
       "Solomon Islands           28\n",
       "South Africa             535\n",
       "South Atlantic Ocean      12\n",
       "Spain                     36\n",
       "Tonga                     18\n",
       "Turkey                    12\n",
       "Unknown                   38\n",
       "Usa                     2081\n",
       "Vanuatu                   12\n",
       "Vietnam                   13\n",
       "Name: Country, dtype: int64"
      ]
     },
     "execution_count": 80,
     "metadata": {},
     "output_type": "execute_result"
    }
   ],
   "source": [
    "sharks[\"Country\"].value_counts().nlargest(40).sort_index()"
   ]
  },
  {
   "cell_type": "code",
   "execution_count": 82,
   "metadata": {},
   "outputs": [],
   "source": [
    "# 40 most common countries\n",
    "countries = sharks[\"Country\"].value_counts().nlargest(40).index.to_list() "
   ]
  },
  {
   "cell_type": "code",
   "execution_count": 83,
   "metadata": {},
   "outputs": [],
   "source": [
    "sharks[\"Country\"] = sharks[\"Country\"].apply(lambda x: \"Others\" if x not in countries else x) "
   ]
  },
  {
   "cell_type": "code",
   "execution_count": 85,
   "metadata": {},
   "outputs": [
    {
     "data": {
      "text/plain": [
       "<AxesSubplot:>"
      ]
     },
     "execution_count": 85,
     "metadata": {},
     "output_type": "execute_result"
    },
    {
     "data": {
      "image/png": "[encoded data removed]",
      "text/plain": [
       "<Figure size 432x288 with 1 Axes>"
      ]
     },
     "metadata": {
      "needs_background": "light"
     },
     "output_type": "display_data"
    }
   ],
   "source": [
    "#Here we can easily tell the countries with more accidents: USA and Australia\n",
    "sharks[\"Country\"].value_counts().plot(kind = \"bar\")"
   ]
  },
  {
   "cell_type": "markdown",
   "metadata": {},
   "source": [
    "### Type"
   ]
  },
  {
   "cell_type": "code",
   "execution_count": 86,
   "metadata": {},
   "outputs": [
    {
     "data": {
      "text/plain": [
       "<AxesSubplot:>"
      ]
     },
     "execution_count": 86,
     "metadata": {},
     "output_type": "execute_result"
    },
    {
     "data": {
      "image/png": "[encoded data removed]",
      "text/plain": [
       "<Figure size 432x288 with 1 Axes>"
      ]
     },
     "metadata": {
      "needs_background": "light"
     },
     "output_type": "display_data"
    }
   ],
   "source": [
    "sharks[\"Type\"].value_counts().plot(kind = \"barh\")"
   ]
  },
  {
   "cell_type": "code",
   "execution_count": 87,
   "metadata": {},
   "outputs": [],
   "source": [
    "sharks[\"Type\"] = sharks[\"Type\"].str.replace(\"Boatomg\",\"Boating\")"
   ]
  },
  {
   "cell_type": "markdown",
   "metadata": {},
   "source": [
    "### Delete Columns not Cleaned"
   ]
  },
  {
   "cell_type": "code",
   "execution_count": 88,
   "metadata": {},
   "outputs": [
    {
     "name": "stdout",
     "output_type": "stream",
     "text": [
      "<class 'pandas.core.frame.DataFrame'>\n",
      "Int64Index: 5829 entries, 0 to 6158\n",
      "Data columns (total 16 columns):\n",
      " #   Column    Non-Null Count  Dtype         \n",
      "---  ------    --------------  -----         \n",
      " 0   Date      5829 non-null   datetime64[ns]\n",
      " 1   Year      5829 non-null   int32         \n",
      " 2   Month     5829 non-null   int32         \n",
      " 3   Day       5829 non-null   int32         \n",
      " 4   Type      5825 non-null   object        \n",
      " 5   Country   5829 non-null   object        \n",
      " 6   Area      5436 non-null   object        \n",
      " 7   Location  5362 non-null   object        \n",
      " 8   Activity  5829 non-null   object        \n",
      " 9   Name      5662 non-null   object        \n",
      " 10  Sex       5829 non-null   object        \n",
      " 11  Age       5829 non-null   int32         \n",
      " 12  Injury    5809 non-null   object        \n",
      " 13  Fatal     5829 non-null   object        \n",
      " 14  Species   5829 non-null   object        \n",
      " 15  Source    5815 non-null   object        \n",
      "dtypes: datetime64[ns](1), int32(4), object(11)\n",
      "memory usage: 683.1+ KB\n"
     ]
    }
   ],
   "source": [
    "sharks.info() "
   ]
  },
  {
   "cell_type": "code",
   "execution_count": 89,
   "metadata": {},
   "outputs": [],
   "source": [
    "sharks.drop(['Source','Injury','Area','Location','Name'], axis=1, inplace=True) "
   ]
  },
  {
   "cell_type": "code",
   "execution_count": 90,
   "metadata": {},
   "outputs": [
    {
     "data": {
      "text/html": [
       "<div>\n",
       "<style scoped>\n",
       "    .dataframe tbody tr th:only-of-type {\n",
       "        vertical-align: middle;\n",
       "    }\n",
       "\n",
       "    .dataframe tbody tr th {\n",
       "        vertical-align: top;\n",
       "    }\n",
       "\n",
       "    .dataframe thead th {\n",
       "        text-align: right;\n",
       "    }\n",
       "</style>\n",
       "<table border=\"1\" class=\"dataframe\">\n",
       "  <thead>\n",
       "    <tr style=\"text-align: right;\">\n",
       "      <th></th>\n",
       "      <th>Date</th>\n",
       "      <th>Year</th>\n",
       "      <th>Month</th>\n",
       "      <th>Day</th>\n",
       "      <th>Type</th>\n",
       "      <th>Country</th>\n",
       "      <th>Activity</th>\n",
       "      <th>Sex</th>\n",
       "      <th>Age</th>\n",
       "      <th>Fatal</th>\n",
       "      <th>Species</th>\n",
       "    </tr>\n",
       "  </thead>\n",
       "  <tbody>\n",
       "    <tr>\n",
       "      <th>0</th>\n",
       "      <td>2018-06-25</td>\n",
       "      <td>2018</td>\n",
       "      <td>6</td>\n",
       "      <td>25</td>\n",
       "      <td>Boating</td>\n",
       "      <td>Usa</td>\n",
       "      <td>Others</td>\n",
       "      <td>Female</td>\n",
       "      <td>57</td>\n",
       "      <td>No</td>\n",
       "      <td>White Shark</td>\n",
       "    </tr>\n",
       "    <tr>\n",
       "      <th>1</th>\n",
       "      <td>2018-02-23</td>\n",
       "      <td>2018</td>\n",
       "      <td>2</td>\n",
       "      <td>23</td>\n",
       "      <td>Unprovoked</td>\n",
       "      <td>Australia</td>\n",
       "      <td>Swimming</td>\n",
       "      <td>Female</td>\n",
       "      <td>55</td>\n",
       "      <td>No</td>\n",
       "      <td>White Shark</td>\n",
       "    </tr>\n",
       "    <tr>\n",
       "      <th>2</th>\n",
       "      <td>2018-04-15</td>\n",
       "      <td>2018</td>\n",
       "      <td>4</td>\n",
       "      <td>15</td>\n",
       "      <td>Unprovoked</td>\n",
       "      <td>Australia</td>\n",
       "      <td>Surfing</td>\n",
       "      <td>Male</td>\n",
       "      <td>37</td>\n",
       "      <td>No</td>\n",
       "      <td>Unknown</td>\n",
       "    </tr>\n",
       "    <tr>\n",
       "      <th>3</th>\n",
       "      <td>2018-04-14</td>\n",
       "      <td>2018</td>\n",
       "      <td>4</td>\n",
       "      <td>14</td>\n",
       "      <td>Unprovoked</td>\n",
       "      <td>Bahamas</td>\n",
       "      <td>Surfing</td>\n",
       "      <td>Male</td>\n",
       "      <td>27</td>\n",
       "      <td>No</td>\n",
       "      <td>Tiger Shark</td>\n",
       "    </tr>\n",
       "    <tr>\n",
       "      <th>5</th>\n",
       "      <td>2018-04-09</td>\n",
       "      <td>2018</td>\n",
       "      <td>4</td>\n",
       "      <td>9</td>\n",
       "      <td>Unprovoked</td>\n",
       "      <td>New Caledonia</td>\n",
       "      <td>Windsurfing</td>\n",
       "      <td>Unknown</td>\n",
       "      <td>27</td>\n",
       "      <td>No</td>\n",
       "      <td>Others</td>\n",
       "    </tr>\n",
       "  </tbody>\n",
       "</table>\n",
       "</div>"
      ],
      "text/plain": [
       "        Date  Year  Month  Day        Type        Country     Activity  \\\n",
       "0 2018-06-25  2018      6   25     Boating            Usa       Others   \n",
       "1 2018-02-23  2018      2   23  Unprovoked      Australia     Swimming   \n",
       "2 2018-04-15  2018      4   15  Unprovoked      Australia      Surfing   \n",
       "3 2018-04-14  2018      4   14  Unprovoked        Bahamas      Surfing   \n",
       "5 2018-04-09  2018      4    9  Unprovoked  New Caledonia  Windsurfing   \n",
       "\n",
       "       Sex  Age Fatal      Species  \n",
       "0   Female   57    No  White Shark  \n",
       "1   Female   55    No  White Shark  \n",
       "2     Male   37    No      Unknown  \n",
       "3     Male   27    No  Tiger Shark  \n",
       "5  Unknown   27    No       Others  "
      ]
     },
     "execution_count": 90,
     "metadata": {},
     "output_type": "execute_result"
    }
   ],
   "source": [
    "sharks.head()"
   ]
  },
  {
   "cell_type": "markdown",
   "metadata": {},
   "source": [
    "### We save the document to a new one called \"sharks_clean\""
   ]
  },
  {
   "cell_type": "code",
   "execution_count": 91,
   "metadata": {},
   "outputs": [],
   "source": [
    "sharks.to_csv(\"sharks_clean.csv\", index = False)"
   ]
  },
  {
   "cell_type": "markdown",
   "metadata": {},
   "source": [
    "### Data Visualisation"
   ]
  },
  {
   "cell_type": "markdown",
   "metadata": {},
   "source": [
    "#### Pivot Table"
   ]
  },
  {
   "cell_type": "code",
   "execution_count": 92,
   "metadata": {},
   "outputs": [],
   "source": [
    "sharks_clean = pd.read_csv(r\"./sharks_clean.csv\")"
   ]
  },
  {
   "cell_type": "code",
   "execution_count": 93,
   "metadata": {},
   "outputs": [],
   "source": [
    "speciesfatal = sharks_clean.pivot_table(index = \"Species\",values = \"Activity\",columns=\"Fatal\",aggfunc=\"count\",fill_value = 0)"
   ]
  },
  {
   "cell_type": "code",
   "execution_count": 94,
   "metadata": {},
   "outputs": [
    {
     "data": {
      "text/html": [
       "<div>\n",
       "<style scoped>\n",
       "    .dataframe tbody tr th:only-of-type {\n",
       "        vertical-align: middle;\n",
       "    }\n",
       "\n",
       "    .dataframe tbody tr th {\n",
       "        vertical-align: top;\n",
       "    }\n",
       "\n",
       "    .dataframe thead th {\n",
       "        text-align: right;\n",
       "    }\n",
       "</style>\n",
       "<table border=\"1\" class=\"dataframe\">\n",
       "  <thead>\n",
       "    <tr style=\"text-align: right;\">\n",
       "      <th>Fatal</th>\n",
       "      <th>No</th>\n",
       "      <th>Unknown</th>\n",
       "      <th>Yes</th>\n",
       "    </tr>\n",
       "    <tr>\n",
       "      <th>Species</th>\n",
       "      <th></th>\n",
       "      <th></th>\n",
       "      <th></th>\n",
       "    </tr>\n",
       "  </thead>\n",
       "  <tbody>\n",
       "    <tr>\n",
       "      <th>Unknown</th>\n",
       "      <td>1753</td>\n",
       "      <td>71</td>\n",
       "      <td>911</td>\n",
       "    </tr>\n",
       "    <tr>\n",
       "      <th>White Shark</th>\n",
       "      <td>499</td>\n",
       "      <td>13</td>\n",
       "      <td>150</td>\n",
       "    </tr>\n",
       "    <tr>\n",
       "      <th>Others</th>\n",
       "      <td>1094</td>\n",
       "      <td>24</td>\n",
       "      <td>134</td>\n",
       "    </tr>\n",
       "    <tr>\n",
       "      <th>Tiger Shark</th>\n",
       "      <td>182</td>\n",
       "      <td>4</td>\n",
       "      <td>65</td>\n",
       "    </tr>\n",
       "    <tr>\n",
       "      <th>Bull Shark</th>\n",
       "      <td>141</td>\n",
       "      <td>0</td>\n",
       "      <td>38</td>\n",
       "    </tr>\n",
       "    <tr>\n",
       "      <th>Blue</th>\n",
       "      <td>42</td>\n",
       "      <td>1</td>\n",
       "      <td>8</td>\n",
       "    </tr>\n",
       "    <tr>\n",
       "      <th>Bronze Whaler Shark</th>\n",
       "      <td>59</td>\n",
       "      <td>1</td>\n",
       "      <td>4</td>\n",
       "    </tr>\n",
       "    <tr>\n",
       "      <th>Mako Shark</th>\n",
       "      <td>53</td>\n",
       "      <td>0</td>\n",
       "      <td>2</td>\n",
       "    </tr>\n",
       "    <tr>\n",
       "      <th>Questionable Incident</th>\n",
       "      <td>2</td>\n",
       "      <td>71</td>\n",
       "      <td>2</td>\n",
       "    </tr>\n",
       "    <tr>\n",
       "      <th>Small Shark</th>\n",
       "      <td>63</td>\n",
       "      <td>1</td>\n",
       "      <td>2</td>\n",
       "    </tr>\n",
       "    <tr>\n",
       "      <th>Hammer Head Shark</th>\n",
       "      <td>45</td>\n",
       "      <td>0</td>\n",
       "      <td>1</td>\n",
       "    </tr>\n",
       "    <tr>\n",
       "      <th>Blacktip</th>\n",
       "      <td>106</td>\n",
       "      <td>0</td>\n",
       "      <td>0</td>\n",
       "    </tr>\n",
       "    <tr>\n",
       "      <th>Invalid</th>\n",
       "      <td>0</td>\n",
       "      <td>101</td>\n",
       "      <td>0</td>\n",
       "    </tr>\n",
       "    <tr>\n",
       "      <th>Nurse Shark</th>\n",
       "      <td>92</td>\n",
       "      <td>1</td>\n",
       "      <td>0</td>\n",
       "    </tr>\n",
       "    <tr>\n",
       "      <th>Ragged Tooth Shark</th>\n",
       "      <td>43</td>\n",
       "      <td>0</td>\n",
       "      <td>0</td>\n",
       "    </tr>\n",
       "    <tr>\n",
       "      <th>Wobbegong Shark</th>\n",
       "      <td>49</td>\n",
       "      <td>1</td>\n",
       "      <td>0</td>\n",
       "    </tr>\n",
       "  </tbody>\n",
       "</table>\n",
       "</div>"
      ],
      "text/plain": [
       "Fatal                    No  Unknown  Yes\n",
       "Species                                  \n",
       "Unknown                1753       71  911\n",
       "White Shark             499       13  150\n",
       "Others                 1094       24  134\n",
       "Tiger Shark             182        4   65\n",
       "Bull Shark              141        0   38\n",
       "Blue                     42        1    8\n",
       "Bronze Whaler Shark      59        1    4\n",
       "Mako Shark               53        0    2\n",
       "Questionable Incident     2       71    2\n",
       "Small Shark              63        1    2\n",
       "Hammer Head Shark        45        0    1\n",
       "Blacktip                106        0    0\n",
       "Invalid                   0      101    0\n",
       "Nurse Shark              92        1    0\n",
       "Ragged Tooth Shark       43        0    0\n",
       "Wobbegong Shark          49        1    0"
      ]
     },
     "execution_count": 94,
     "metadata": {},
     "output_type": "execute_result"
    }
   ],
   "source": [
    "speciesfatal.sort_values(\"Yes\", ascending = False)"
   ]
  }
 ],
 "metadata": {
  "kernelspec": {
   "display_name": "Python 3",
   "language": "python",
   "name": "python3"
  },
  "language_info": {
   "codemirror_mode": {
    "name": "ipython",
    "version": 3
   },
   "file_extension": ".py",
   "mimetype": "text/x-python",
   "name": "python",
   "nbconvert_exporter": "python",
   "pygments_lexer": "ipython3",
   "version": "3.8.5"
  },
  "toc": {
   "base_numbering": 1,
   "nav_menu": {},
   "number_sections": true,
   "sideBar": true,
   "skip_h1_title": false,
   "title_cell": "Table of Contents",
   "title_sidebar": "Contents",
   "toc_cell": false,
   "toc_position": {
    "height": "calc(100% - 180px)",
    "left": "10px",
    "top": "150px",
    "width": "236.273px"
   },
   "toc_section_display": true,
   "toc_window_display": false
  },
  "varInspector": {
   "cols": {
    "lenName": 16,
    "lenType": 16,
    "lenVar": 40
   },
   "kernels_config": {
    "python": {
     "delete_cmd_postfix": "",
     "delete_cmd_prefix": "del ",
     "library": "var_list.py",
     "varRefreshCmd": "print(var_dic_list())"
    },
    "r": {
     "delete_cmd_postfix": ") ",
     "delete_cmd_prefix": "rm(",
     "library": "var_list.r",
     "varRefreshCmd": "cat(var_dic_list()) "
    }
   },
   "types_to_exclude": [
    "module",
    "function",
    "builtin_function_or_method",
    "instance",
    "_Feature"
   ],
   "window_display": false
  }
 },
 "nbformat": 4,
 "nbformat_minor": 4
}
