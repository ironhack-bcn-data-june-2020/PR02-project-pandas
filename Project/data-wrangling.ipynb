{
 "cells": [
  {
   "cell_type": "markdown",
   "metadata": {},
   "source": [
    "# Global sharks attacks\n",
    "\n",
    "\n",
    "\n",
    "## Objetive\n",
    "\n",
    "\n",
    "The objective is to answer to the following questions after having cleanned the data set:\n",
    "- Has the month with more attacks changed since 1700? \n",
    "- Has the season with more attacks changed since 1700? \n"
   ]
  },
  {
   "cell_type": "markdown",
   "metadata": {},
   "source": [
    "## Import libraries"
   ]
  },
  {
   "cell_type": "code",
   "execution_count": 1,
   "metadata": {
    "ExecuteTime": {
     "end_time": "2020-07-25T20:29:31.926588Z",
     "start_time": "2020-07-25T20:29:31.921416Z"
    }
   },
   "outputs": [],
   "source": [
    "# Install library countryinfo to have more information about the countries:\n",
    "#!pip install countryinfo"
   ]
  },
  {
   "cell_type": "code",
   "execution_count": 2,
   "metadata": {
    "ExecuteTime": {
     "end_time": "2020-07-25T20:29:32.746292Z",
     "start_time": "2020-07-25T20:29:32.422443Z"
    }
   },
   "outputs": [],
   "source": [
    "import pandas as pd\n",
    "import numpy as np\n",
    "import re\n",
    "from countryinfo import CountryInfo"
   ]
  },
  {
   "cell_type": "markdown",
   "metadata": {},
   "source": [
    "## Load the data"
   ]
  },
  {
   "cell_type": "code",
   "execution_count": 32,
   "metadata": {
    "ExecuteTime": {
     "end_time": "2020-07-25T20:31:02.158696Z",
     "start_time": "2020-07-25T20:31:02.005997Z"
    }
   },
   "outputs": [],
   "source": [
    "attacks = pd.read_csv('data/attacks.csv', encoding = \"ISO-8859-1\")"
   ]
  },
  {
   "cell_type": "markdown",
   "metadata": {
    "ExecuteTime": {
     "end_time": "2020-07-19T16:05:46.609306Z",
     "start_time": "2020-07-19T16:05:46.566092Z"
    }
   },
   "source": [
    "## Data cleaning"
   ]
  },
  {
   "cell_type": "markdown",
   "metadata": {},
   "source": [
    "Check the columns: how many there are, if there is any duplicate, etc."
   ]
  },
  {
   "cell_type": "code",
   "execution_count": 33,
   "metadata": {
    "ExecuteTime": {
     "end_time": "2020-07-25T20:31:03.205497Z",
     "start_time": "2020-07-25T20:31:03.196509Z"
    }
   },
   "outputs": [
    {
     "data": {
      "text/plain": [
       "Index(['Case Number', 'Date', 'Year', 'Type', 'Country', 'Area', 'Location',\n",
       "       'Activity', 'Name', 'Sex ', 'Age', 'Injury', 'Fatal (Y/N)', 'Time',\n",
       "       'Species ', 'Investigator or Source', 'pdf', 'href formula', 'href',\n",
       "       'Case Number.1', 'Case Number.2', 'original order', 'Unnamed: 22',\n",
       "       'Unnamed: 23'],\n",
       "      dtype='object')"
      ]
     },
     "metadata": {},
     "output_type": "display_data"
    }
   ],
   "source": [
    "display(attacks.columns)"
   ]
  },
  {
   "cell_type": "markdown",
   "metadata": {},
   "source": [
    "Delete columns that won't be used: \n",
    "- Investigator or Source\n",
    "- pdf, href, href formula\n",
    "- original order\n",
    "- Name\n",
    "- Sex\n",
    "- Age\n",
    "- Activity\n",
    "- Time\n",
    "- Type\n",
    "- Species"
   ]
  },
  {
   "cell_type": "code",
   "execution_count": 34,
   "metadata": {
    "ExecuteTime": {
     "end_time": "2020-07-25T20:31:04.233265Z",
     "start_time": "2020-07-25T20:31:04.215521Z"
    }
   },
   "outputs": [],
   "source": [
    "attacks.drop(columns=['Activity', 'Name', 'Sex ', 'Age', 'Time', 'Type', 'Species ', 'Investigator or Source', \n",
    "                      'pdf', 'href formula', 'href', 'original order'], inplace=True)"
   ]
  },
  {
   "cell_type": "code",
   "execution_count": 35,
   "metadata": {
    "ExecuteTime": {
     "end_time": "2020-07-25T20:31:04.860243Z",
     "start_time": "2020-07-25T20:31:04.846928Z"
    }
   },
   "outputs": [],
   "source": [
    "# Delete last 2 columns because they have no name and one is empty \n",
    "# and in the other one there is only one observation with data\n",
    "\n",
    "attacks.drop(columns=['Unnamed: 23', 'Unnamed: 22'], inplace=True)"
   ]
  },
  {
   "cell_type": "code",
   "execution_count": 36,
   "metadata": {
    "ExecuteTime": {
     "end_time": "2020-07-25T20:31:05.402265Z",
     "start_time": "2020-07-25T20:31:05.361105Z"
    }
   },
   "outputs": [],
   "source": [
    "# Remove duplicates\n",
    "\n",
    "attacks = attacks.drop_duplicates()"
   ]
  },
  {
   "cell_type": "code",
   "execution_count": 37,
   "metadata": {
    "ExecuteTime": {
     "end_time": "2020-07-25T20:31:05.926479Z",
     "start_time": "2020-07-25T20:31:05.906983Z"
    }
   },
   "outputs": [],
   "source": [
    "# Remove all the rows whose case number is 0:\n",
    "attacks = attacks[attacks['Case Number']!= '0']\n",
    "\n",
    "# Remove all the null values:\n",
    "attacks = attacks[~attacks['Case Number'].isnull()]\n",
    "\n",
    "# Remove the last line that contains NaN and the case number is xx:\n",
    "attacks = attacks.head(-1)"
   ]
  },
  {
   "cell_type": "code",
   "execution_count": 38,
   "metadata": {
    "ExecuteTime": {
     "end_time": "2020-07-25T20:31:06.410011Z",
     "start_time": "2020-07-25T20:31:06.401629Z"
    }
   },
   "outputs": [],
   "source": [
    "# The three columns called Case Number contains the same information, so the last two will be removed:\n",
    "attacks.drop(columns=['Case Number.1', 'Case Number.2'], inplace=True)"
   ]
  },
  {
   "cell_type": "code",
   "execution_count": 39,
   "metadata": {
    "ExecuteTime": {
     "end_time": "2020-07-25T20:31:06.890667Z",
     "start_time": "2020-07-25T20:31:06.875289Z"
    }
   },
   "outputs": [
    {
     "data": {
      "text/plain": [
       "Case Number      0\n",
       "Date             0\n",
       "Year             2\n",
       "Country         50\n",
       "Area           455\n",
       "Location       540\n",
       "Injury          28\n",
       "Fatal (Y/N)    539\n",
       "dtype: int64"
      ]
     },
     "execution_count": 39,
     "metadata": {},
     "output_type": "execute_result"
    }
   ],
   "source": [
    "attacks.isnull().sum()"
   ]
  },
  {
   "cell_type": "code",
   "execution_count": 40,
   "metadata": {
    "ExecuteTime": {
     "end_time": "2020-07-25T20:31:07.395919Z",
     "start_time": "2020-07-25T20:31:07.378455Z"
    }
   },
   "outputs": [
    {
     "data": {
      "text/plain": [
       "array([2018., 2017.,   nan, 2016., 2015., 2014., 2013., 2012., 2011.,\n",
       "       2010., 2009., 2008., 2007., 2006., 2005., 2004., 2003., 2002.,\n",
       "       2001., 2000., 1999., 1998., 1997., 1996., 1995., 1984., 1994.,\n",
       "       1993., 1992., 1991., 1990., 1989., 1969., 1988., 1987., 1986.,\n",
       "       1985., 1983., 1982., 1981., 1980., 1979., 1978., 1977., 1976.,\n",
       "       1975., 1974., 1973., 1972., 1971., 1970., 1968., 1967., 1966.,\n",
       "       1965., 1964., 1963., 1962., 1961., 1960., 1959., 1958., 1957.,\n",
       "       1956., 1955., 1954., 1953., 1952., 1951., 1950., 1949., 1948.,\n",
       "       1848., 1947., 1946., 1945., 1944., 1943., 1942., 1941., 1940.,\n",
       "       1939., 1938., 1937., 1936., 1935., 1934., 1933., 1932., 1931.,\n",
       "       1930., 1929., 1928., 1927., 1926., 1925., 1924., 1923., 1922.,\n",
       "       1921., 1920., 1919., 1918., 1917., 1916., 1915., 1914., 1913.,\n",
       "       1912., 1911., 1910., 1909., 1908., 1907., 1906., 1905., 1904.,\n",
       "       1903., 1902., 1901., 1900., 1899., 1898., 1897., 1896., 1895.,\n",
       "       1894., 1893., 1892., 1891., 1890., 1889., 1888., 1887., 1886.,\n",
       "       1885., 1884., 1883., 1882., 1881., 1880., 1879., 1878., 1877.,\n",
       "       1876., 1875., 1874., 1873., 1872., 1871., 1870., 1869., 1868.,\n",
       "       1867., 1866., 1865., 1864., 1863., 1862., 1861., 1860., 1859.,\n",
       "       1858., 1857., 1856., 1855., 1853., 1852., 1851., 1850., 1849.,\n",
       "       1847., 1846., 1845., 1844., 1842., 1841., 1840., 1839., 1837.,\n",
       "       1836., 1835., 1834., 1832., 1831., 1830., 1829., 1828., 1827.,\n",
       "       1826., 1825., 1823., 1822., 1819., 1818., 1817., 1816., 1815.,\n",
       "       1812., 1811., 1810., 1808., 1807., 1805., 1804., 1803., 1802.,\n",
       "       1801., 1800., 1797., 1792., 1791., 1788., 1787., 1786., 1785.,\n",
       "       1784., 1783., 1780., 1779., 1776., 1771., 1767., 1764., 1758.,\n",
       "       1753., 1751., 1749., 1755., 1748., 1742., 1738., 1733., 1723.,\n",
       "       1721., 1703., 1700., 1642., 1638., 1637., 1617., 1595., 1580.,\n",
       "       1555., 1554., 1543.,  500.,   77.,    5.,    0.])"
      ]
     },
     "execution_count": 40,
     "metadata": {},
     "output_type": "execute_result"
    }
   ],
   "source": [
    "# Check what are the unique values of the column Year\n",
    "pd.unique(attacks['Year'])"
   ]
  },
  {
   "cell_type": "code",
   "execution_count": 41,
   "metadata": {
    "ExecuteTime": {
     "end_time": "2020-07-25T20:31:07.906897Z",
     "start_time": "2020-07-25T20:31:07.878498Z"
    }
   },
   "outputs": [],
   "source": [
    "# In the rows were the year is 0, some values can be extracted from the date.\n",
    "# I take the last year if there is more than two (i.e. between 2006 - 2009 -> year = 2009)\n",
    "\n",
    "attacks.loc[attacks['Year']== 0,['Year']] = attacks[attacks['Year']== 0]['Date'].str.extract('([\\d]{4}$)').astype('float')\n",
    "\n",
    "# If the null has a year value in Date, extract is and replace it\n",
    "attacks.loc[attacks['Year'].isnull(),'Year'] = attacks[attacks['Year'].isnull()]['Date'].str.extract('([\\d]{4})').astype('float')\n",
    "\n",
    "# Remove all the rows with nulls in the year\n",
    "attacks = attacks[attacks['Year'].notna()]\n",
    "# Years before 1700 AD won't be considered\n",
    "attacks = attacks[attacks['Year'] >= 1700]\n",
    "\n",
    "# Convert to interger all the year column\n",
    "attacks['Year'] = attacks['Year'].astype(int)"
   ]
  },
  {
   "cell_type": "markdown",
   "metadata": {},
   "source": [
    "## Create a month column"
   ]
  },
  {
   "cell_type": "code",
   "execution_count": 42,
   "metadata": {
    "ExecuteTime": {
     "end_time": "2020-07-25T20:31:08.365326Z",
     "start_time": "2020-07-25T20:31:08.341099Z"
    }
   },
   "outputs": [],
   "source": [
    "# Así no funciona, creo que es porque crea dos columnas con el resultado. No sé c¿omo hacer que solo haya una columna\n",
    "#attacks['Month'] = attacks['Date'].str.extract('-([\\w]+?)-|(^[a-zA-Z]{3})')\n",
    "\n",
    "attacks['Month'] = attacks['Date'].str.extract('-([\\w]+?)-')"
   ]
  },
  {
   "cell_type": "code",
   "execution_count": 43,
   "metadata": {
    "ExecuteTime": {
     "end_time": "2020-07-25T20:31:08.865451Z",
     "start_time": "2020-07-25T20:31:08.844103Z"
    }
   },
   "outputs": [],
   "source": [
    "# La siguiente línea debería extraer los meses de la columna Date para los valores donde Month es nulo,\n",
    "# pero parece que no hace nada, pero la parte de la derecha sola si que filtra correctamente\n",
    "attacks.loc[attacks['Month'].isnull(), 'Month'] = attacks[attacks['Month'].isnull()]['Date'].str.extract('(^[a-zA-Z]{3})')"
   ]
  },
  {
   "cell_type": "code",
   "execution_count": 44,
   "metadata": {
    "ExecuteTime": {
     "end_time": "2020-07-25T20:31:09.377503Z",
     "start_time": "2020-07-25T20:31:09.359466Z"
    }
   },
   "outputs": [],
   "source": [
    "#Correct July, Ap, March and Sept months' name to 3 letters strings:\n",
    "attacks['Month'] = np.where(attacks['Month']=='July', 'Jul', \n",
    "                            np.where(attacks['Month']=='Ap', 'Apr', \n",
    "                                     np.where(attacks['Month']=='March', 'Mar', \n",
    "                                              np.where(attacks['Month']=='Sept', 'Sep', attacks['Month']))))\n",
    "# Convert months names to numbers\n",
    "look_up = { 'Jan':1, 'Feb':2, 'Mar':3, 'Apr':4, 'May':5,'Jun':6, \n",
    "           'Jul': 7, 'Aug':8, 'Sep':9, 'Oct':10, 'Nov':11, 'Dec':12}\n",
    "\n",
    "attacks['Month'] = attacks['Month'].apply(lambda x: look_up[x] if x in look_up else x)"
   ]
  },
  {
   "cell_type": "code",
   "execution_count": 45,
   "metadata": {
    "ExecuteTime": {
     "end_time": "2020-07-25T20:31:09.420616Z",
     "start_time": "2020-07-25T20:31:09.382845Z"
    }
   },
   "outputs": [
    {
     "data": {
      "text/html": [
       "<div>\n",
       "<style scoped>\n",
       "    .dataframe tbody tr th:only-of-type {\n",
       "        vertical-align: middle;\n",
       "    }\n",
       "\n",
       "    .dataframe tbody tr th {\n",
       "        vertical-align: top;\n",
       "    }\n",
       "\n",
       "    .dataframe thead th {\n",
       "        text-align: right;\n",
       "    }\n",
       "</style>\n",
       "<table border=\"1\" class=\"dataframe\">\n",
       "  <thead>\n",
       "    <tr style=\"text-align: right;\">\n",
       "      <th></th>\n",
       "      <th>Case Number</th>\n",
       "      <th>Date</th>\n",
       "      <th>Year</th>\n",
       "      <th>Country</th>\n",
       "      <th>Area</th>\n",
       "      <th>Location</th>\n",
       "      <th>Injury</th>\n",
       "      <th>Fatal (Y/N)</th>\n",
       "      <th>Month</th>\n",
       "    </tr>\n",
       "  </thead>\n",
       "  <tbody>\n",
       "    <tr>\n",
       "      <th>14</th>\n",
       "      <td>2018.05.00</td>\n",
       "      <td>May 2018</td>\n",
       "      <td>2018</td>\n",
       "      <td>AUSTRALIA</td>\n",
       "      <td>Westerm Australia</td>\n",
       "      <td>Dugong Bay</td>\n",
       "      <td>Shallow lacerations to finger PROVOKED INCIDENT</td>\n",
       "      <td>N</td>\n",
       "      <td>NaN</td>\n",
       "    </tr>\n",
       "    <tr>\n",
       "      <th>86</th>\n",
       "      <td>2017.09.14</td>\n",
       "      <td>Sep-2017</td>\n",
       "      <td>2017</td>\n",
       "      <td>AUSTRALIA</td>\n",
       "      <td>Westerm Australia</td>\n",
       "      <td>Esperance</td>\n",
       "      <td>sharks rammed boats, no injury to occupants</td>\n",
       "      <td>N</td>\n",
       "      <td>NaN</td>\n",
       "    </tr>\n",
       "    <tr>\n",
       "      <th>131</th>\n",
       "      <td>2017.06.05</td>\n",
       "      <td>2017.06.05</td>\n",
       "      <td>2017</td>\n",
       "      <td>FRENCH POLYNESIA</td>\n",
       "      <td>Marquesas</td>\n",
       "      <td>Atuona Bay, Hiva Oa Island</td>\n",
       "      <td>Injuries to hand and wrist</td>\n",
       "      <td>N</td>\n",
       "      <td>NaN</td>\n",
       "    </tr>\n",
       "    <tr>\n",
       "      <th>226</th>\n",
       "      <td>2016.09.00</td>\n",
       "      <td>Sep-2016</td>\n",
       "      <td>2016</td>\n",
       "      <td>MEXICO</td>\n",
       "      <td>NaN</td>\n",
       "      <td>Guadalupe Island</td>\n",
       "      <td>No injury to divers, white shark breached cage</td>\n",
       "      <td>NaN</td>\n",
       "      <td>NaN</td>\n",
       "    </tr>\n",
       "    <tr>\n",
       "      <th>370</th>\n",
       "      <td>2015.09.00</td>\n",
       "      <td>Sep-2015</td>\n",
       "      <td>2015</td>\n",
       "      <td>FIJI</td>\n",
       "      <td>NaN</td>\n",
       "      <td>NaN</td>\n",
       "      <td>Leg bitten</td>\n",
       "      <td>N</td>\n",
       "      <td>NaN</td>\n",
       "    </tr>\n",
       "    <tr>\n",
       "      <th>...</th>\n",
       "      <td>...</td>\n",
       "      <td>...</td>\n",
       "      <td>...</td>\n",
       "      <td>...</td>\n",
       "      <td>...</td>\n",
       "      <td>...</td>\n",
       "      <td>...</td>\n",
       "      <td>...</td>\n",
       "      <td>...</td>\n",
       "    </tr>\n",
       "    <tr>\n",
       "      <th>6158</th>\n",
       "      <td>1723.00.00</td>\n",
       "      <td>1723</td>\n",
       "      <td>1723</td>\n",
       "      <td>ROATAN</td>\n",
       "      <td>NaN</td>\n",
       "      <td>NaN</td>\n",
       "      <td>Struck on thigh</td>\n",
       "      <td>NaN</td>\n",
       "      <td>NaN</td>\n",
       "    </tr>\n",
       "    <tr>\n",
       "      <th>6159</th>\n",
       "      <td>1721.06.00</td>\n",
       "      <td>June 1721</td>\n",
       "      <td>1721</td>\n",
       "      <td>ITALY</td>\n",
       "      <td>Sardinia</td>\n",
       "      <td>Ponte della Maddelena,</td>\n",
       "      <td>FATAL,  partial remains recovered from sharks...</td>\n",
       "      <td>Y</td>\n",
       "      <td>NaN</td>\n",
       "    </tr>\n",
       "    <tr>\n",
       "      <th>6161</th>\n",
       "      <td>1700.00.00.c</td>\n",
       "      <td>1700s</td>\n",
       "      <td>1700</td>\n",
       "      <td>FRANCE</td>\n",
       "      <td>NaN</td>\n",
       "      <td>Nice</td>\n",
       "      <td>FATAL</td>\n",
       "      <td>Y</td>\n",
       "      <td>NaN</td>\n",
       "    </tr>\n",
       "    <tr>\n",
       "      <th>6162</th>\n",
       "      <td>1700.00.00.b</td>\n",
       "      <td>1700s</td>\n",
       "      <td>1700</td>\n",
       "      <td>FRANCE</td>\n",
       "      <td>Côte d'Azur</td>\n",
       "      <td>Antibes</td>\n",
       "      <td>Leg severed</td>\n",
       "      <td>N</td>\n",
       "      <td>NaN</td>\n",
       "    </tr>\n",
       "    <tr>\n",
       "      <th>6163</th>\n",
       "      <td>1700.00.00.a</td>\n",
       "      <td>1700s</td>\n",
       "      <td>1700</td>\n",
       "      <td>BARBADOS</td>\n",
       "      <td>NaN</td>\n",
       "      <td>NaN</td>\n",
       "      <td>FATAL</td>\n",
       "      <td>Y</td>\n",
       "      <td>NaN</td>\n",
       "    </tr>\n",
       "  </tbody>\n",
       "</table>\n",
       "<p>765 rows × 9 columns</p>\n",
       "</div>"
      ],
      "text/plain": [
       "       Case Number        Date  Year           Country               Area  \\\n",
       "14      2018.05.00    May 2018  2018         AUSTRALIA  Westerm Australia   \n",
       "86      2017.09.14    Sep-2017  2017         AUSTRALIA  Westerm Australia   \n",
       "131     2017.06.05  2017.06.05  2017  FRENCH POLYNESIA          Marquesas   \n",
       "226     2016.09.00    Sep-2016  2016            MEXICO                NaN   \n",
       "370     2015.09.00    Sep-2015  2015              FIJI                NaN   \n",
       "...            ...         ...   ...               ...                ...   \n",
       "6158    1723.00.00        1723  1723            ROATAN                NaN   \n",
       "6159    1721.06.00   June 1721  1721             ITALY           Sardinia   \n",
       "6161  1700.00.00.c       1700s  1700            FRANCE                NaN   \n",
       "6162  1700.00.00.b       1700s  1700            FRANCE       Côte d'Azur    \n",
       "6163  1700.00.00.a       1700s  1700          BARBADOS                NaN   \n",
       "\n",
       "                        Location  \\\n",
       "14                    Dugong Bay   \n",
       "86                     Esperance   \n",
       "131   Atuona Bay, Hiva Oa Island   \n",
       "226             Guadalupe Island   \n",
       "370                          NaN   \n",
       "...                          ...   \n",
       "6158                         NaN   \n",
       "6159      Ponte della Maddelena,   \n",
       "6161                        Nice   \n",
       "6162                     Antibes   \n",
       "6163                         NaN   \n",
       "\n",
       "                                                 Injury Fatal (Y/N) Month  \n",
       "14      Shallow lacerations to finger PROVOKED INCIDENT           N   NaN  \n",
       "86          sharks rammed boats, no injury to occupants           N   NaN  \n",
       "131                          Injuries to hand and wrist           N   NaN  \n",
       "226      No injury to divers, white shark breached cage         NaN   NaN  \n",
       "370                                          Leg bitten           N   NaN  \n",
       "...                                                 ...         ...   ...  \n",
       "6158                                    Struck on thigh         NaN   NaN  \n",
       "6159  FATAL,  partial remains recovered from sharks...           Y   NaN  \n",
       "6161                                              FATAL           Y   NaN  \n",
       "6162                                        Leg severed           N   NaN  \n",
       "6163                                              FATAL           Y   NaN  \n",
       "\n",
       "[765 rows x 9 columns]"
      ]
     },
     "execution_count": 45,
     "metadata": {},
     "output_type": "execute_result"
    }
   ],
   "source": [
    "attacks[attacks['Month'].isnull()]"
   ]
  },
  {
   "cell_type": "code",
   "execution_count": 46,
   "metadata": {
    "ExecuteTime": {
     "end_time": "2020-07-25T20:31:10.325867Z",
     "start_time": "2020-07-25T20:31:10.313784Z"
    }
   },
   "outputs": [],
   "source": [
    "# Drop nulls values\n",
    "attacks = attacks[attacks['Month'].notna()]"
   ]
  },
  {
   "cell_type": "code",
   "execution_count": 47,
   "metadata": {
    "ExecuteTime": {
     "end_time": "2020-07-25T20:31:10.341316Z",
     "start_time": "2020-07-25T20:31:10.330304Z"
    }
   },
   "outputs": [],
   "source": [
    "# Convert all the values to integers\n",
    "attacks['Month'] = attacks['Month'].astype('int')"
   ]
  },
  {
   "cell_type": "markdown",
   "metadata": {},
   "source": [
    "There are some months that in fact they are days, so we need to correct them:"
   ]
  },
  {
   "cell_type": "code",
   "execution_count": 48,
   "metadata": {
    "ExecuteTime": {
     "end_time": "2020-07-25T20:31:11.897424Z",
     "start_time": "2020-07-25T20:31:11.887347Z"
    }
   },
   "outputs": [
    {
     "data": {
      "text/plain": [
       "array([ 6,  5,  4,  3,  2,  1, 12, 11, 10,  9,  8,  7, 30, 26, 24, 17, 13,\n",
       "       28])"
      ]
     },
     "execution_count": 48,
     "metadata": {},
     "output_type": "execute_result"
    }
   ],
   "source": [
    "pd.unique(attacks['Month'])"
   ]
  },
  {
   "cell_type": "code",
   "execution_count": 49,
   "metadata": {
    "ExecuteTime": {
     "end_time": "2020-07-25T20:31:12.811066Z",
     "start_time": "2020-07-25T20:31:12.787787Z"
    }
   },
   "outputs": [
    {
     "data": {
      "text/html": [
       "<div>\n",
       "<style scoped>\n",
       "    .dataframe tbody tr th:only-of-type {\n",
       "        vertical-align: middle;\n",
       "    }\n",
       "\n",
       "    .dataframe tbody tr th {\n",
       "        vertical-align: top;\n",
       "    }\n",
       "\n",
       "    .dataframe thead th {\n",
       "        text-align: right;\n",
       "    }\n",
       "</style>\n",
       "<table border=\"1\" class=\"dataframe\">\n",
       "  <thead>\n",
       "    <tr style=\"text-align: right;\">\n",
       "      <th></th>\n",
       "      <th>Case Number</th>\n",
       "      <th>Date</th>\n",
       "      <th>Year</th>\n",
       "      <th>Country</th>\n",
       "      <th>Area</th>\n",
       "      <th>Location</th>\n",
       "      <th>Injury</th>\n",
       "      <th>Fatal (Y/N)</th>\n",
       "      <th>Month</th>\n",
       "    </tr>\n",
       "  </thead>\n",
       "  <tbody>\n",
       "    <tr>\n",
       "      <th>3048</th>\n",
       "      <td>1980.12.30</td>\n",
       "      <td>12-30-1980</td>\n",
       "      <td>1980</td>\n",
       "      <td>SOUTH AFRICA</td>\n",
       "      <td>Eastern Cape Province</td>\n",
       "      <td>Nahoon</td>\n",
       "      <td>No injury, paddleski bitten</td>\n",
       "      <td>N</td>\n",
       "      <td>30</td>\n",
       "    </tr>\n",
       "    <tr>\n",
       "      <th>5701</th>\n",
       "      <td>1890.06.26</td>\n",
       "      <td>06-26-1890</td>\n",
       "      <td>1890</td>\n",
       "      <td>CROATIA</td>\n",
       "      <td>NaN</td>\n",
       "      <td>Fiume</td>\n",
       "      <td>Legs severed</td>\n",
       "      <td>N</td>\n",
       "      <td>26</td>\n",
       "    </tr>\n",
       "    <tr>\n",
       "      <th>6125</th>\n",
       "      <td>1806.04.24</td>\n",
       "      <td>Aug-24-1806</td>\n",
       "      <td>1896</td>\n",
       "      <td>USA</td>\n",
       "      <td>NaN</td>\n",
       "      <td>NaN</td>\n",
       "      <td>Shark scavenged on the dead sailors</td>\n",
       "      <td>NaN</td>\n",
       "      <td>24</td>\n",
       "    </tr>\n",
       "    <tr>\n",
       "      <th>6128</th>\n",
       "      <td>1803.05.17</td>\n",
       "      <td>May-17-1803</td>\n",
       "      <td>1803</td>\n",
       "      <td>USA</td>\n",
       "      <td>South Carolina</td>\n",
       "      <td>Off Charleston</td>\n",
       "      <td>No injury</td>\n",
       "      <td>N</td>\n",
       "      <td>17</td>\n",
       "    </tr>\n",
       "    <tr>\n",
       "      <th>6130</th>\n",
       "      <td>1802.04.13.R</td>\n",
       "      <td>Reported Apr-13-1802</td>\n",
       "      <td>1802</td>\n",
       "      <td>INDIA</td>\n",
       "      <td>NaN</td>\n",
       "      <td>NaN</td>\n",
       "      <td>FATAL</td>\n",
       "      <td>Y</td>\n",
       "      <td>13</td>\n",
       "    </tr>\n",
       "    <tr>\n",
       "      <th>6133</th>\n",
       "      <td>1797.05.28.R</td>\n",
       "      <td>Reported May-28-1797</td>\n",
       "      <td>1797</td>\n",
       "      <td>NaN</td>\n",
       "      <td>NaN</td>\n",
       "      <td>NaN</td>\n",
       "      <td>FATAL</td>\n",
       "      <td>Y</td>\n",
       "      <td>28</td>\n",
       "    </tr>\n",
       "  </tbody>\n",
       "</table>\n",
       "</div>"
      ],
      "text/plain": [
       "       Case Number                  Date  Year       Country  \\\n",
       "3048    1980.12.30            12-30-1980  1980  SOUTH AFRICA   \n",
       "5701    1890.06.26            06-26-1890  1890       CROATIA   \n",
       "6125    1806.04.24           Aug-24-1806  1896           USA   \n",
       "6128    1803.05.17           May-17-1803  1803           USA   \n",
       "6130  1802.04.13.R  Reported Apr-13-1802  1802         INDIA   \n",
       "6133  1797.05.28.R  Reported May-28-1797  1797           NaN   \n",
       "\n",
       "                       Area        Location  \\\n",
       "3048  Eastern Cape Province          Nahoon   \n",
       "5701                    NaN           Fiume   \n",
       "6125                    NaN             NaN   \n",
       "6128         South Carolina  Off Charleston   \n",
       "6130                    NaN             NaN   \n",
       "6133                    NaN             NaN   \n",
       "\n",
       "                                   Injury Fatal (Y/N)  Month  \n",
       "3048          No injury, paddleski bitten           N     30  \n",
       "5701                        Legs severed            N     26  \n",
       "6125  Shark scavenged on the dead sailors         NaN     24  \n",
       "6128                            No injury           N     17  \n",
       "6130                                FATAL           Y     13  \n",
       "6133                                FATAL           Y     28  "
      ]
     },
     "execution_count": 49,
     "metadata": {},
     "output_type": "execute_result"
    }
   ],
   "source": [
    "# Here we can see the month each of these 6 rows should have had\n",
    "attacks[attacks['Month'] >12]"
   ]
  },
  {
   "cell_type": "code",
   "execution_count": 50,
   "metadata": {
    "ExecuteTime": {
     "end_time": "2020-07-25T20:31:13.890303Z",
     "start_time": "2020-07-25T20:31:13.866020Z"
    }
   },
   "outputs": [],
   "source": [
    "attacks.loc[attacks['Month'] == 30,'Month'] = 12\n",
    "attacks.loc[attacks['Month'] == 26,'Month'] = 6\n",
    "attacks.loc[attacks['Month'] == 24,'Month'] = 8\n",
    "attacks.loc[attacks['Month'] == 17,'Month'] = 5\n",
    "attacks.loc[attacks['Month'] == 13,'Month'] = 4"
   ]
  },
  {
   "cell_type": "markdown",
   "metadata": {},
   "source": [
    "## Clean countries' column"
   ]
  },
  {
   "cell_type": "code",
   "execution_count": 51,
   "metadata": {
    "ExecuteTime": {
     "end_time": "2020-07-25T20:31:16.993145Z",
     "start_time": "2020-07-25T20:31:16.982725Z"
    }
   },
   "outputs": [
    {
     "data": {
      "text/plain": [
       "array(['USA', 'AUSTRALIA', 'MEXICO', 'BRAZIL', 'ENGLAND', 'SOUTH AFRICA',\n",
       "       'THAILAND', 'COSTA RICA', 'MALDIVES', 'BAHAMAS', 'NEW CALEDONIA',\n",
       "       'ECUADOR', 'MALAYSIA', 'LIBYA', nan, 'CUBA', 'MAURITIUS',\n",
       "       'NEW ZEALAND', 'SPAIN', 'SAMOA', 'SOLOMON ISLANDS', 'JAPAN',\n",
       "       'EGYPT', 'ST HELENA, British overseas territory', 'COMOROS',\n",
       "       'REUNION', 'UNITED KINGDOM', 'UNITED ARAB EMIRATES', 'PHILIPPINES',\n",
       "       'INDONESIA', 'FRENCH POLYNESIA', 'CHINA', 'COLUMBIA', 'CAPE VERDE',\n",
       "       'Fiji', 'DOMINICAN REPUBLIC', 'CAYMAN ISLANDS', 'ARUBA',\n",
       "       'MOZAMBIQUE', 'PUERTO RICO', 'ITALY', 'ATLANTIC OCEAN', 'GREECE',\n",
       "       'ST. MARTIN', 'FRANCE', 'PAPUA NEW GUINEA', 'TRINIDAD & TOBAGO',\n",
       "       'KIRIBATI', 'ISRAEL', 'DIEGO GARCIA', 'TAIWAN', 'JAMAICA',\n",
       "       'PALESTINIAN TERRITORIES', 'GUAM', 'SEYCHELLES', 'BELIZE',\n",
       "       'NIGERIA', 'TONGA', 'SCOTLAND', 'CANADA', 'CROATIA', 'FIJI',\n",
       "       'SAUDI ARABIA', 'CHILE', 'ANTIGUA', 'KENYA', 'RUSSIA',\n",
       "       'TURKS & CAICOS', 'UNITED ARAB EMIRATES (UAE)', 'AZORES',\n",
       "       'SOUTH KOREA', 'MALTA', 'VIETNAM', 'MADAGASCAR', 'PANAMA',\n",
       "       'SOMALIA', 'NEVIS', 'BRITISH VIRGIN ISLANDS', 'NORWAY', 'YEMEN',\n",
       "       'Sierra Leone', 'ST. MAARTIN', 'GRAND CAYMAN', 'Seychelles',\n",
       "       'LIBERIA', 'VANUATU', 'MEXICO ', 'HONDURAS', 'VENEZUELA',\n",
       "       'SRI LANKA', ' TONGA', 'URUGUAY', 'INDIA', 'MICRONESIA', 'OKINAWA',\n",
       "       'TANZANIA', 'MARSHALL ISLANDS', 'EGYPT / ISRAEL',\n",
       "       'NORTHERN ARABIAN SEA', 'HONG KONG', 'EL SALVADOR',\n",
       "       'CARIBBEAN SEA', 'BERMUDA', 'NAMIBIA', 'PORTUGAL',\n",
       "       'SOUTH CHINA SEA', 'WESTERN SAMOA', 'PACIFIC OCEAN ',\n",
       "       'BRITISH ISLES', 'PALAU', 'GRENADA', 'TURKEY', 'SINGAPORE',\n",
       "       'NEW BRITAIN', 'SUDAN', 'JOHNSTON ISLAND', 'NEW GUINEA', 'RED SEA',\n",
       "       'NORTH PACIFIC OCEAN', 'FEDERATED STATES OF MICRONESIA',\n",
       "       'ADMIRALTY ISLANDS', 'BRITISH WEST INDIES', 'SOUTH ATLANTIC OCEAN',\n",
       "       'MID ATLANTIC OCEAN', 'PERSIAN GULF', 'PACIFIC OCEAN', 'SENEGAL',\n",
       "       'NORTH SEA', 'AMERICAN SAMOA', 'ANDAMAN / NICOBAR ISLANDAS',\n",
       "       'GABON', 'MONTENEGRO', 'THE BALKANS', 'ARGENTINA', 'GUATEMALA',\n",
       "       'NETHERLANDS ANTILLES', 'NORTH ATLANTIC OCEAN', 'IRAN',\n",
       "       'NORTHERN MARIANA ISLANDS', 'IRAN / IRAQ', 'SIERRA LEONE',\n",
       "       ' PHILIPPINES', 'CENTRAL PACIFIC', 'INDIAN OCEAN',\n",
       "       'SOLOMON ISLANDS / VANUATU', 'SOUTHWEST PACIFIC OCEAN',\n",
       "       'BAY OF BENGAL', 'NICARAGUA', 'IRAQ', 'ICELAND', 'ITALY / CROATIA',\n",
       "       'BARBADOS', 'GUYANA', 'HAITI', 'IRELAND', 'KUWAIT', 'TUNISIA',\n",
       "       'YEMEN ', 'CYPRUS', 'EGYPT ', 'WEST INDIES', 'BURMA', 'LEBANON',\n",
       "       'MARTINIQUE', 'PARAGUAY', 'BRITISH NEW GUINEA', 'CEYLON',\n",
       "       'GEORGIA', 'INDIAN OCEAN?', 'GUINEA',\n",
       "       'EQUATORIAL GUINEA / CAMEROON', 'COOK ISLANDS', 'TOBAGO', 'PERU',\n",
       "       'AFRICA', 'Coast of AFRICA', 'TASMAN SEA'], dtype=object)"
      ]
     },
     "execution_count": 51,
     "metadata": {},
     "output_type": "execute_result"
    }
   ],
   "source": [
    "pd.unique(attacks['Country'])"
   ]
  },
  {
   "cell_type": "code",
   "execution_count": 53,
   "metadata": {
    "ExecuteTime": {
     "end_time": "2020-07-25T20:32:34.983445Z",
     "start_time": "2020-07-25T20:32:34.967568Z"
    }
   },
   "outputs": [
    {
     "data": {
      "text/html": [
       "<div>\n",
       "<style scoped>\n",
       "    .dataframe tbody tr th:only-of-type {\n",
       "        vertical-align: middle;\n",
       "    }\n",
       "\n",
       "    .dataframe tbody tr th {\n",
       "        vertical-align: top;\n",
       "    }\n",
       "\n",
       "    .dataframe thead th {\n",
       "        text-align: right;\n",
       "    }\n",
       "</style>\n",
       "<table border=\"1\" class=\"dataframe\">\n",
       "  <thead>\n",
       "    <tr style=\"text-align: right;\">\n",
       "      <th></th>\n",
       "      <th>Case Number</th>\n",
       "      <th>Date</th>\n",
       "      <th>Year</th>\n",
       "      <th>Country</th>\n",
       "      <th>Area</th>\n",
       "      <th>Location</th>\n",
       "      <th>Injury</th>\n",
       "      <th>Fatal (Y/N)</th>\n",
       "      <th>Month</th>\n",
       "    </tr>\n",
       "  </thead>\n",
       "  <tbody>\n",
       "  </tbody>\n",
       "</table>\n",
       "</div>"
      ],
      "text/plain": [
       "Empty DataFrame\n",
       "Columns: [Case Number, Date, Year, Country, Area, Location, Injury, Fatal (Y/N), Month]\n",
       "Index: []"
      ]
     },
     "execution_count": 53,
     "metadata": {},
     "output_type": "execute_result"
    }
   ],
   "source": [
    "attacks[attacks['Country']=='MALAYSIAAS']"
   ]
  },
  {
   "cell_type": "code",
   "execution_count": 54,
   "metadata": {
    "ExecuteTime": {
     "end_time": "2020-07-25T20:32:36.432818Z",
     "start_time": "2020-07-25T20:32:36.409773Z"
    }
   },
   "outputs": [
    {
     "data": {
      "text/html": [
       "<div>\n",
       "<style scoped>\n",
       "    .dataframe tbody tr th:only-of-type {\n",
       "        vertical-align: middle;\n",
       "    }\n",
       "\n",
       "    .dataframe tbody tr th {\n",
       "        vertical-align: top;\n",
       "    }\n",
       "\n",
       "    .dataframe thead th {\n",
       "        text-align: right;\n",
       "    }\n",
       "</style>\n",
       "<table border=\"1\" class=\"dataframe\">\n",
       "  <thead>\n",
       "    <tr style=\"text-align: right;\">\n",
       "      <th></th>\n",
       "      <th>Case Number</th>\n",
       "      <th>Date</th>\n",
       "      <th>Year</th>\n",
       "      <th>Country</th>\n",
       "      <th>Area</th>\n",
       "      <th>Location</th>\n",
       "      <th>Injury</th>\n",
       "      <th>Fatal (Y/N)</th>\n",
       "      <th>Month</th>\n",
       "    </tr>\n",
       "  </thead>\n",
       "  <tbody>\n",
       "    <tr>\n",
       "      <th>4140</th>\n",
       "      <td>1958.09.13</td>\n",
       "      <td>13-Sep-1958</td>\n",
       "      <td>1958</td>\n",
       "      <td>ANDAMAN / NICOBAR ISLANDAS</td>\n",
       "      <td>NaN</td>\n",
       "      <td>NaN</td>\n",
       "      <td>FATAL, leg bitten</td>\n",
       "      <td>Y</td>\n",
       "      <td>9</td>\n",
       "    </tr>\n",
       "  </tbody>\n",
       "</table>\n",
       "</div>"
      ],
      "text/plain": [
       "     Case Number         Date  Year                     Country Area Location  \\\n",
       "4140  1958.09.13  13-Sep-1958  1958  ANDAMAN / NICOBAR ISLANDAS  NaN      NaN   \n",
       "\n",
       "                  Injury Fatal (Y/N)  Month  \n",
       "4140  FATAL, leg bitten            Y      9  "
      ]
     },
     "execution_count": 54,
     "metadata": {},
     "output_type": "execute_result"
    }
   ],
   "source": [
    "attacks[attacks['Case Number']=='1958.09.13']"
   ]
  },
  {
   "cell_type": "markdown",
   "metadata": {},
   "source": [
    "Drop all the rows where the columns Country, Area and Location are nulls"
   ]
  },
  {
   "cell_type": "code",
   "execution_count": 55,
   "metadata": {
    "ExecuteTime": {
     "end_time": "2020-07-25T20:32:38.004201Z",
     "start_time": "2020-07-25T20:32:37.991454Z"
    }
   },
   "outputs": [],
   "source": [
    "attacks.dropna(how='all', subset=['Country','Area','Location'], inplace=True)"
   ]
  },
  {
   "cell_type": "markdown",
   "metadata": {},
   "source": [
    "Fill all the NaN in the Location and Area columns"
   ]
  },
  {
   "cell_type": "code",
   "execution_count": 56,
   "metadata": {
    "ExecuteTime": {
     "end_time": "2020-07-25T20:32:38.514051Z",
     "start_time": "2020-07-25T20:32:38.501108Z"
    }
   },
   "outputs": [],
   "source": [
    "attacks['Area'].fillna(value='Not applicable', inplace=True)\n",
    "attacks['Location'].fillna(value='Not applicable', inplace=True)"
   ]
  },
  {
   "cell_type": "code",
   "execution_count": 57,
   "metadata": {
    "ExecuteTime": {
     "end_time": "2020-07-25T20:32:39.227044Z",
     "start_time": "2020-07-25T20:32:39.008123Z"
    }
   },
   "outputs": [],
   "source": [
    "attacks.loc[attacks['Area'].str.contains('St Helena') ,'Country'] = 'SAINT HELENA'\n",
    "attacks.loc[attacks['Area'].str.contains('Sri Lanka') ,'Country'] = 'SRI LANKA'\n",
    "attacks.loc[attacks['Area'].str.contains('California|American|Hawaii|Bermuda') ,'Country'] = 'USA'\n",
    "attacks.loc[attacks['Area'].str.contains('English Channel') ,'Country'] = 'UK'\n",
    "attacks.loc[attacks['Area'].str.contains('Okinawa|Japan') ,'Country'] = 'JAPAN'\n",
    "attacks.loc[attacks['Area'].str.contains('Madagascar|Virgin Islands') ,'Country'] = 'MADAGASCAR'\n",
    "attacks.loc[attacks['Area'].str.contains('Andaman|BENGAL') ,'Country'] = 'INDIA'\n",
    "attacks.loc[attacks['Area'].str.contains('[fF]iji') ,'Country'] = 'FIJI'\n",
    "attacks.loc[attacks['Area'].str.contains('NETHERLANDS ANTILLES|Curacao') ,'Country'] = 'VENEZUELA'\n",
    "attacks.loc[attacks['Area'].str.contains('Papua') ,'Country'] = 'PAPUA NEW GUINEA'\n",
    "attacks.loc[attacks['Area'].str.contains('Ecuador') ,'Country'] = 'ECUADOR'\n",
    "attacks.loc[attacks['Area'].str.contains('Wake Island') ,'Country'] = 'PHILIPPINES'\n",
    "attacks.loc[attacks['Area'].str.contains('Mediterranean|MEDITERRANEAN') ,'Country'] = 'GREECE'\n",
    "attacks.loc[attacks['Area'].str.contains('Australia|Sydney|Colombo|Western Banks') ,'Country'] = 'AUSTRALIA'\n",
    "attacks.loc[attacks['Area'].str.contains('South Africa') ,'Country'] = 'SOUTH AFRICA'\n",
    "attacks.loc[attacks['Area'].str.contains('Java') ,'Country'] = 'INDONESIA'\n",
    "attacks.loc[attacks['Location'].str.contains('Costa Rica') ,'Country'] = 'COSTA RICA'\n",
    "attacks.loc[attacks['Location'].str.contains('Florida Strait') ,'Country'] = 'CUBA'\n",
    "attacks.loc[attacks['Location'].str.contains('Nevis') ,'Country'] = 'Saint Kitts and Nevis'\n",
    "attacks.loc[attacks['Location'].str.contains('Cape Town') ,'Country'] = 'SOUTH AFRICA'\n",
    "attacks.loc[attacks['Location'].str.contains('Hong Kong') ,'Country'] = 'HONG KONG'\n",
    "attacks.loc[attacks['Location'].str.contains('Carlisle Bay') ,'Country'] = 'DOMINICA'\n",
    "attacks.loc[attacks['Location'].str.contains('Santa Cruz') ,'Country'] = 'SPAIN'\n",
    "attacks.loc[attacks['Location'].str.contains('Île Saint-Paul') ,'Country'] = 'AUSTRALIA'\n",
    "attacks.loc[attacks['Location'].str.contains('Venezuela') ,'Country'] = 'VENEZUELA'\n",
    "attacks.loc[attacks['Location'].str.contains('Honolulu|America|New York|Bermuda') ,'Country'] = 'USA'"
   ]
  },
  {
   "cell_type": "code",
   "execution_count": 58,
   "metadata": {
    "ExecuteTime": {
     "end_time": "2020-07-25T20:32:39.709872Z",
     "start_time": "2020-07-25T20:32:39.686036Z"
    }
   },
   "outputs": [
    {
     "data": {
      "text/html": [
       "<div>\n",
       "<style scoped>\n",
       "    .dataframe tbody tr th:only-of-type {\n",
       "        vertical-align: middle;\n",
       "    }\n",
       "\n",
       "    .dataframe tbody tr th {\n",
       "        vertical-align: top;\n",
       "    }\n",
       "\n",
       "    .dataframe thead th {\n",
       "        text-align: right;\n",
       "    }\n",
       "</style>\n",
       "<table border=\"1\" class=\"dataframe\">\n",
       "  <thead>\n",
       "    <tr style=\"text-align: right;\">\n",
       "      <th></th>\n",
       "      <th>Case Number</th>\n",
       "      <th>Date</th>\n",
       "      <th>Year</th>\n",
       "      <th>Country</th>\n",
       "      <th>Area</th>\n",
       "      <th>Location</th>\n",
       "      <th>Injury</th>\n",
       "      <th>Fatal (Y/N)</th>\n",
       "      <th>Month</th>\n",
       "    </tr>\n",
       "  </thead>\n",
       "  <tbody>\n",
       "    <tr>\n",
       "      <th>5425</th>\n",
       "      <td>1909.01.17</td>\n",
       "      <td>17-Jan-1909</td>\n",
       "      <td>1909</td>\n",
       "      <td>NaN</td>\n",
       "      <td>Not applicable</td>\n",
       "      <td>Near the equator</td>\n",
       "      <td>FATAL</td>\n",
       "      <td>NaN</td>\n",
       "      <td>1</td>\n",
       "    </tr>\n",
       "  </tbody>\n",
       "</table>\n",
       "</div>"
      ],
      "text/plain": [
       "     Case Number         Date  Year Country            Area          Location  \\\n",
       "5425  1909.01.17  17-Jan-1909  1909     NaN  Not applicable  Near the equator   \n",
       "\n",
       "     Injury Fatal (Y/N)  Month  \n",
       "5425  FATAL         NaN      1  "
      ]
     },
     "execution_count": 58,
     "metadata": {},
     "output_type": "execute_result"
    }
   ],
   "source": [
    "attacks[attacks['Country'].isnull()]"
   ]
  },
  {
   "cell_type": "markdown",
   "metadata": {},
   "source": [
    "There is still one null in the country column. Probably reading the PDF file we could figure out where the attack happened, but for now I decide to skip it."
   ]
  },
  {
   "cell_type": "code",
   "execution_count": 59,
   "metadata": {
    "ExecuteTime": {
     "end_time": "2020-07-25T20:32:45.436240Z",
     "start_time": "2020-07-25T20:32:45.427006Z"
    }
   },
   "outputs": [],
   "source": [
    "attacks = attacks[attacks['Country'].notna()]"
   ]
  },
  {
   "cell_type": "markdown",
   "metadata": {},
   "source": [
    "1) Remove parenthesis and /\n",
    "\n",
    "2) Sustitue all names of the countries for names inside the CountryInfo library"
   ]
  },
  {
   "cell_type": "code",
   "execution_count": 60,
   "metadata": {
    "ExecuteTime": {
     "end_time": "2020-07-25T20:32:49.727344Z",
     "start_time": "2020-07-25T20:32:49.556760Z"
    }
   },
   "outputs": [],
   "source": [
    "attacks['Country'] = attacks['Country'].str.replace('/ [\\w]+.|\\?','')\n",
    "attacks['Country'] = attacks['Country'].str.replace('^\\s|\\s+$','')\n",
    "attacks['Country'] = attacks['Country'].str.replace('ENGLAND|SCOTLAND|BRITISH.+ISLANDS|BRITISH ISLES','UK')\n",
    "attacks['Country'] = attacks['Country'].str.replace('^BAHAMAS','THE BAHAMAS')\n",
    "attacks['Country'] = attacks['Country'].str.replace('COLUMBIA','COLOMBIA')\n",
    "attacks['Country'] = attacks['Country'].str.replace('OKINAWA','JAPAN')\n",
    "attacks['Country'] = attacks['Country'].str.replace('AZORES','PORTUGAL')\n",
    "attacks['Country'] = attacks['Country'].str.replace('^ATLANTIC OCEAN$','NORTH ATLANTIC OCEAN')\n",
    "attacks['Country'] = attacks['Country'].str.replace('CARIBBEAN SEA|ANTIGUA|NEVIS|ST. MA*RTIN','ANGUILLA')\n",
    "attacks['Country'] = attacks['Country'].str.replace('GRAND CAYMAN','CAYMAN ISLANDS')\n",
    "attacks['Country'] = attacks['Country'].str.replace('^MICRONESIA','FEDERATED STATES OF MICRONESIA')\n",
    "attacks['Country'] = attacks['Country'].str.replace('BRITISH WEST INDIES|Coast of AFRICA','PUERTO RICO')\n",
    "attacks['Country'] = attacks['Country'].str.replace('BRITISH NEW GUINEA|NEW BRITAIN|^NEW GUINEA|ADMIRALTY ISLANDS', 'PAPUA NEW GUINEA')\n",
    "attacks['Country'] = attacks['Country'].str.replace('JOHNSTON ISLAND', 'USA') #It is next to Hawaii -> USA\n",
    "attacks['Country'] = attacks['Country'].str.replace('PERSIAN GULF', 'UNITED ARAB EMIRATES') \n",
    "attacks['Country'] = attacks['Country'].str.replace('ANDAMAN.*', 'MALAYSIA') \n",
    "attacks['Country'] = attacks['Country'].str.replace('THE BALKANS', 'SLOVENIA') \n",
    "attacks['Country'] = attacks['Country'].str.replace('CURACAO', 'VENEZUELA')  "
   ]
  },
  {
   "cell_type": "markdown",
   "metadata": {},
   "source": [
    "Complete the null values for country column using the location and area columns and drop the rest"
   ]
  },
  {
   "cell_type": "code",
   "execution_count": 61,
   "metadata": {
    "ExecuteTime": {
     "end_time": "2020-07-25T20:32:52.228960Z",
     "start_time": "2020-07-25T20:32:52.109591Z"
    }
   },
   "outputs": [],
   "source": [
    "attacks['Country'] = attacks['Country'].str.replace('Mediterranean.*?|MEDITERRANEAN.*?|CRETE', 'GREECE') \n",
    "attacks['Country'] = attacks['Country'].str.replace('BURMA', 'BANGLADESH')\n",
    "attacks['Country'] = attacks['Country'].str.replace('CEYLON', 'SRI LANKA')\n",
    "attacks['Country'] = attacks['Country'].str.replace('BAY OF BENGAL', 'INDIA')\n",
    "attacks['Country'] = attacks['Country'].str.replace('MID-PACIFC OCEAN', 'SOUTH PACIFIC OCEAN')\n",
    "attacks['Country'] = attacks['Country'].str.replace('TASMAN SEA', 'NEW ZEALAND')\n",
    "attacks['Country'] = attacks['Country'].str.replace('CENTRAL PACIFIC', 'SOUTH PACIFIC')\n",
    "attacks['Country'] = attacks['Country'].str.replace('WESTERN SAMOA', 'SAMOA')\n",
    "attacks['Country'] = attacks['Country'].str.replace('GULF OF ADEN', 'SOMALIA')\n",
    "attacks['Country'] = attacks['Country'].str.replace('MONTENEGRO', 'CROATIA')\n",
    "attacks['Country'] = attacks['Country'].str.replace('TURKS \\& CAICOS|SAN DOMINGO', 'HAITI')\n",
    "attacks['Country'] = attacks['Country'].str.replace('PALESTINIAN TERRITORIES', 'ISRAEL')\n",
    "attacks['Country'] = attacks['Country'].str.replace('DIEGO GARCIA', 'MALDIVES')\n",
    "attacks['Country'] = attacks['Country'].str.replace('TRINIDAD \\& TOBAGO|TOBAGO|VENEZUELA|WEST INDIES', 'VENEZUELA')\n",
    "attacks['Country'] = attacks['Country'].str.replace('ST HELENA, British overseas territory', 'SAINT HELENA')\n",
    "attacks['Country'] = attacks['Country'].str.replace('RED SEA', 'EGYPT')\n",
    "attacks['Country'] = attacks['Country'].str.replace('UNITED ARAB EMIRATES \\(UAE\\)', 'UNITED ARAB EMIRATES')"
   ]
  },
  {
   "cell_type": "markdown",
   "metadata": {},
   "source": [
    "Drop the locations called: \n",
    "- 'PACIFIC OCEAN', not clear if North or South hemisphere\n",
    "- AFRICA\n",
    "\n",
    "Probably looking at the pdf I could obtain the location, but for now I skip it"
   ]
  },
  {
   "cell_type": "code",
   "execution_count": 62,
   "metadata": {
    "ExecuteTime": {
     "end_time": "2020-07-25T20:32:52.934560Z",
     "start_time": "2020-07-25T20:32:52.920324Z"
    }
   },
   "outputs": [],
   "source": [
    "attacks = attacks[attacks['Country'] != 'PACIFIC OCEAN']\n",
    "attacks = attacks[attacks['Country'] != 'AFRICA']"
   ]
  },
  {
   "cell_type": "markdown",
   "metadata": {},
   "source": [
    "## Create a column called Hemisphere and indicate if the attack was in the North or South hemisphere"
   ]
  },
  {
   "cell_type": "markdown",
   "metadata": {},
   "source": [
    "Define a function to find out if a country belongs to the North or South hemisphere"
   ]
  },
  {
   "cell_type": "code",
   "execution_count": 63,
   "metadata": {
    "ExecuteTime": {
     "end_time": "2020-07-25T20:32:54.400911Z",
     "start_time": "2020-07-25T20:32:54.394212Z"
    }
   },
   "outputs": [],
   "source": [
    "def hemisphere(country):\n",
    "    if 'NORTH' in country or 'SOUTH CHINA SEA' in country:\n",
    "        return 'North'\n",
    "    elif 'SOUTH' in country or 'INDIAN OCEAN' in country:\n",
    "        return 'South'\n",
    "    elif CountryInfo(country).latlng()[0] >= 0:\n",
    "        return 'North'\n",
    "    else:\n",
    "        return 'South'"
   ]
  },
  {
   "cell_type": "code",
   "execution_count": 64,
   "metadata": {
    "ExecuteTime": {
     "end_time": "2020-07-25T20:37:01.157800Z",
     "start_time": "2020-07-25T20:32:54.989596Z"
    }
   },
   "outputs": [],
   "source": [
    "# Very slow function (~4min) - To find if there is a faster way to do this operation\n",
    "attacks['Hemisphere'] = attacks['Country'].apply(hemisphere)"
   ]
  },
  {
   "cell_type": "code",
   "execution_count": 65,
   "metadata": {
    "ExecuteTime": {
     "end_time": "2020-07-25T20:37:21.868378Z",
     "start_time": "2020-07-25T20:37:21.850545Z"
    }
   },
   "outputs": [
    {
     "data": {
      "text/plain": [
       "2017    89\n",
       "2015    85\n",
       "2013    81\n",
       "2016    79\n",
       "2014    78\n",
       "        ..\n",
       "1873     1\n",
       "1877     1\n",
       "1751     1\n",
       "1882     1\n",
       "1738     1\n",
       "Name: Year, Length: 202, dtype: int64"
      ]
     },
     "execution_count": 65,
     "metadata": {},
     "output_type": "execute_result"
    }
   ],
   "source": [
    "attacks[attacks['Hemisphere'] =='North']['Year'].value_counts()"
   ]
  },
  {
   "cell_type": "code",
   "execution_count": 66,
   "metadata": {
    "ExecuteTime": {
     "end_time": "2020-07-25T20:37:23.187848Z",
     "start_time": "2020-07-25T20:37:23.171709Z"
    }
   },
   "outputs": [
    {
     "data": {
      "text/plain": [
       "2015    56\n",
       "2011    55\n",
       "2009    55\n",
       "2016    50\n",
       "1962    48\n",
       "        ..\n",
       "1869     1\n",
       "1871     1\n",
       "1897     1\n",
       "1917     1\n",
       "1788     1\n",
       "Name: Year, Length: 179, dtype: int64"
      ]
     },
     "execution_count": 66,
     "metadata": {},
     "output_type": "execute_result"
    }
   ],
   "source": [
    "attacks[attacks['Hemisphere'] =='South']['Year'].value_counts()"
   ]
  },
  {
   "cell_type": "markdown",
   "metadata": {},
   "source": [
    "## Create a column season"
   ]
  },
  {
   "cell_type": "markdown",
   "metadata": {},
   "source": [
    "Define the months for each season and each hemisphere"
   ]
  },
  {
   "cell_type": "code",
   "execution_count": 102,
   "metadata": {
    "ExecuteTime": {
     "end_time": "2020-07-25T20:43:24.106242Z",
     "start_time": "2020-07-25T20:43:24.098097Z"
    }
   },
   "outputs": [],
   "source": [
    "n_seasons = {'Winter': [12, 1, 2],\n",
    "             'Spring': [3, 4, 5], \n",
    "             'Summer': [6, 7, 8],\n",
    "             'Autumn': [9, 10, 11]}\n",
    "\n",
    "s_seasons = {'Winter': [6, 7, 8],\n",
    "             'Spring': [9, 10, 11], \n",
    "             'Summer': [12, 1, 2],\n",
    "             'Autumn': [3, 4, 5]}"
   ]
  },
  {
   "cell_type": "markdown",
   "metadata": {},
   "source": [
    "Create the season column and fill it in depending the hemisphere and the month number"
   ]
  },
  {
   "cell_type": "code",
   "execution_count": 130,
   "metadata": {
    "ExecuteTime": {
     "end_time": "2020-07-25T20:56:27.078355Z",
     "start_time": "2020-07-25T20:56:27.068999Z"
    }
   },
   "outputs": [],
   "source": [
    "# I had defined at the beginning one function for both, but then I couldn't find a way\n",
    "# to apply to the dataframe as I need values from two columns: Hemisphere and Month\n",
    "\n",
    "def season_north(r):\n",
    "\n",
    "    if r in n_seasons['Winter']:\n",
    "        return 'Winter'\n",
    "    elif r in n_seasons['Spring']:\n",
    "        return 'Spring'\n",
    "    elif r in n_seasons['Summer']:\n",
    "        return 'Summer'\n",
    "    else:\n",
    "        return 'Autumn'\n",
    "\n",
    "def season_south(r):\n",
    "    if r in s_seasons['Winter']:\n",
    "        return 'Winter'\n",
    "    elif r in s_seasons['Spring']:\n",
    "        return 'Spring'\n",
    "    elif r in s_seasons['Summer']:\n",
    "        return 'Summer'\n",
    "    else:\n",
    "        return 'Autumn'"
   ]
  },
  {
   "cell_type": "code",
   "execution_count": 122,
   "metadata": {
    "ExecuteTime": {
     "end_time": "2020-07-25T20:53:53.752147Z",
     "start_time": "2020-07-25T20:53:53.744551Z"
    }
   },
   "outputs": [],
   "source": [
    "# Empty column for season\n",
    "attacks['Season'] = 'N'"
   ]
  },
  {
   "cell_type": "code",
   "execution_count": 128,
   "metadata": {
    "ExecuteTime": {
     "end_time": "2020-07-25T20:55:03.055385Z",
     "start_time": "2020-07-25T20:55:03.030680Z"
    }
   },
   "outputs": [],
   "source": [
    "attacks.loc[attacks['Hemisphere']=='North','Season'] = attacks[attacks['Hemisphere']=='North']['Month'].apply(season_north)\n",
    "attacks.loc[attacks['Hemisphere']=='South','Season'] = attacks[attacks['Hemisphere']=='South']['Month'].apply(season_south)"
   ]
  },
  {
   "cell_type": "code",
   "execution_count": 129,
   "metadata": {
    "ExecuteTime": {
     "end_time": "2020-07-25T20:55:16.743438Z",
     "start_time": "2020-07-25T20:55:16.710620Z"
    }
   },
   "outputs": [
    {
     "data": {
      "text/html": [
       "<div>\n",
       "<style scoped>\n",
       "    .dataframe tbody tr th:only-of-type {\n",
       "        vertical-align: middle;\n",
       "    }\n",
       "\n",
       "    .dataframe tbody tr th {\n",
       "        vertical-align: top;\n",
       "    }\n",
       "\n",
       "    .dataframe thead th {\n",
       "        text-align: right;\n",
       "    }\n",
       "</style>\n",
       "<table border=\"1\" class=\"dataframe\">\n",
       "  <thead>\n",
       "    <tr style=\"text-align: right;\">\n",
       "      <th></th>\n",
       "      <th>Case Number</th>\n",
       "      <th>Date</th>\n",
       "      <th>Year</th>\n",
       "      <th>Country</th>\n",
       "      <th>Area</th>\n",
       "      <th>Location</th>\n",
       "      <th>Injury</th>\n",
       "      <th>Fatal (Y/N)</th>\n",
       "      <th>Month</th>\n",
       "      <th>Hemisphere</th>\n",
       "      <th>Season</th>\n",
       "    </tr>\n",
       "  </thead>\n",
       "  <tbody>\n",
       "    <tr>\n",
       "      <th>0</th>\n",
       "      <td>2018.06.25</td>\n",
       "      <td>25-Jun-2018</td>\n",
       "      <td>2018</td>\n",
       "      <td>USA</td>\n",
       "      <td>California</td>\n",
       "      <td>Oceanside, San Diego County</td>\n",
       "      <td>No injury to occupant, outrigger canoe and pad...</td>\n",
       "      <td>N</td>\n",
       "      <td>6</td>\n",
       "      <td>North</td>\n",
       "      <td>Summer</td>\n",
       "    </tr>\n",
       "    <tr>\n",
       "      <th>1</th>\n",
       "      <td>2018.06.18</td>\n",
       "      <td>18-Jun-2018</td>\n",
       "      <td>2018</td>\n",
       "      <td>USA</td>\n",
       "      <td>Georgia</td>\n",
       "      <td>St. Simon Island, Glynn County</td>\n",
       "      <td>Minor injury to left thigh</td>\n",
       "      <td>N</td>\n",
       "      <td>6</td>\n",
       "      <td>North</td>\n",
       "      <td>Summer</td>\n",
       "    </tr>\n",
       "    <tr>\n",
       "      <th>2</th>\n",
       "      <td>2018.06.09</td>\n",
       "      <td>09-Jun-2018</td>\n",
       "      <td>2018</td>\n",
       "      <td>USA</td>\n",
       "      <td>Hawaii</td>\n",
       "      <td>Habush, Oahu</td>\n",
       "      <td>Injury to left lower leg from surfboard skeg</td>\n",
       "      <td>N</td>\n",
       "      <td>6</td>\n",
       "      <td>North</td>\n",
       "      <td>Summer</td>\n",
       "    </tr>\n",
       "    <tr>\n",
       "      <th>3</th>\n",
       "      <td>2018.06.08</td>\n",
       "      <td>08-Jun-2018</td>\n",
       "      <td>2018</td>\n",
       "      <td>AUSTRALIA</td>\n",
       "      <td>New South Wales</td>\n",
       "      <td>Arrawarra Headland</td>\n",
       "      <td>Minor injury to lower leg</td>\n",
       "      <td>N</td>\n",
       "      <td>6</td>\n",
       "      <td>South</td>\n",
       "      <td>Winter</td>\n",
       "    </tr>\n",
       "    <tr>\n",
       "      <th>4</th>\n",
       "      <td>2018.06.04</td>\n",
       "      <td>04-Jun-2018</td>\n",
       "      <td>2018</td>\n",
       "      <td>MEXICO</td>\n",
       "      <td>Colima</td>\n",
       "      <td>La Ticla</td>\n",
       "      <td>Lacerations to leg &amp; hand shark PROVOKED INCIDENT</td>\n",
       "      <td>N</td>\n",
       "      <td>6</td>\n",
       "      <td>North</td>\n",
       "      <td>Summer</td>\n",
       "    </tr>\n",
       "    <tr>\n",
       "      <th>...</th>\n",
       "      <td>...</td>\n",
       "      <td>...</td>\n",
       "      <td>...</td>\n",
       "      <td>...</td>\n",
       "      <td>...</td>\n",
       "      <td>...</td>\n",
       "      <td>...</td>\n",
       "      <td>...</td>\n",
       "      <td>...</td>\n",
       "      <td>...</td>\n",
       "      <td>...</td>\n",
       "    </tr>\n",
       "    <tr>\n",
       "      <th>6150</th>\n",
       "      <td>1753.10.27.R</td>\n",
       "      <td>Reported 27-Oct-1753</td>\n",
       "      <td>1753</td>\n",
       "      <td>JAMAICA</td>\n",
       "      <td>Not applicable</td>\n",
       "      <td>Kingston Harbor</td>\n",
       "      <td>FATAL</td>\n",
       "      <td>Y</td>\n",
       "      <td>10</td>\n",
       "      <td>North</td>\n",
       "      <td>Autumn</td>\n",
       "    </tr>\n",
       "    <tr>\n",
       "      <th>6151</th>\n",
       "      <td>1751.07.27</td>\n",
       "      <td>27-Jul-1751</td>\n",
       "      <td>1751</td>\n",
       "      <td>USA</td>\n",
       "      <td>Massachusetts</td>\n",
       "      <td>Not applicable</td>\n",
       "      <td>FATAL</td>\n",
       "      <td>Y</td>\n",
       "      <td>7</td>\n",
       "      <td>North</td>\n",
       "      <td>Summer</td>\n",
       "    </tr>\n",
       "    <tr>\n",
       "      <th>6155</th>\n",
       "      <td>1742.12.17</td>\n",
       "      <td>17-Dec-1742</td>\n",
       "      <td>1742</td>\n",
       "      <td>DOMINICA</td>\n",
       "      <td>Not applicable</td>\n",
       "      <td>Carlisle Bay</td>\n",
       "      <td>FATAL</td>\n",
       "      <td>Y</td>\n",
       "      <td>12</td>\n",
       "      <td>North</td>\n",
       "      <td>Winter</td>\n",
       "    </tr>\n",
       "    <tr>\n",
       "      <th>6156</th>\n",
       "      <td>1738.04.06.R</td>\n",
       "      <td>Reported 06-Apr-1738</td>\n",
       "      <td>1738</td>\n",
       "      <td>ITALY</td>\n",
       "      <td>Sicily</td>\n",
       "      <td>Strait of Messina</td>\n",
       "      <td>FATAL</td>\n",
       "      <td>Y</td>\n",
       "      <td>4</td>\n",
       "      <td>North</td>\n",
       "      <td>Spring</td>\n",
       "    </tr>\n",
       "    <tr>\n",
       "      <th>6160</th>\n",
       "      <td>1703.03.26</td>\n",
       "      <td>26-Mar-1703</td>\n",
       "      <td>1703</td>\n",
       "      <td>DOMINICA</td>\n",
       "      <td>Southwest coast</td>\n",
       "      <td>Carlisle Bay</td>\n",
       "      <td>Hand and foot severely bitten, surgically ampu...</td>\n",
       "      <td>N</td>\n",
       "      <td>3</td>\n",
       "      <td>North</td>\n",
       "      <td>Spring</td>\n",
       "    </tr>\n",
       "  </tbody>\n",
       "</table>\n",
       "<p>5370 rows × 11 columns</p>\n",
       "</div>"
      ],
      "text/plain": [
       "       Case Number                  Date  Year    Country             Area  \\\n",
       "0       2018.06.25           25-Jun-2018  2018        USA       California   \n",
       "1       2018.06.18           18-Jun-2018  2018        USA          Georgia   \n",
       "2       2018.06.09           09-Jun-2018  2018        USA           Hawaii   \n",
       "3       2018.06.08           08-Jun-2018  2018  AUSTRALIA  New South Wales   \n",
       "4       2018.06.04           04-Jun-2018  2018     MEXICO           Colima   \n",
       "...            ...                   ...   ...        ...              ...   \n",
       "6150  1753.10.27.R  Reported 27-Oct-1753  1753    JAMAICA   Not applicable   \n",
       "6151    1751.07.27           27-Jul-1751  1751        USA    Massachusetts   \n",
       "6155    1742.12.17           17-Dec-1742  1742   DOMINICA   Not applicable   \n",
       "6156  1738.04.06.R  Reported 06-Apr-1738  1738      ITALY           Sicily   \n",
       "6160    1703.03.26           26-Mar-1703  1703   DOMINICA  Southwest coast   \n",
       "\n",
       "                            Location  \\\n",
       "0        Oceanside, San Diego County   \n",
       "1     St. Simon Island, Glynn County   \n",
       "2                       Habush, Oahu   \n",
       "3                 Arrawarra Headland   \n",
       "4                           La Ticla   \n",
       "...                              ...   \n",
       "6150                 Kingston Harbor   \n",
       "6151                  Not applicable   \n",
       "6155                    Carlisle Bay   \n",
       "6156               Strait of Messina   \n",
       "6160                    Carlisle Bay   \n",
       "\n",
       "                                                 Injury Fatal (Y/N)  Month  \\\n",
       "0     No injury to occupant, outrigger canoe and pad...           N      6   \n",
       "1                            Minor injury to left thigh           N      6   \n",
       "2          Injury to left lower leg from surfboard skeg           N      6   \n",
       "3                             Minor injury to lower leg           N      6   \n",
       "4     Lacerations to leg & hand shark PROVOKED INCIDENT           N      6   \n",
       "...                                                 ...         ...    ...   \n",
       "6150                                              FATAL           Y     10   \n",
       "6151                                              FATAL           Y      7   \n",
       "6155                                              FATAL           Y     12   \n",
       "6156                                              FATAL           Y      4   \n",
       "6160  Hand and foot severely bitten, surgically ampu...           N      3   \n",
       "\n",
       "     Hemisphere  Season  \n",
       "0         North  Summer  \n",
       "1         North  Summer  \n",
       "2         North  Summer  \n",
       "3         South  Winter  \n",
       "4         North  Summer  \n",
       "...         ...     ...  \n",
       "6150      North  Autumn  \n",
       "6151      North  Summer  \n",
       "6155      North  Winter  \n",
       "6156      North  Spring  \n",
       "6160      North  Spring  \n",
       "\n",
       "[5370 rows x 11 columns]"
      ]
     },
     "execution_count": 129,
     "metadata": {},
     "output_type": "execute_result"
    }
   ],
   "source": [
    "attacks"
   ]
  },
  {
   "cell_type": "markdown",
   "metadata": {},
   "source": [
    "## Create a column year_by_50\n",
    "To group the time period in groups of 50 years"
   ]
  },
  {
   "cell_type": "code",
   "execution_count": 279,
   "metadata": {
    "ExecuteTime": {
     "end_time": "2020-07-25T22:04:06.630735Z",
     "start_time": "2020-07-25T22:04:06.624077Z"
    }
   },
   "outputs": [],
   "source": [
    "def group_year(y):\n",
    "    if y <= 1800:\n",
    "        return 1800\n",
    "    for x in range(1850,2100,50):\n",
    "        if y<=x:\n",
    "            return x"
   ]
  },
  {
   "cell_type": "code",
   "execution_count": 287,
   "metadata": {
    "ExecuteTime": {
     "end_time": "2020-07-25T22:05:38.755117Z",
     "start_time": "2020-07-25T22:05:38.733637Z"
    }
   },
   "outputs": [
    {
     "data": {
      "text/plain": [
       "year_by_50  Hemisphere\n",
       "1800        North           12\n",
       "            South            2\n",
       "1850        North           48\n",
       "            South           20\n",
       "1900        North          192\n",
       "            South          174\n",
       "1950        South          502\n",
       "            North          386\n",
       "2000        North         1128\n",
       "            South          974\n",
       "2050        North         1204\n",
       "            South          728\n",
       "Name: Hemisphere, dtype: int64"
      ]
     },
     "execution_count": 287,
     "metadata": {},
     "output_type": "execute_result"
    }
   ],
   "source": [
    "attacks['year_by_50'] = attacks['Year'].apply(group_year)\n",
    "attacks.groupby('year_by_50')['Hemisphere'].value_counts()"
   ]
  },
  {
   "cell_type": "code",
   "execution_count": 290,
   "metadata": {
    "ExecuteTime": {
     "end_time": "2020-07-25T22:06:35.242147Z",
     "start_time": "2020-07-25T22:06:35.216121Z"
    }
   },
   "outputs": [
    {
     "data": {
      "text/html": [
       "<div>\n",
       "<style scoped>\n",
       "    .dataframe tbody tr th:only-of-type {\n",
       "        vertical-align: middle;\n",
       "    }\n",
       "\n",
       "    .dataframe tbody tr th {\n",
       "        vertical-align: top;\n",
       "    }\n",
       "\n",
       "    .dataframe thead th {\n",
       "        text-align: right;\n",
       "    }\n",
       "</style>\n",
       "<table border=\"1\" class=\"dataframe\">\n",
       "  <thead>\n",
       "    <tr style=\"text-align: right;\">\n",
       "      <th></th>\n",
       "      <th>Case Number</th>\n",
       "      <th>Date</th>\n",
       "      <th>Year</th>\n",
       "      <th>Country</th>\n",
       "      <th>Area</th>\n",
       "      <th>Location</th>\n",
       "      <th>Injury</th>\n",
       "      <th>Fatal (Y/N)</th>\n",
       "      <th>Month</th>\n",
       "      <th>Hemisphere</th>\n",
       "      <th>Season</th>\n",
       "      <th>year_by_50</th>\n",
       "    </tr>\n",
       "  </thead>\n",
       "  <tbody>\n",
       "    <tr>\n",
       "      <th>31</th>\n",
       "      <td>2018.04.10.R</td>\n",
       "      <td>Reported 10-Apr-2018</td>\n",
       "      <td>2018</td>\n",
       "      <td>BRAZIL</td>\n",
       "      <td>Alagoas</td>\n",
       "      <td>Praia de Sauaçuhy, Maceió</td>\n",
       "      <td>Injury to ankle from marine animal trapped in ...</td>\n",
       "      <td>N</td>\n",
       "      <td>4</td>\n",
       "      <td>South</td>\n",
       "      <td>Autumn</td>\n",
       "      <td>2050</td>\n",
       "    </tr>\n",
       "    <tr>\n",
       "      <th>30</th>\n",
       "      <td>2018.04.14</td>\n",
       "      <td>14-Apr-2018</td>\n",
       "      <td>2018</td>\n",
       "      <td>THE BAHAMAS</td>\n",
       "      <td>New Providence</td>\n",
       "      <td>Nirvana Beach</td>\n",
       "      <td>No Injury. Shark swam away with the surf board</td>\n",
       "      <td>N</td>\n",
       "      <td>4</td>\n",
       "      <td>North</td>\n",
       "      <td>Spring</td>\n",
       "      <td>2050</td>\n",
       "    </tr>\n",
       "    <tr>\n",
       "      <th>29</th>\n",
       "      <td>2018.04.15.a</td>\n",
       "      <td>15-Apr-2018</td>\n",
       "      <td>2018</td>\n",
       "      <td>AUSTRALIA</td>\n",
       "      <td>Western Australia</td>\n",
       "      <td>Cobblestones, Margaret River Area</td>\n",
       "      <td>Lacerations to legs</td>\n",
       "      <td>N</td>\n",
       "      <td>4</td>\n",
       "      <td>South</td>\n",
       "      <td>Autumn</td>\n",
       "      <td>2050</td>\n",
       "    </tr>\n",
       "    <tr>\n",
       "      <th>27</th>\n",
       "      <td>2018.04.15.c</td>\n",
       "      <td>15-Apr-2018</td>\n",
       "      <td>2018</td>\n",
       "      <td>BRAZIL</td>\n",
       "      <td>Pernambuco</td>\n",
       "      <td>Piedade</td>\n",
       "      <td>Multiple severe injuries to arms and leg, leg ...</td>\n",
       "      <td>NaN</td>\n",
       "      <td>4</td>\n",
       "      <td>South</td>\n",
       "      <td>Autumn</td>\n",
       "      <td>2050</td>\n",
       "    </tr>\n",
       "    <tr>\n",
       "      <th>0</th>\n",
       "      <td>2018.06.25</td>\n",
       "      <td>25-Jun-2018</td>\n",
       "      <td>2018</td>\n",
       "      <td>USA</td>\n",
       "      <td>California</td>\n",
       "      <td>Oceanside, San Diego County</td>\n",
       "      <td>No injury to occupant, outrigger canoe and pad...</td>\n",
       "      <td>N</td>\n",
       "      <td>6</td>\n",
       "      <td>North</td>\n",
       "      <td>Summer</td>\n",
       "      <td>2050</td>\n",
       "    </tr>\n",
       "  </tbody>\n",
       "</table>\n",
       "</div>"
      ],
      "text/plain": [
       "     Case Number                  Date  Year      Country               Area  \\\n",
       "31  2018.04.10.R  Reported 10-Apr-2018  2018       BRAZIL            Alagoas   \n",
       "30    2018.04.14           14-Apr-2018  2018  THE BAHAMAS     New Providence   \n",
       "29  2018.04.15.a           15-Apr-2018  2018    AUSTRALIA  Western Australia   \n",
       "27  2018.04.15.c           15-Apr-2018  2018       BRAZIL         Pernambuco   \n",
       "0     2018.06.25           25-Jun-2018  2018          USA         California   \n",
       "\n",
       "                             Location  \\\n",
       "31          Praia de Sauaçuhy, Maceió   \n",
       "30                      Nirvana Beach   \n",
       "29  Cobblestones, Margaret River Area   \n",
       "27                            Piedade   \n",
       "0         Oceanside, San Diego County   \n",
       "\n",
       "                                               Injury Fatal (Y/N)  Month  \\\n",
       "31  Injury to ankle from marine animal trapped in ...           N      4   \n",
       "30     No Injury. Shark swam away with the surf board           N      4   \n",
       "29                                Lacerations to legs           N      4   \n",
       "27  Multiple severe injuries to arms and leg, leg ...         NaN      4   \n",
       "0   No injury to occupant, outrigger canoe and pad...           N      6   \n",
       "\n",
       "   Hemisphere  Season  year_by_50  \n",
       "31      South  Autumn        2050  \n",
       "30      North  Spring        2050  \n",
       "29      South  Autumn        2050  \n",
       "27      South  Autumn        2050  \n",
       "0       North  Summer        2050  "
      ]
     },
     "execution_count": 290,
     "metadata": {},
     "output_type": "execute_result"
    }
   ],
   "source": [
    "attacks.tail()"
   ]
  },
  {
   "cell_type": "markdown",
   "metadata": {},
   "source": [
    "## Analysis"
   ]
  },
  {
   "cell_type": "markdown",
   "metadata": {},
   "source": [
    "### Total values"
   ]
  },
  {
   "cell_type": "markdown",
   "metadata": {},
   "source": [
    "Filtering first by season only, we can see that summer is when msot of the attacks are produced:"
   ]
  },
  {
   "cell_type": "code",
   "execution_count": 140,
   "metadata": {
    "ExecuteTime": {
     "end_time": "2020-07-25T21:01:54.051806Z",
     "start_time": "2020-07-25T21:01:53.845987Z"
    }
   },
   "outputs": [
    {
     "data": {
      "text/plain": [
       "<matplotlib.axes._subplots.AxesSubplot at 0x7feb8e9a48d0>"
      ]
     },
     "execution_count": 140,
     "metadata": {},
     "output_type": "execute_result"
    },
    {
     "data": {
      "image/png": "[encoded data removed]",
      "text/plain": [
       "<Figure size 432x288 with 1 Axes>"
      ]
     },
     "metadata": {
      "needs_background": "light"
     },
     "output_type": "display_data"
    }
   ],
   "source": [
    "# Plot with the total number of attacks per season from year 1800\n",
    "attacks.Season.value_counts().plot(kind='bar')"
   ]
  },
  {
   "cell_type": "markdown",
   "metadata": {},
   "source": [
    "If we filter by season and hemisphere to check if the behaviour is the same in both places:"
   ]
  },
  {
   "cell_type": "code",
   "execution_count": 136,
   "metadata": {
    "ExecuteTime": {
     "end_time": "2020-07-25T20:57:41.658019Z",
     "start_time": "2020-07-25T20:57:41.642540Z"
    }
   },
   "outputs": [
    {
     "data": {
      "text/plain": [
       "Season  Hemisphere\n",
       "Autumn  North          818\n",
       "        South          588\n",
       "Spring  North          566\n",
       "        South          492\n",
       "Summer  North         1284\n",
       "        South          957\n",
       "Winter  South          363\n",
       "        North          302\n",
       "Name: Hemisphere, dtype: int64"
      ]
     },
     "execution_count": 136,
     "metadata": {},
     "output_type": "execute_result"
    }
   ],
   "source": [
    "attacks.groupby('Season').Hemisphere.value_counts()"
   ]
  },
  {
   "cell_type": "code",
   "execution_count": 171,
   "metadata": {
    "ExecuteTime": {
     "end_time": "2020-07-25T21:25:28.479072Z",
     "start_time": "2020-07-25T21:25:28.225927Z"
    }
   },
   "outputs": [
    {
     "data": {
      "text/plain": [
       "<matplotlib.legend.Legend at 0x7feb8f6c1f90>"
      ]
     },
     "execution_count": 171,
     "metadata": {},
     "output_type": "execute_result"
    },
    {
     "data": {
      "image/png": "[encoded data removed]",
      "text/plain": [
       "<Figure size 432x288 with 1 Axes>"
      ]
     },
     "metadata": {
      "needs_background": "light"
     },
     "output_type": "display_data"
    }
   ],
   "source": [
    "ax = attacks[attacks['Hemisphere']=='North'].Season.value_counts().plot(legend=True)\n",
    "ax = attacks[attacks['Hemisphere']=='South'].Season.value_counts().plot(legend=True)\n",
    "ax.legend(['North', 'South'])"
   ]
  },
  {
   "cell_type": "markdown",
   "metadata": {},
   "source": [
    "Above, we can see that summer is the season when most of the attacks are produced in both hemispheres, which was expected as in summer is when there are more people surfing and doing other water activities.\n",
    "\n",
    "Also it can be observed that in general in the south hemisphere the number of attacks is lower. See table below."
   ]
  },
  {
   "cell_type": "code",
   "execution_count": 316,
   "metadata": {
    "ExecuteTime": {
     "end_time": "2020-07-25T22:15:52.777232Z",
     "start_time": "2020-07-25T22:15:52.761717Z"
    }
   },
   "outputs": [
    {
     "data": {
      "text/plain": [
       "year_by_50  Hemisphere\n",
       "1800        North           12\n",
       "            South            2\n",
       "1850        North           48\n",
       "            South           20\n",
       "1900        North          192\n",
       "            South          174\n",
       "1950        South          502\n",
       "            North          386\n",
       "2000        North         1128\n",
       "            South          974\n",
       "2050        North         1204\n",
       "            South          728\n",
       "Name: Hemisphere, dtype: int64"
      ]
     },
     "execution_count": 316,
     "metadata": {},
     "output_type": "execute_result"
    }
   ],
   "source": [
    "attacks.groupby('year_by_50')['Hemisphere'].value_counts()"
   ]
  },
  {
   "cell_type": "markdown",
   "metadata": {},
   "source": [
    "Below, we can observe how the number of attacks has increased over the years in both hemispheres."
   ]
  },
  {
   "cell_type": "code",
   "execution_count": 193,
   "metadata": {
    "ExecuteTime": {
     "end_time": "2020-07-25T21:37:08.478970Z",
     "start_time": "2020-07-25T21:37:08.204040Z"
    }
   },
   "outputs": [
    {
     "data": {
      "text/plain": [
       "<matplotlib.legend.Legend at 0x7feb78933b90>"
      ]
     },
     "execution_count": 193,
     "metadata": {},
     "output_type": "execute_result"
    },
    {
     "data": {
      "image/png": "[encoded data removed]",
      "text/plain": [
       "<Figure size 432x288 with 1 Axes>"
      ]
     },
     "metadata": {
      "needs_background": "light"
     },
     "output_type": "display_data"
    }
   ],
   "source": [
    "attacks.sort_values(by='Year', inplace=True)\n",
    "ax = attacks['Year'][attacks['Hemisphere'] =='North'].value_counts().plot()\n",
    "ax = attacks[attacks['Hemisphere'] =='South']['Year'].value_counts().plot()\n",
    "ax.legend(['North', 'South'])"
   ]
  },
  {
   "cell_type": "markdown",
   "metadata": {},
   "source": [
    "The two following plots represent the total number of attacks per month per hemisphere:"
   ]
  },
  {
   "cell_type": "code",
   "execution_count": 261,
   "metadata": {
    "ExecuteTime": {
     "end_time": "2020-07-25T21:58:43.246362Z",
     "start_time": "2020-07-25T21:58:42.695373Z"
    }
   },
   "outputs": [
    {
     "data": {
      "text/plain": [
       "<matplotlib.legend.Legend at 0x7feb568f5790>"
      ]
     },
     "execution_count": 261,
     "metadata": {},
     "output_type": "execute_result"
    },
    {
     "data": {
      "image/png": "[encoded data removed]",
      "text/plain": [
       "<Figure size 432x288 with 1 Axes>"
      ]
     },
     "metadata": {
      "needs_background": "light"
     },
     "output_type": "display_data"
    },
    {
     "data": {
      "image/png": "[encoded data removed]",
      "text/plain": [
       "<Figure size 432x288 with 1 Axes>"
      ]
     },
     "metadata": {
      "needs_background": "light"
     },
     "output_type": "display_data"
    }
   ],
   "source": [
    "ax = attacks[attacks['Hemisphere']=='North'].groupby(['Month']).count().plot(kind='bar',y='Season')\n",
    "ax.legend('North')\n",
    "ax = attacks[attacks['Hemisphere']=='South'].groupby(['Month']).count().plot(kind='bar',y='Season')\n",
    "ax.legend('South')"
   ]
  },
  {
   "cell_type": "markdown",
   "metadata": {},
   "source": [
    "### Group by periods of 50 years - Seasons"
   ]
  },
  {
   "cell_type": "markdown",
   "metadata": {},
   "source": [
    "**North hemisphere by season**"
   ]
  },
  {
   "cell_type": "code",
   "execution_count": 315,
   "metadata": {
    "ExecuteTime": {
     "end_time": "2020-07-25T22:15:04.000848Z",
     "start_time": "2020-07-25T22:15:03.019788Z"
    }
   },
   "outputs": [
    {
     "data": {
      "text/plain": [
       "<matplotlib.legend.Legend at 0x7feb56ce3110>"
      ]
     },
     "execution_count": 315,
     "metadata": {},
     "output_type": "execute_result"
    },
    {
     "data": {
      "image/png": "[encoded data removed]",
      "text/plain": [
       "<Figure size 432x288 with 1 Axes>"
      ]
     },
     "metadata": {
      "needs_background": "light"
     },
     "output_type": "display_data"
    },
    {
     "data": {
      "image/png": "[encoded data removed]",
      "text/plain": [
       "<Figure size 432x288 with 1 Axes>"
      ]
     },
     "metadata": {
      "needs_background": "light"
     },
     "output_type": "display_data"
    },
    {
     "data": {
      "image/png": "[encoded data removed]",
      "text/plain": [
       "<Figure size 432x288 with 1 Axes>"
      ]
     },
     "metadata": {
      "needs_background": "light"
     },
     "output_type": "display_data"
    },
    {
     "data": {
      "image/png": "[encoded data removed]",
      "text/plain": [
       "<Figure size 432x288 with 1 Axes>"
      ]
     },
     "metadata": {
      "needs_background": "light"
     },
     "output_type": "display_data"
    }
   ],
   "source": [
    "ax = attacks[(attacks['Season']=='Summer') & (attacks['Hemisphere']=='North')].groupby(['year_by_50']).count().plot(kind='bar', y='Country')\n",
    "ax.legend('Summer')\n",
    "ax = attacks[(attacks['Season']=='Winter') & (attacks['Hemisphere']=='North')].groupby(['year_by_50']).count().plot(kind='bar', y='Country')\n",
    "ax.legend('Winter')\n",
    "ax = attacks[(attacks['Season']=='Spring') & (attacks['Hemisphere']=='North')].groupby(['year_by_50']).count().plot(kind='bar', y='Country')\n",
    "ax.legend('Spring')\n",
    "ax = attacks[(attacks['Season']=='Autumn') & (attacks['Hemisphere']=='North')].groupby(['year_by_50']).count().plot(kind='bar', y='Country')\n",
    "ax.legend('Autumn')"
   ]
  },
  {
   "cell_type": "markdown",
   "metadata": {},
   "source": [
    "**South hemisphere by season**"
   ]
  },
  {
   "cell_type": "code",
   "execution_count": 317,
   "metadata": {
    "ExecuteTime": {
     "end_time": "2020-07-25T22:17:04.673276Z",
     "start_time": "2020-07-25T22:17:03.784673Z"
    }
   },
   "outputs": [
    {
     "data": {
      "text/plain": [
       "<matplotlib.legend.Legend at 0x7feb59787310>"
      ]
     },
     "execution_count": 317,
     "metadata": {},
     "output_type": "execute_result"
    },
    {
     "data": {
      "image/png": "[encoded data removed]",
      "text/plain": [
       "<Figure size 432x288 with 1 Axes>"
      ]
     },
     "metadata": {
      "needs_background": "light"
     },
     "output_type": "display_data"
    },
    {
     "data": {
      "image/png": "[encoded data removed]",
      "text/plain": [
       "<Figure size 432x288 with 1 Axes>"
      ]
     },
     "metadata": {
      "needs_background": "light"
     },
     "output_type": "display_data"
    },
    {
     "data": {
      "image/png": "[encoded data removed]",
      "text/plain": [
       "<Figure size 432x288 with 1 Axes>"
      ]
     },
     "metadata": {
      "needs_background": "light"
     },
     "output_type": "display_data"
    },
    {
     "data": {
      "image/png": "[encoded data removed]",
      "text/plain": [
       "<Figure size 432x288 with 1 Axes>"
      ]
     },
     "metadata": {
      "needs_background": "light"
     },
     "output_type": "display_data"
    }
   ],
   "source": [
    "ax = attacks[(attacks['Season']=='Summer') & (attacks['Hemisphere']=='South')].groupby(['year_by_50']).count().plot(kind='bar', y='Country')\n",
    "ax.legend('Summer')\n",
    "ax = attacks[(attacks['Season']=='Winter') & (attacks['Hemisphere']=='South')].groupby(['year_by_50']).count().plot(kind='bar', y='Country')\n",
    "ax.legend('Winter')\n",
    "ax = attacks[(attacks['Season']=='Spring') & (attacks['Hemisphere']=='South')].groupby(['year_by_50']).count().plot(kind='bar', y='Country')\n",
    "ax.legend('Spring')\n",
    "ax = attacks[(attacks['Season']=='Autumn') & (attacks['Hemisphere']=='South')].groupby(['year_by_50']).count().plot(kind='bar', y='Country')\n",
    "ax.legend('Autumn')"
   ]
  },
  {
   "cell_type": "markdown",
   "metadata": {},
   "source": [
    "### Group by periods of 50 years - Months"
   ]
  },
  {
   "cell_type": "markdown",
   "metadata": {},
   "source": [
    "**North hemisphere**"
   ]
  },
  {
   "cell_type": "code",
   "execution_count": 321,
   "metadata": {
    "ExecuteTime": {
     "end_time": "2020-07-25T22:25:46.153560Z",
     "start_time": "2020-07-25T22:25:43.620889Z"
    }
   },
   "outputs": [
    {
     "data": {
      "text/plain": [
       "<matplotlib.legend.Legend at 0x7feb5c096490>"
      ]
     },
     "execution_count": 321,
     "metadata": {},
     "output_type": "execute_result"
    },
    {
     "data": {
      "image/png": "[encoded data removed]",
      "text/plain": [
       "<Figure size 432x288 with 1 Axes>"
      ]
     },
     "metadata": {
      "needs_background": "light"
     },
     "output_type": "display_data"
    },
    {
     "data": {
      "image/png": "[encoded data removed]",
      "text/plain": [
       "<Figure size 432x288 with 1 Axes>"
      ]
     },
     "metadata": {
      "needs_background": "light"
     },
     "output_type": "display_data"
    },
    {
     "data": {
      "image/png": "[encoded data removed]",
      "text/plain": [
       "<Figure size 432x288 with 1 Axes>"
      ]
     },
     "metadata": {
      "needs_background": "light"
     },
     "output_type": "display_data"
    },
    {
     "data": {
      "image/png": "[encoded data removed]",
      "text/plain": [
       "<Figure size 432x288 with 1 Axes>"
      ]
     },
     "metadata": {
      "needs_background": "light"
     },
     "output_type": "display_data"
    },
    {
     "data": {
      "image/png": "[encoded data removed]",
      "text/plain": [
       "<Figure size 432x288 with 1 Axes>"
      ]
     },
     "metadata": {
      "needs_background": "light"
     },
     "output_type": "display_data"
    },
    {
     "data": {
      "image/png": "[encoded data removed]",
      "text/plain": [
       "<Figure size 432x288 with 1 Axes>"
      ]
     },
     "metadata": {
      "needs_background": "light"
     },
     "output_type": "display_data"
    },
    {
     "data": {
      "image/png": "[encoded data removed]",
      "text/plain": [
       "<Figure size 432x288 with 1 Axes>"
      ]
     },
     "metadata": {
      "needs_background": "light"
     },
     "output_type": "display_data"
    },
    {
     "data": {
      "image/png": "[encoded data removed]",
      "text/plain": [
       "<Figure size 432x288 with 1 Axes>"
      ]
     },
     "metadata": {
      "needs_background": "light"
     },
     "output_type": "display_data"
    },
    {
     "data": {
      "image/png": "[encoded data removed]",
      "text/plain": [
       "<Figure size 432x288 with 1 Axes>"
      ]
     },
     "metadata": {
      "needs_background": "light"
     },
     "output_type": "display_data"
    },
    {
     "data": {
      "image/png": "[encoded data removed]",
      "text/plain": [
       "<Figure size 432x288 with 1 Axes>"
      ]
     },
     "metadata": {
      "needs_background": "light"
     },
     "output_type": "display_data"
    },
    {
     "data": {
      "image/png": "[encoded data removed]",
      "text/plain": [
       "<Figure size 432x288 with 1 Axes>"
      ]
     },
     "metadata": {
      "needs_background": "light"
     },
     "output_type": "display_data"
    },
    {
     "data": {
      "image/png": "[encoded data removed]",
      "text/plain": [
       "<Figure size 432x288 with 1 Axes>"
      ]
     },
     "metadata": {
      "needs_background": "light"
     },
     "output_type": "display_data"
    }
   ],
   "source": [
    "ax = attacks[(attacks['Month']==1) & (attacks['Hemisphere']=='North')].groupby(['year_by_50']).count().plot(kind='bar', y='Country')\n",
    "ax.legend('January')\n",
    "ax = attacks[(attacks['Month']==2) & (attacks['Hemisphere']=='North')].groupby(['year_by_50']).count().plot(kind='bar', y='Country')\n",
    "ax.legend('February')\n",
    "ax = attacks[(attacks['Month']==3) & (attacks['Hemisphere']=='North')].groupby(['year_by_50']).count().plot(kind='bar', y='Country')\n",
    "ax.legend('March')\n",
    "ax = attacks[(attacks['Month']==4) & (attacks['Hemisphere']=='North')].groupby(['year_by_50']).count().plot(kind='bar', y='Country')\n",
    "ax.legend('April')\n",
    "ax = attacks[(attacks['Month']==5) & (attacks['Hemisphere']=='North')].groupby(['year_by_50']).count().plot(kind='bar', y='Country')\n",
    "ax.legend('May')\n",
    "ax = attacks[(attacks['Month']==6) & (attacks['Hemisphere']=='North')].groupby(['year_by_50']).count().plot(kind='bar', y='Country')\n",
    "ax.legend('June')\n",
    "ax = attacks[(attacks['Month']==7) & (attacks['Hemisphere']=='North')].groupby(['year_by_50']).count().plot(kind='bar', y='Country')\n",
    "ax.legend('July')\n",
    "ax = attacks[(attacks['Month']==8) & (attacks['Hemisphere']=='North')].groupby(['year_by_50']).count().plot(kind='bar', y='Country')\n",
    "ax.legend('August')\n",
    "ax = attacks[(attacks['Month']==9) & (attacks['Hemisphere']=='North')].groupby(['year_by_50']).count().plot(kind='bar', y='Country')\n",
    "ax.legend('September')\n",
    "ax = attacks[(attacks['Month']==10) & (attacks['Hemisphere']=='North')].groupby(['year_by_50']).count().plot(kind='bar', y='Country')\n",
    "ax.legend('October')\n",
    "ax = attacks[(attacks['Month']==11) & (attacks['Hemisphere']=='North')].groupby(['year_by_50']).count().plot(kind='bar', y='Country')\n",
    "ax.legend('November')\n",
    "ax = attacks[(attacks['Month']==12) & (attacks['Hemisphere']=='North')].groupby(['year_by_50']).count().plot(kind='bar', y='Country')\n",
    "ax.legend('December')"
   ]
  },
  {
   "cell_type": "markdown",
   "metadata": {},
   "source": [
    "**South hemisphere**"
   ]
  },
  {
   "cell_type": "code",
   "execution_count": 320,
   "metadata": {
    "ExecuteTime": {
     "end_time": "2020-07-25T22:25:13.427826Z",
     "start_time": "2020-07-25T22:25:10.802707Z"
    }
   },
   "outputs": [
    {
     "data": {
      "text/plain": [
       "<matplotlib.legend.Legend at 0x7feb5b32c3d0>"
      ]
     },
     "execution_count": 320,
     "metadata": {},
     "output_type": "execute_result"
    },
    {
     "data": {
      "image/png": "[encoded data removed]",
      "text/plain": [
       "<Figure size 432x288 with 1 Axes>"
      ]
     },
     "metadata": {
      "needs_background": "light"
     },
     "output_type": "display_data"
    },
    {
     "data": {
      "image/png": "[encoded data removed]",
      "text/plain": [
       "<Figure size 432x288 with 1 Axes>"
      ]
     },
     "metadata": {
      "needs_background": "light"
     },
     "output_type": "display_data"
    },
    {
     "data": {
      "image/png": "[encoded data removed]",
      "text/plain": [
       "<Figure size 432x288 with 1 Axes>"
      ]
     },
     "metadata": {
      "needs_background": "light"
     },
     "output_type": "display_data"
    },
    {
     "data": {
      "image/png": "[encoded data removed]",
      "text/plain": [
       "<Figure size 432x288 with 1 Axes>"
      ]
     },
     "metadata": {
      "needs_background": "light"
     },
     "output_type": "display_data"
    },
    {
     "data": {
      "image/png": "[encoded data removed]",
      "text/plain": [
       "<Figure size 432x288 with 1 Axes>"
      ]
     },
     "metadata": {
      "needs_background": "light"
     },
     "output_type": "display_data"
    },
    {
     "data": {
      "image/png": "[encoded data removed]",
      "text/plain": [
       "<Figure size 432x288 with 1 Axes>"
      ]
     },
     "metadata": {
      "needs_background": "light"
     },
     "output_type": "display_data"
    },
    {
     "data": {
      "image/png": "[encoded data removed]",
      "text/plain": [
       "<Figure size 432x288 with 1 Axes>"
      ]
     },
     "metadata": {
      "needs_background": "light"
     },
     "output_type": "display_data"
    },
    {
     "data": {
      "image/png": "[encoded data removed]",
      "text/plain": [
       "<Figure size 432x288 with 1 Axes>"
      ]
     },
     "metadata": {
      "needs_background": "light"
     },
     "output_type": "display_data"
    },
    {
     "data": {
      "image/png": "[encoded data removed]",
      "text/plain": [
       "<Figure size 432x288 with 1 Axes>"
      ]
     },
     "metadata": {
      "needs_background": "light"
     },
     "output_type": "display_data"
    },
    {
     "data": {
      "image/png": "[encoded data removed]",
      "text/plain": [
       "<Figure size 432x288 with 1 Axes>"
      ]
     },
     "metadata": {
      "needs_background": "light"
     },
     "output_type": "display_data"
    },
    {
     "data": {
      "image/png": "[encoded data removed]",
      "text/plain": [
       "<Figure size 432x288 with 1 Axes>"
      ]
     },
     "metadata": {
      "needs_background": "light"
     },
     "output_type": "display_data"
    },
    {
     "data": {
      "image/png": "[encoded data removed]",
      "text/plain": [
       "<Figure size 432x288 with 1 Axes>"
      ]
     },
     "metadata": {
      "needs_background": "light"
     },
     "output_type": "display_data"
    }
   ],
   "source": [
    "ax = attacks[(attacks['Month']==1) & (attacks['Hemisphere']=='South')].groupby(['year_by_50']).count().plot(kind='bar', y='Country')\n",
    "ax.legend('January')\n",
    "ax = attacks[(attacks['Month']==2) & (attacks['Hemisphere']=='South')].groupby(['year_by_50']).count().plot(kind='bar', y='Country')\n",
    "ax.legend('February')\n",
    "ax = attacks[(attacks['Month']==3) & (attacks['Hemisphere']=='South')].groupby(['year_by_50']).count().plot(kind='bar', y='Country')\n",
    "ax.legend('March')\n",
    "ax = attacks[(attacks['Month']==4) & (attacks['Hemisphere']=='South')].groupby(['year_by_50']).count().plot(kind='bar', y='Country')\n",
    "ax.legend('April')\n",
    "ax = attacks[(attacks['Month']==5) & (attacks['Hemisphere']=='South')].groupby(['year_by_50']).count().plot(kind='bar', y='Country')\n",
    "ax.legend('May')\n",
    "ax = attacks[(attacks['Month']==6) & (attacks['Hemisphere']=='South')].groupby(['year_by_50']).count().plot(kind='bar', y='Country')\n",
    "ax.legend('June')\n",
    "ax = attacks[(attacks['Month']==7) & (attacks['Hemisphere']=='South')].groupby(['year_by_50']).count().plot(kind='bar', y='Country')\n",
    "ax.legend('July')\n",
    "ax = attacks[(attacks['Month']==8) & (attacks['Hemisphere']=='South')].groupby(['year_by_50']).count().plot(kind='bar', y='Country')\n",
    "ax.legend('August')\n",
    "ax = attacks[(attacks['Month']==9) & (attacks['Hemisphere']=='South')].groupby(['year_by_50']).count().plot(kind='bar', y='Country')\n",
    "ax.legend('September')\n",
    "ax = attacks[(attacks['Month']==10) & (attacks['Hemisphere']=='South')].groupby(['year_by_50']).count().plot(kind='bar', y='Country')\n",
    "ax.legend('October')\n",
    "ax = attacks[(attacks['Month']==11) & (attacks['Hemisphere']=='South')].groupby(['year_by_50']).count().plot(kind='bar', y='Country')\n",
    "ax.legend('November')\n",
    "ax = attacks[(attacks['Month']==12) & (attacks['Hemisphere']=='South')].groupby(['year_by_50']).count().plot(kind='bar', y='Country')\n",
    "ax.legend('December')"
   ]
  },
  {
   "cell_type": "markdown",
   "metadata": {
    "ExecuteTime": {
     "end_time": "2020-07-25T21:45:25.708532Z",
     "start_time": "2020-07-25T21:45:25.703633Z"
    }
   },
   "source": [
    "## Conclusions"
   ]
  },
  {
   "cell_type": "markdown",
   "metadata": {},
   "source": [
    "- Has the month with more attacks changed since 1700?\n",
    "\n",
    "Checking the plots, you could think that the attacks in some of the months has decreased. However, this could be due to the selected period of 50 years. MAybe it would be better to analyze it with groups of 20 years.\n"
   ]
  },
  {
   "cell_type": "markdown",
   "metadata": {},
   "source": [
    "- Has the season with more attacks changed since 1700?\n",
    "\n",
    "No, summer is the season with more attacks and it doesn't matter what hemisphere you check, the behaviour is the same."
   ]
  },
  {
   "cell_type": "markdown",
   "metadata": {},
   "source": [
    "## Export final DataFrame to csv"
   ]
  },
  {
   "cell_type": "code",
   "execution_count": 318,
   "metadata": {
    "ExecuteTime": {
     "end_time": "2020-07-25T22:19:07.322440Z",
     "start_time": "2020-07-25T22:19:07.272705Z"
    }
   },
   "outputs": [],
   "source": [
    "attacks.to_csv('data/attacks_cleaned.csv', index=False)"
   ]
  },
  {
   "cell_type": "code",
   "execution_count": null,
   "metadata": {},
   "outputs": [],
   "source": []
  }
 ],
 "metadata": {
  "kernelspec": {
   "display_name": "Python 3",
   "language": "python",
   "name": "python3"
  },
  "language_info": {
   "codemirror_mode": {
    "name": "ipython",
    "version": 3
   },
   "file_extension": ".py",
   "mimetype": "text/x-python",
   "name": "python",
   "nbconvert_exporter": "python",
   "pygments_lexer": "ipython3",
   "version": "3.7.6"
  },
  "toc": {
   "base_numbering": 1,
   "nav_menu": {
    "height": "281px",
    "width": "283px"
   },
   "number_sections": true,
   "sideBar": true,
   "skip_h1_title": true,
   "title_cell": "Table of Contents",
   "title_sidebar": "Contents",
   "toc_cell": false,
   "toc_position": {
    "height": "calc(100% - 180px)",
    "left": "10px",
    "top": "150px",
    "width": "253px"
   },
   "toc_section_display": true,
   "toc_window_display": true
  },
  "varInspector": {
   "cols": {
    "lenName": 16,
    "lenType": 16,
    "lenVar": 40
   },
   "kernels_config": {
    "python": {
     "delete_cmd_postfix": "",
     "delete_cmd_prefix": "del ",
     "library": "var_list.py",
     "varRefreshCmd": "print(var_dic_list())"
    },
    "r": {
     "delete_cmd_postfix": ") ",
     "delete_cmd_prefix": "rm(",
     "library": "var_list.r",
     "varRefreshCmd": "cat(var_dic_list()) "
    }
   },
   "types_to_exclude": [
    "module",
    "function",
    "builtin_function_or_method",
    "instance",
    "_Feature"
   ],
   "window_display": false
  }
 },
 "nbformat": 4,
 "nbformat_minor": 4
}
